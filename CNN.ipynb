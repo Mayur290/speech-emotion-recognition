{
  "nbformat": 4,
  "nbformat_minor": 0,
  "metadata": {
    "colab": {
      "name": "CNN.ipynb",
      "provenance": [],
      "collapsed_sections": [
        "ozrIljZRghfT",
        "jmT_LtSIggfU",
        "hhgzofJ_gfQk",
        "VZ42EYkrgc57",
        "6rUV2AstgY45",
        "eZQzaARmndKX"
      ],
      "toc_visible": true,
      "include_colab_link": true
    },
    "kernelspec": {
      "name": "python3",
      "display_name": "Python 3"
    },
    "accelerator": "TPU"
  },
  "cells": [
    {
      "cell_type": "markdown",
      "metadata": {
        "id": "view-in-github",
        "colab_type": "text"
      },
      "source": [
        "<a href=\"https://colab.research.google.com/github/Mayur290/speech-emotion-recognition/blob/master/CNN.ipynb\" target=\"_parent\"><img src=\"https://colab.research.google.com/assets/colab-badge.svg\" alt=\"Open In Colab\"/></a>"
      ]
    },
    {
      "cell_type": "markdown",
      "metadata": {
        "id": "S4nsA5Uk6Dmu",
        "colab_type": "text"
      },
      "source": [
        "# Initial setup"
      ]
    },
    {
      "cell_type": "code",
      "metadata": {
        "id": "0u9_LzxohAKn",
        "colab_type": "code",
        "outputId": "834c4f41-fc82-4603-967d-66ebe88b4859",
        "colab": {
          "base_uri": "https://localhost:8080/",
          "height": 52
        }
      },
      "source": [
        "!pip install python_speech_features\n",
        "!pip install audiolazy"
      ],
      "execution_count": 10,
      "outputs": [
        {
          "output_type": "stream",
          "text": [
            "Requirement already satisfied: python_speech_features in /usr/local/lib/python3.6/dist-packages (0.6)\n",
            "Requirement already satisfied: audiolazy in /usr/local/lib/python3.6/dist-packages (0.6)\n"
          ],
          "name": "stdout"
        }
      ]
    },
    {
      "cell_type": "code",
      "metadata": {
        "id": "5UJbK5X8hC02",
        "colab_type": "code",
        "colab": {}
      },
      "source": [
        "from python_speech_features import mfcc, fbank, logfbank, ssc\n",
        "import numpy as np\n",
        "import pandas as pd\n",
        "import matplotlib.pyplot as plt\n",
        "import os\n",
        "from google.colab import drive, files\n",
        "from sklearn.model_selection import train_test_split\n",
        "from sklearn.impute import SimpleImputer\n",
        "from sklearn.utils import shuffle\n",
        "from sklearn.preprocessing import LabelEncoder\n",
        "from sklearn.metrics import confusion_matrix, accuracy_score\n",
        "\n",
        "from sklearn.neighbors import KNeighborsClassifier\n",
        "from sklearn.svm import SVC\n",
        "\n",
        "# FOR LPC FEATURE EXTRACTION\n",
        "import wave\n",
        "import scipy.io.wavfile as wav\n",
        "from scipy import signal\n",
        "import scipy as sk\n",
        "from audiolazy import *\n",
        "from audiolazy import lpc\n",
        "from sklearn import preprocessing\n",
        "import scipy.signal as sig\n",
        "import scipy.linalg as linalg\n"
      ],
      "execution_count": 0,
      "outputs": []
    },
    {
      "cell_type": "code",
      "metadata": {
        "id": "audw9VefhFNy",
        "colab_type": "code",
        "outputId": "bd978032-16db-466f-d11d-b5f2a67ce190",
        "colab": {
          "base_uri": "https://localhost:8080/",
          "height": 54
        }
      },
      "source": [
        "drive.mount('/content/gdrive')"
      ],
      "execution_count": 12,
      "outputs": [
        {
          "output_type": "stream",
          "text": [
            "Drive already mounted at /content/gdrive; to attempt to forcibly remount, call drive.mount(\"/content/gdrive\", force_remount=True).\n"
          ],
          "name": "stdout"
        }
      ]
    },
    {
      "cell_type": "code",
      "metadata": {
        "id": "SMVs8UKt7agI",
        "colab_type": "code",
        "colab": {}
      },
      "source": [
        "import keras\n",
        "import numpy as np\n",
        "import matplotlib.pyplot as plt\n",
        "import tensorflow as tf\n",
        "from keras.preprocessing import sequence\n",
        "from keras.models import Sequential\n",
        "from keras.layers import Dense, Embedding\n",
        "from keras.utils import to_categorical\n",
        "from keras.layers import Input, Flatten, Dropout, Activation\n",
        "from keras.layers import Conv1D, MaxPooling1D\n",
        "from keras.models import Model\n",
        "from keras.callbacks import ModelCheckpoint\n",
        "from keras.layers.normalization import BatchNormalization"
      ],
      "execution_count": 0,
      "outputs": []
    },
    {
      "cell_type": "markdown",
      "metadata": {
        "id": "3A9pXMXMhfyX",
        "colab_type": "text"
      },
      "source": [
        "# Loading data"
      ]
    },
    {
      "cell_type": "code",
      "metadata": {
        "id": "V0699q6jhtLX",
        "colab_type": "code",
        "colab": {}
      },
      "source": [
        "# Loading the saved data\n",
        "X_mfcc_ssc_lpc1 = pd.DataFrame(np.load('/content/gdrive/My Drive/Minor_Sem6/features_data/X_mfcc_ssc_lpc.npy', allow_pickle=True))\n",
        "X_mfcc_ssc1 = pd.DataFrame(np.load('/content/gdrive/My Drive/Minor_Sem6/features_data/X_mfcc_ssc.npy', allow_pickle=True))\n",
        "X_mfcc_lpc1 = pd.DataFrame(np.load('/content/gdrive/My Drive/Minor_Sem6/features_data/X_mfcc_lpc.npy', allow_pickle=True))\n",
        "X_ssc_lpc1 = pd.DataFrame(np.load('/content/gdrive/My Drive/Minor_Sem6/features_data/X_ssc_lpc.npy', allow_pickle=True))\n",
        "X_mfcc1 = pd.DataFrame(np.load('/content/gdrive/My Drive/Minor_Sem6/features_data/X_mfcc.npy', allow_pickle=True))\n",
        "X_ssc1 = pd.DataFrame(np.load('/content/gdrive/My Drive/Minor_Sem6/features_data/X_ssc.npy', allow_pickle=True))\n",
        "X_lpc1 = pd.DataFrame(np.load('/content/gdrive/My Drive/Minor_Sem6/features_data/X_lpc.npy', allow_pickle=True))\n",
        "y1 = pd.DataFrame(np.load('/content/gdrive/My Drive/Minor_Sem6/features_data/y.npy', allow_pickle=True))"
      ],
      "execution_count": 0,
      "outputs": []
    },
    {
      "cell_type": "code",
      "metadata": {
        "id": "zN3prz7whvlB",
        "colab_type": "code",
        "colab": {}
      },
      "source": [
        "# Scaling the data\n",
        "from sklearn.model_selection import train_test_split\n",
        "from sklearn.preprocessing import StandardScaler\n",
        "sc = StandardScaler()\n",
        "X_mfcc_ssc_lpc1 = sc.fit_transform(X_mfcc_ssc_lpc1)\n",
        "X_mfcc_ssc1 = sc.fit_transform(X_mfcc_ssc1)\n",
        "X_mfcc_lpc1 = sc.fit_transform(X_mfcc_lpc1)\n",
        "X_ssc_lpc1 = sc.fit_transform(X_ssc_lpc1)\n",
        "X_mfcc1 = sc.fit_transform(X_mfcc1)\n",
        "X_ssc1 = sc.fit_transform(X_ssc1)\n",
        "X_lpc1 = sc.fit_transform(X_lpc1)\n",
        "\n",
        "\n"
      ],
      "execution_count": 0,
      "outputs": []
    },
    {
      "cell_type": "markdown",
      "metadata": {
        "id": "03sXSEAK6Ypz",
        "colab_type": "text"
      },
      "source": [
        "# Training CNN model\n",
        "\n",
        "---\n",
        "\n"
      ]
    },
    {
      "cell_type": "markdown",
      "metadata": {
        "colab_type": "text",
        "id": "ozrIljZRghfT"
      },
      "source": [
        "# mfcc+ssc+lpc"
      ]
    },
    {
      "cell_type": "code",
      "metadata": {
        "colab_type": "code",
        "id": "x1362D1TghfV",
        "colab": {}
      },
      "source": [
        "# Considering only mfcc+ssc+lpc\n",
        "\n",
        "X_train_mfcc_ssc_lpc, X_test_mfcc_ssc_lpc, y_train_mfcc_ssc_lpc, y_test_mfcc_ssc_lpc = train_test_split(X_mfcc_ssc_lpc1, y1, test_size=0.2, random_state=0)\n",
        "x_traincnn =np.expand_dims(X_train_mfcc_ssc_lpc, axis=2)\n",
        "x_testcnn= np.expand_dims(X_test_mfcc_ssc_lpc, axis=2)\n"
      ],
      "execution_count": 0,
      "outputs": []
    },
    {
      "cell_type": "code",
      "metadata": {
        "colab_type": "code",
        "outputId": "4971a951-0224-4c59-ccd4-89b8e6caaaa9",
        "id": "TAH-OPRbghfb",
        "colab": {
          "base_uri": "https://localhost:8080/",
          "height": 34
        }
      },
      "source": [
        "print(X_train_mfcc_ssc_lpc.shape[1])"
      ],
      "execution_count": 16,
      "outputs": [
        {
          "output_type": "stream",
          "text": [
            "286\n"
          ],
          "name": "stdout"
        }
      ]
    },
    {
      "cell_type": "code",
      "metadata": {
        "colab_type": "code",
        "id": "FFQRTdGxghfk",
        "colab": {}
      },
      "source": [
        "model = Sequential()\n",
        "\n",
        "model.add(Conv1D(256, 5,padding='same',input_shape=(286,1)))\n",
        "model.add(Activation('relu'))\n",
        "model.add(Dropout(0.1))\n",
        "model.add(MaxPooling1D(pool_size=(8)))\n",
        "\n",
        "model.add(Conv1D(128, 5,padding='same',))\n",
        "model.add(BatchNormalization())                  \n",
        "model.add(Activation('relu'))\n",
        "model.add(MaxPooling1D(pool_size=(8)))\n",
        "model.add(Dropout(0.1))\n",
        "\n",
        "model.add(Conv1D(128, 5,padding='same',))                  \n",
        "model.add(Activation('relu'))\n",
        "model.add(Dropout(0.1))\n",
        "\n",
        "model.add(Conv1D(128, 5,padding='same',)) \n",
        "model.add(BatchNormalization())                 \n",
        "model.add(Activation('relu'))\n",
        "model.add(Dropout(0.1))\n",
        "\n",
        "model.add(Flatten())\n",
        "model.add(Dense(8))                                                           \n",
        "model.add(Activation('softmax'))\n",
        "opt = keras.optimizers.rmsprop(lr=0.00005,epsilon=1e-08,rho=0.9,decay=0.0)"
      ],
      "execution_count": 0,
      "outputs": []
    },
    {
      "cell_type": "code",
      "metadata": {
        "colab_type": "code",
        "outputId": "af955fb9-299c-4013-8c30-5447a183aaa5",
        "id": "XP-PYf3Tghft",
        "colab": {
          "base_uri": "https://localhost:8080/",
          "height": 816
        }
      },
      "source": [
        "model.summary()"
      ],
      "execution_count": 22,
      "outputs": [
        {
          "output_type": "stream",
          "text": [
            "Model: \"sequential_2\"\n",
            "_________________________________________________________________\n",
            "Layer (type)                 Output Shape              Param #   \n",
            "=================================================================\n",
            "conv1d_3 (Conv1D)            (None, 286, 256)          1536      \n",
            "_________________________________________________________________\n",
            "activation_2 (Activation)    (None, 286, 256)          0         \n",
            "_________________________________________________________________\n",
            "dropout_2 (Dropout)          (None, 286, 256)          0         \n",
            "_________________________________________________________________\n",
            "max_pooling1d_2 (MaxPooling1 (None, 35, 256)           0         \n",
            "_________________________________________________________________\n",
            "conv1d_4 (Conv1D)            (None, 35, 128)           163968    \n",
            "_________________________________________________________________\n",
            "batch_normalization_1 (Batch (None, 35, 128)           512       \n",
            "_________________________________________________________________\n",
            "activation_3 (Activation)    (None, 35, 128)           0         \n",
            "_________________________________________________________________\n",
            "max_pooling1d_3 (MaxPooling1 (None, 4, 128)            0         \n",
            "_________________________________________________________________\n",
            "dropout_3 (Dropout)          (None, 4, 128)            0         \n",
            "_________________________________________________________________\n",
            "conv1d_5 (Conv1D)            (None, 4, 128)            82048     \n",
            "_________________________________________________________________\n",
            "activation_4 (Activation)    (None, 4, 128)            0         \n",
            "_________________________________________________________________\n",
            "dropout_4 (Dropout)          (None, 4, 128)            0         \n",
            "_________________________________________________________________\n",
            "conv1d_6 (Conv1D)            (None, 4, 128)            82048     \n",
            "_________________________________________________________________\n",
            "batch_normalization_2 (Batch (None, 4, 128)            512       \n",
            "_________________________________________________________________\n",
            "activation_5 (Activation)    (None, 4, 128)            0         \n",
            "_________________________________________________________________\n",
            "dropout_5 (Dropout)          (None, 4, 128)            0         \n",
            "_________________________________________________________________\n",
            "flatten_1 (Flatten)          (None, 512)               0         \n",
            "_________________________________________________________________\n",
            "dense_1 (Dense)              (None, 8)                 4104      \n",
            "_________________________________________________________________\n",
            "activation_6 (Activation)    (None, 8)                 0         \n",
            "=================================================================\n",
            "Total params: 334,728\n",
            "Trainable params: 334,216\n",
            "Non-trainable params: 512\n",
            "_________________________________________________________________\n"
          ],
          "name": "stdout"
        }
      ]
    },
    {
      "cell_type": "code",
      "metadata": {
        "colab_type": "code",
        "outputId": "19ebe129-0ef5-45e6-aeed-4b35812620bc",
        "id": "4xzHGY3Hghfz",
        "colab": {
          "base_uri": "https://localhost:8080/",
          "height": 1000
        }
      },
      "source": [
        "model.compile(loss='sparse_categorical_crossentropy', optimizer=opt,metrics=['accuracy'])\n",
        "cnnhistory=model.fit(x_traincnn, y_train_mfcc_ssc_lpc, batch_size=20, epochs=150, validation_data=(x_testcnn, y_test_mfcc_ssc_lpc))\n",
        "model.save('/content/gdrive/My Drive/feature/MFCC_SSC_LPC.h5')"
      ],
      "execution_count": 0,
      "outputs": [
        {
          "output_type": "stream",
          "text": [
            "Train on 3828 samples, validate on 957 samples\n",
            "Epoch 1/150\n",
            "3828/3828 [==============================] - 12s 3ms/step - loss: 2.0043 - accuracy: 0.2369 - val_loss: 2.0571 - val_accuracy: 0.1724\n",
            "Epoch 2/150\n",
            "3828/3828 [==============================] - 12s 3ms/step - loss: 1.7785 - accuracy: 0.3190 - val_loss: 1.8294 - val_accuracy: 0.2727\n",
            "Epoch 3/150\n",
            "3828/3828 [==============================] - 12s 3ms/step - loss: 1.6579 - accuracy: 0.3665 - val_loss: 1.6063 - val_accuracy: 0.3971\n",
            "Epoch 4/150\n",
            "3828/3828 [==============================] - 12s 3ms/step - loss: 1.5686 - accuracy: 0.3994 - val_loss: 1.5014 - val_accuracy: 0.4462\n",
            "Epoch 5/150\n",
            "3828/3828 [==============================] - 12s 3ms/step - loss: 1.4902 - accuracy: 0.4420 - val_loss: 1.4863 - val_accuracy: 0.4629\n",
            "Epoch 6/150\n",
            "3828/3828 [==============================] - 12s 3ms/step - loss: 1.4280 - accuracy: 0.4783 - val_loss: 1.4181 - val_accuracy: 0.4796\n",
            "Epoch 7/150\n",
            "3828/3828 [==============================] - 12s 3ms/step - loss: 1.3726 - accuracy: 0.4896 - val_loss: 1.3644 - val_accuracy: 0.5089\n",
            "Epoch 8/150\n",
            "3828/3828 [==============================] - 12s 3ms/step - loss: 1.3311 - accuracy: 0.5154 - val_loss: 1.3070 - val_accuracy: 0.5298\n",
            "Epoch 9/150\n",
            "3828/3828 [==============================] - 12s 3ms/step - loss: 1.2735 - accuracy: 0.5415 - val_loss: 1.2882 - val_accuracy: 0.5381\n",
            "Epoch 10/150\n",
            "3828/3828 [==============================] - 12s 3ms/step - loss: 1.2316 - accuracy: 0.5421 - val_loss: 1.2766 - val_accuracy: 0.5371\n",
            "Epoch 11/150\n",
            "3828/3828 [==============================] - 12s 3ms/step - loss: 1.1971 - accuracy: 0.5588 - val_loss: 1.2722 - val_accuracy: 0.5549\n",
            "Epoch 12/150\n",
            "3828/3828 [==============================] - 12s 3ms/step - loss: 1.1459 - accuracy: 0.5899 - val_loss: 1.2943 - val_accuracy: 0.5298\n",
            "Epoch 13/150\n",
            "3828/3828 [==============================] - 12s 3ms/step - loss: 1.1231 - accuracy: 0.6032 - val_loss: 1.2514 - val_accuracy: 0.5381\n",
            "Epoch 14/150\n",
            "3828/3828 [==============================] - 12s 3ms/step - loss: 1.1073 - accuracy: 0.5954 - val_loss: 1.1836 - val_accuracy: 0.5653\n",
            "Epoch 15/150\n",
            "3828/3828 [==============================] - 12s 3ms/step - loss: 1.0639 - accuracy: 0.6089 - val_loss: 1.1339 - val_accuracy: 0.5883\n",
            "Epoch 16/150\n",
            "3828/3828 [==============================] - 12s 3ms/step - loss: 1.0117 - accuracy: 0.6249 - val_loss: 1.1628 - val_accuracy: 0.5820\n",
            "Epoch 17/150\n",
            "3828/3828 [==============================] - 12s 3ms/step - loss: 0.9829 - accuracy: 0.6452 - val_loss: 1.1072 - val_accuracy: 0.6061\n",
            "Epoch 18/150\n",
            "3828/3828 [==============================] - 12s 3ms/step - loss: 0.9925 - accuracy: 0.6432 - val_loss: 1.0996 - val_accuracy: 0.6029\n",
            "Epoch 19/150\n",
            "3828/3828 [==============================] - 12s 3ms/step - loss: 0.9311 - accuracy: 0.6672 - val_loss: 1.0731 - val_accuracy: 0.6040\n",
            "Epoch 20/150\n",
            "3828/3828 [==============================] - 12s 3ms/step - loss: 0.9063 - accuracy: 0.6750 - val_loss: 1.0550 - val_accuracy: 0.6134\n",
            "Epoch 21/150\n",
            "3828/3828 [==============================] - 12s 3ms/step - loss: 0.8948 - accuracy: 0.6706 - val_loss: 1.0632 - val_accuracy: 0.6082\n",
            "Epoch 22/150\n",
            "3828/3828 [==============================] - 12s 3ms/step - loss: 0.8714 - accuracy: 0.6889 - val_loss: 1.1035 - val_accuracy: 0.5998\n",
            "Epoch 23/150\n",
            "3828/3828 [==============================] - 12s 3ms/step - loss: 0.8406 - accuracy: 0.7059 - val_loss: 1.0101 - val_accuracy: 0.6322\n",
            "Epoch 24/150\n",
            "3828/3828 [==============================] - 12s 3ms/step - loss: 0.8218 - accuracy: 0.7053 - val_loss: 1.0193 - val_accuracy: 0.6113\n",
            "Epoch 25/150\n",
            "3828/3828 [==============================] - 12s 3ms/step - loss: 0.8117 - accuracy: 0.7064 - val_loss: 1.0091 - val_accuracy: 0.6332\n",
            "Epoch 26/150\n",
            "3828/3828 [==============================] - 12s 3ms/step - loss: 0.7922 - accuracy: 0.7147 - val_loss: 1.0093 - val_accuracy: 0.6259\n",
            "Epoch 27/150\n",
            "3828/3828 [==============================] - 12s 3ms/step - loss: 0.7789 - accuracy: 0.7194 - val_loss: 1.0127 - val_accuracy: 0.6405\n",
            "Epoch 28/150\n",
            "3828/3828 [==============================] - 12s 3ms/step - loss: 0.7475 - accuracy: 0.7325 - val_loss: 0.9518 - val_accuracy: 0.6520\n",
            "Epoch 29/150\n",
            "3828/3828 [==============================] - 12s 3ms/step - loss: 0.7349 - accuracy: 0.7341 - val_loss: 0.9696 - val_accuracy: 0.6489\n",
            "Epoch 30/150\n",
            "3828/3828 [==============================] - 12s 3ms/step - loss: 0.7031 - accuracy: 0.7471 - val_loss: 0.9811 - val_accuracy: 0.6416\n",
            "Epoch 31/150\n",
            "3828/3828 [==============================] - 12s 3ms/step - loss: 0.7146 - accuracy: 0.7422 - val_loss: 0.9772 - val_accuracy: 0.6510\n",
            "Epoch 32/150\n",
            "3828/3828 [==============================] - 12s 3ms/step - loss: 0.6913 - accuracy: 0.7547 - val_loss: 1.0026 - val_accuracy: 0.6426\n",
            "Epoch 33/150\n",
            "3828/3828 [==============================] - 12s 3ms/step - loss: 0.6782 - accuracy: 0.7589 - val_loss: 0.9491 - val_accuracy: 0.6541\n",
            "Epoch 34/150\n",
            "3828/3828 [==============================] - 12s 3ms/step - loss: 0.6603 - accuracy: 0.7581 - val_loss: 0.9636 - val_accuracy: 0.6510\n",
            "Epoch 35/150\n",
            "3828/3828 [==============================] - 12s 3ms/step - loss: 0.6670 - accuracy: 0.7620 - val_loss: 0.9411 - val_accuracy: 0.6573\n",
            "Epoch 36/150\n",
            "3828/3828 [==============================] - 12s 3ms/step - loss: 0.6472 - accuracy: 0.7706 - val_loss: 0.9479 - val_accuracy: 0.6562\n",
            "Epoch 37/150\n",
            "3828/3828 [==============================] - 12s 3ms/step - loss: 0.6173 - accuracy: 0.7769 - val_loss: 0.9606 - val_accuracy: 0.6489\n",
            "Epoch 38/150\n",
            "3828/3828 [==============================] - 12s 3ms/step - loss: 0.6174 - accuracy: 0.7764 - val_loss: 0.9332 - val_accuracy: 0.6729\n",
            "Epoch 39/150\n",
            "3828/3828 [==============================] - 12s 3ms/step - loss: 0.5913 - accuracy: 0.7900 - val_loss: 1.0002 - val_accuracy: 0.6479\n",
            "Epoch 40/150\n",
            "3828/3828 [==============================] - 12s 3ms/step - loss: 0.5865 - accuracy: 0.7861 - val_loss: 0.9151 - val_accuracy: 0.6729\n",
            "Epoch 41/150\n",
            "3828/3828 [==============================] - 12s 3ms/step - loss: 0.5779 - accuracy: 0.7918 - val_loss: 0.9323 - val_accuracy: 0.6698\n",
            "Epoch 42/150\n",
            "3828/3828 [==============================] - 12s 3ms/step - loss: 0.5500 - accuracy: 0.8072 - val_loss: 0.9000 - val_accuracy: 0.6771\n",
            "Epoch 43/150\n",
            "3828/3828 [==============================] - 12s 3ms/step - loss: 0.5416 - accuracy: 0.8049 - val_loss: 0.9325 - val_accuracy: 0.6614\n",
            "Epoch 44/150\n",
            "3828/3828 [==============================] - 12s 3ms/step - loss: 0.5384 - accuracy: 0.8119 - val_loss: 0.9236 - val_accuracy: 0.6604\n",
            "Epoch 45/150\n",
            "3828/3828 [==============================] - 12s 3ms/step - loss: 0.5291 - accuracy: 0.8111 - val_loss: 1.0133 - val_accuracy: 0.6385\n",
            "Epoch 46/150\n",
            "3828/3828 [==============================] - 12s 3ms/step - loss: 0.5201 - accuracy: 0.8054 - val_loss: 0.9081 - val_accuracy: 0.6740\n",
            "Epoch 47/150\n",
            "3828/3828 [==============================] - 12s 3ms/step - loss: 0.5162 - accuracy: 0.8114 - val_loss: 0.9486 - val_accuracy: 0.6625\n",
            "Epoch 48/150\n",
            "3828/3828 [==============================] - 12s 3ms/step - loss: 0.4962 - accuracy: 0.8281 - val_loss: 0.9672 - val_accuracy: 0.6604\n",
            "Epoch 49/150\n",
            "3828/3828 [==============================] - 12s 3ms/step - loss: 0.4869 - accuracy: 0.8216 - val_loss: 0.8956 - val_accuracy: 0.6823\n",
            "Epoch 50/150\n",
            "3828/3828 [==============================] - 12s 3ms/step - loss: 0.4819 - accuracy: 0.8323 - val_loss: 0.9214 - val_accuracy: 0.6635\n",
            "Epoch 51/150\n",
            "3828/3828 [==============================] - 12s 3ms/step - loss: 0.4669 - accuracy: 0.8289 - val_loss: 1.0002 - val_accuracy: 0.6447\n",
            "Epoch 52/150\n",
            "3828/3828 [==============================] - 12s 3ms/step - loss: 0.4669 - accuracy: 0.8305 - val_loss: 0.9844 - val_accuracy: 0.6520\n",
            "Epoch 53/150\n",
            "3828/3828 [==============================] - 12s 3ms/step - loss: 0.4319 - accuracy: 0.8548 - val_loss: 0.8920 - val_accuracy: 0.6750\n",
            "Epoch 54/150\n",
            "3828/3828 [==============================] - 12s 3ms/step - loss: 0.4554 - accuracy: 0.8386 - val_loss: 0.9269 - val_accuracy: 0.6761\n",
            "Epoch 55/150\n",
            "3828/3828 [==============================] - 12s 3ms/step - loss: 0.4267 - accuracy: 0.8482 - val_loss: 0.9736 - val_accuracy: 0.6729\n",
            "Epoch 56/150\n",
            "3828/3828 [==============================] - 12s 3ms/step - loss: 0.4320 - accuracy: 0.8430 - val_loss: 0.8733 - val_accuracy: 0.6834\n",
            "Epoch 57/150\n",
            "3828/3828 [==============================] - 12s 3ms/step - loss: 0.4206 - accuracy: 0.8532 - val_loss: 0.9408 - val_accuracy: 0.6729\n",
            "Epoch 58/150\n",
            "3828/3828 [==============================] - 12s 3ms/step - loss: 0.4117 - accuracy: 0.8548 - val_loss: 0.9088 - val_accuracy: 0.6928\n",
            "Epoch 59/150\n",
            "3828/3828 [==============================] - 12s 3ms/step - loss: 0.4144 - accuracy: 0.8508 - val_loss: 0.8914 - val_accuracy: 0.6876\n",
            "Epoch 60/150\n",
            "3828/3828 [==============================] - 12s 3ms/step - loss: 0.3944 - accuracy: 0.8652 - val_loss: 0.8930 - val_accuracy: 0.6897\n",
            "Epoch 61/150\n",
            "3828/3828 [==============================] - 12s 3ms/step - loss: 0.3827 - accuracy: 0.8652 - val_loss: 0.8822 - val_accuracy: 0.6980\n",
            "Epoch 62/150\n",
            "3828/3828 [==============================] - 12s 3ms/step - loss: 0.3934 - accuracy: 0.8642 - val_loss: 0.8954 - val_accuracy: 0.7043\n",
            "Epoch 63/150\n",
            "3828/3828 [==============================] - 12s 3ms/step - loss: 0.3927 - accuracy: 0.8592 - val_loss: 0.9235 - val_accuracy: 0.6698\n",
            "Epoch 64/150\n",
            "3828/3828 [==============================] - 12s 3ms/step - loss: 0.3707 - accuracy: 0.8676 - val_loss: 0.9150 - val_accuracy: 0.6907\n",
            "Epoch 65/150\n",
            "3828/3828 [==============================] - 12s 3ms/step - loss: 0.3661 - accuracy: 0.8733 - val_loss: 0.9220 - val_accuracy: 0.6792\n",
            "Epoch 66/150\n",
            "3828/3828 [==============================] - 12s 3ms/step - loss: 0.3645 - accuracy: 0.8746 - val_loss: 0.9058 - val_accuracy: 0.6844\n",
            "Epoch 67/150\n",
            "3828/3828 [==============================] - 12s 3ms/step - loss: 0.3668 - accuracy: 0.8694 - val_loss: 0.9569 - val_accuracy: 0.6646\n",
            "Epoch 68/150\n",
            "3828/3828 [==============================] - 12s 3ms/step - loss: 0.3423 - accuracy: 0.8843 - val_loss: 0.9285 - val_accuracy: 0.6855\n",
            "Epoch 69/150\n",
            "3828/3828 [==============================] - 12s 3ms/step - loss: 0.3598 - accuracy: 0.8696 - val_loss: 0.9647 - val_accuracy: 0.6761\n",
            "Epoch 70/150\n",
            "3828/3828 [==============================] - 12s 3ms/step - loss: 0.3423 - accuracy: 0.8762 - val_loss: 0.9417 - val_accuracy: 0.6646\n",
            "Epoch 71/150\n",
            "3828/3828 [==============================] - 12s 3ms/step - loss: 0.3174 - accuracy: 0.8864 - val_loss: 0.9157 - val_accuracy: 0.6886\n",
            "Epoch 72/150\n",
            "3828/3828 [==============================] - 12s 3ms/step - loss: 0.3399 - accuracy: 0.8796 - val_loss: 0.9325 - val_accuracy: 0.6865\n",
            "Epoch 73/150\n",
            "3828/3828 [==============================] - 12s 3ms/step - loss: 0.3161 - accuracy: 0.8916 - val_loss: 0.9138 - val_accuracy: 0.6886\n",
            "Epoch 74/150\n",
            "3828/3828 [==============================] - 12s 3ms/step - loss: 0.3081 - accuracy: 0.8895 - val_loss: 0.9546 - val_accuracy: 0.6844\n",
            "Epoch 75/150\n",
            "3828/3828 [==============================] - 12s 3ms/step - loss: 0.3166 - accuracy: 0.8900 - val_loss: 0.9351 - val_accuracy: 0.6917\n",
            "Epoch 76/150\n",
            "3828/3828 [==============================] - 12s 3ms/step - loss: 0.2977 - accuracy: 0.8958 - val_loss: 0.9516 - val_accuracy: 0.6928\n",
            "Epoch 77/150\n",
            "3828/3828 [==============================] - 12s 3ms/step - loss: 0.2873 - accuracy: 0.9044 - val_loss: 0.9649 - val_accuracy: 0.6677\n",
            "Epoch 78/150\n",
            "3828/3828 [==============================] - 12s 3ms/step - loss: 0.3140 - accuracy: 0.8916 - val_loss: 0.9911 - val_accuracy: 0.6865\n",
            "Epoch 79/150\n",
            "3828/3828 [==============================] - 12s 3ms/step - loss: 0.2871 - accuracy: 0.8999 - val_loss: 0.9742 - val_accuracy: 0.6834\n",
            "Epoch 80/150\n",
            "3828/3828 [==============================] - 12s 3ms/step - loss: 0.2971 - accuracy: 0.8984 - val_loss: 0.9245 - val_accuracy: 0.7053\n",
            "Epoch 81/150\n",
            "3828/3828 [==============================] - 12s 3ms/step - loss: 0.2781 - accuracy: 0.9041 - val_loss: 0.9176 - val_accuracy: 0.6991\n",
            "Epoch 82/150\n",
            "3828/3828 [==============================] - 12s 3ms/step - loss: 0.2931 - accuracy: 0.8950 - val_loss: 0.9225 - val_accuracy: 0.7053\n",
            "Epoch 83/150\n",
            "3828/3828 [==============================] - 12s 3ms/step - loss: 0.2717 - accuracy: 0.9028 - val_loss: 0.8953 - val_accuracy: 0.6980\n",
            "Epoch 84/150\n",
            "3828/3828 [==============================] - 12s 3ms/step - loss: 0.2745 - accuracy: 0.9013 - val_loss: 0.9965 - val_accuracy: 0.6792\n",
            "Epoch 85/150\n",
            "3828/3828 [==============================] - 12s 3ms/step - loss: 0.2665 - accuracy: 0.9070 - val_loss: 1.0506 - val_accuracy: 0.6604\n",
            "Epoch 86/150\n",
            "3828/3828 [==============================] - 12s 3ms/step - loss: 0.2733 - accuracy: 0.8999 - val_loss: 0.9447 - val_accuracy: 0.6980\n",
            "Epoch 87/150\n",
            "3828/3828 [==============================] - 12s 3ms/step - loss: 0.2545 - accuracy: 0.9125 - val_loss: 0.9273 - val_accuracy: 0.7011\n",
            "Epoch 88/150\n",
            "3828/3828 [==============================] - 12s 3ms/step - loss: 0.2626 - accuracy: 0.9062 - val_loss: 0.9286 - val_accuracy: 0.7106\n",
            "Epoch 89/150\n",
            "3828/3828 [==============================] - 12s 3ms/step - loss: 0.2696 - accuracy: 0.9094 - val_loss: 0.9442 - val_accuracy: 0.6886\n",
            "Epoch 90/150\n",
            "3828/3828 [==============================] - 12s 3ms/step - loss: 0.2541 - accuracy: 0.9096 - val_loss: 1.0111 - val_accuracy: 0.6782\n",
            "Epoch 91/150\n",
            "3828/3828 [==============================] - 12s 3ms/step - loss: 0.2552 - accuracy: 0.9080 - val_loss: 0.9634 - val_accuracy: 0.6792\n",
            "Epoch 92/150\n",
            "3828/3828 [==============================] - 12s 3ms/step - loss: 0.2477 - accuracy: 0.9120 - val_loss: 0.9546 - val_accuracy: 0.6834\n",
            "Epoch 93/150\n",
            "3828/3828 [==============================] - 12s 3ms/step - loss: 0.2329 - accuracy: 0.9216 - val_loss: 0.9256 - val_accuracy: 0.7011\n",
            "Epoch 94/150\n",
            "3828/3828 [==============================] - 12s 3ms/step - loss: 0.2268 - accuracy: 0.9216 - val_loss: 0.9196 - val_accuracy: 0.6928\n",
            "Epoch 95/150\n",
            "3828/3828 [==============================] - 12s 3ms/step - loss: 0.2300 - accuracy: 0.9190 - val_loss: 0.9452 - val_accuracy: 0.7032\n",
            "Epoch 96/150\n",
            "3828/3828 [==============================] - 12s 3ms/step - loss: 0.2296 - accuracy: 0.9208 - val_loss: 0.9195 - val_accuracy: 0.7043\n",
            "Epoch 97/150\n",
            "3828/3828 [==============================] - 12s 3ms/step - loss: 0.2272 - accuracy: 0.9216 - val_loss: 0.9330 - val_accuracy: 0.6949\n",
            "Epoch 98/150\n",
            "3828/3828 [==============================] - 12s 3ms/step - loss: 0.2238 - accuracy: 0.9229 - val_loss: 1.0592 - val_accuracy: 0.6740\n",
            "Epoch 99/150\n",
            "3828/3828 [==============================] - 12s 3ms/step - loss: 0.2061 - accuracy: 0.9316 - val_loss: 0.9560 - val_accuracy: 0.6991\n",
            "Epoch 100/150\n",
            "3828/3828 [==============================] - 12s 3ms/step - loss: 0.2092 - accuracy: 0.9274 - val_loss: 1.0248 - val_accuracy: 0.7053\n",
            "Epoch 101/150\n",
            "3828/3828 [==============================] - 12s 3ms/step - loss: 0.2275 - accuracy: 0.9182 - val_loss: 0.9479 - val_accuracy: 0.7022\n",
            "Epoch 102/150\n",
            "3828/3828 [==============================] - 12s 3ms/step - loss: 0.1989 - accuracy: 0.9303 - val_loss: 1.1233 - val_accuracy: 0.6782\n",
            "Epoch 103/150\n",
            "3828/3828 [==============================] - 12s 3ms/step - loss: 0.2115 - accuracy: 0.9229 - val_loss: 1.2080 - val_accuracy: 0.6625\n",
            "Epoch 104/150\n",
            "3828/3828 [==============================] - 12s 3ms/step - loss: 0.1961 - accuracy: 0.9334 - val_loss: 0.9671 - val_accuracy: 0.7085\n",
            "Epoch 105/150\n",
            "3828/3828 [==============================] - 12s 3ms/step - loss: 0.1887 - accuracy: 0.9360 - val_loss: 1.0160 - val_accuracy: 0.6865\n",
            "Epoch 106/150\n",
            "3828/3828 [==============================] - 12s 3ms/step - loss: 0.2035 - accuracy: 0.9271 - val_loss: 0.9675 - val_accuracy: 0.7001\n",
            "Epoch 107/150\n",
            "3828/3828 [==============================] - 12s 3ms/step - loss: 0.1940 - accuracy: 0.9271 - val_loss: 0.9776 - val_accuracy: 0.6980\n",
            "Epoch 108/150\n",
            "3828/3828 [==============================] - 12s 3ms/step - loss: 0.1772 - accuracy: 0.9417 - val_loss: 0.9794 - val_accuracy: 0.6865\n",
            "Epoch 109/150\n",
            "3828/3828 [==============================] - 12s 3ms/step - loss: 0.1941 - accuracy: 0.9339 - val_loss: 0.9890 - val_accuracy: 0.7137\n",
            "Epoch 110/150\n",
            "3828/3828 [==============================] - 12s 3ms/step - loss: 0.1960 - accuracy: 0.9389 - val_loss: 1.0693 - val_accuracy: 0.6740\n",
            "Epoch 111/150\n",
            "3828/3828 [==============================] - 12s 3ms/step - loss: 0.1916 - accuracy: 0.9360 - val_loss: 0.9904 - val_accuracy: 0.6991\n",
            "Epoch 112/150\n",
            "3828/3828 [==============================] - 12s 3ms/step - loss: 0.1851 - accuracy: 0.9386 - val_loss: 1.0560 - val_accuracy: 0.6917\n",
            "Epoch 113/150\n",
            "3828/3828 [==============================] - 12s 3ms/step - loss: 0.1894 - accuracy: 0.9316 - val_loss: 0.9859 - val_accuracy: 0.7032\n",
            "Epoch 114/150\n",
            "3828/3828 [==============================] - 12s 3ms/step - loss: 0.1755 - accuracy: 0.9383 - val_loss: 1.0152 - val_accuracy: 0.7085\n",
            "Epoch 115/150\n",
            "3828/3828 [==============================] - 12s 3ms/step - loss: 0.1759 - accuracy: 0.9431 - val_loss: 0.9909 - val_accuracy: 0.7074\n",
            "Epoch 116/150\n",
            "3828/3828 [==============================] - 12s 3ms/step - loss: 0.1781 - accuracy: 0.9365 - val_loss: 1.0985 - val_accuracy: 0.6834\n",
            "Epoch 117/150\n",
            "3828/3828 [==============================] - 12s 3ms/step - loss: 0.1888 - accuracy: 0.9329 - val_loss: 0.9584 - val_accuracy: 0.7011\n",
            "Epoch 118/150\n",
            "3828/3828 [==============================] - 12s 3ms/step - loss: 0.1842 - accuracy: 0.9342 - val_loss: 1.0244 - val_accuracy: 0.7074\n",
            "Epoch 119/150\n",
            "3828/3828 [==============================] - 12s 3ms/step - loss: 0.1736 - accuracy: 0.9407 - val_loss: 1.0456 - val_accuracy: 0.6949\n",
            "Epoch 120/150\n",
            "3828/3828 [==============================] - 12s 3ms/step - loss: 0.1687 - accuracy: 0.9389 - val_loss: 0.9865 - val_accuracy: 0.7011\n",
            "Epoch 121/150\n",
            "3828/3828 [==============================] - 12s 3ms/step - loss: 0.1707 - accuracy: 0.9407 - val_loss: 1.0127 - val_accuracy: 0.7106\n",
            "Epoch 122/150\n",
            "3828/3828 [==============================] - 12s 3ms/step - loss: 0.1619 - accuracy: 0.9436 - val_loss: 1.0226 - val_accuracy: 0.6938\n",
            "Epoch 123/150\n",
            "3828/3828 [==============================] - 12s 3ms/step - loss: 0.1608 - accuracy: 0.9451 - val_loss: 0.9446 - val_accuracy: 0.7064\n",
            "Epoch 124/150\n",
            "3828/3828 [==============================] - 12s 3ms/step - loss: 0.1490 - accuracy: 0.9532 - val_loss: 1.0161 - val_accuracy: 0.7032\n",
            "Epoch 125/150\n",
            "3828/3828 [==============================] - 12s 3ms/step - loss: 0.1706 - accuracy: 0.9389 - val_loss: 1.0084 - val_accuracy: 0.7011\n",
            "Epoch 126/150\n",
            "3828/3828 [==============================] - 12s 3ms/step - loss: 0.1564 - accuracy: 0.9441 - val_loss: 1.1047 - val_accuracy: 0.6991\n",
            "Epoch 127/150\n",
            "3828/3828 [==============================] - 12s 3ms/step - loss: 0.1505 - accuracy: 0.9501 - val_loss: 0.9914 - val_accuracy: 0.7147\n",
            "Epoch 128/150\n",
            "3828/3828 [==============================] - 12s 3ms/step - loss: 0.1551 - accuracy: 0.9506 - val_loss: 1.0223 - val_accuracy: 0.6938\n",
            "Epoch 129/150\n",
            "3828/3828 [==============================] - 12s 3ms/step - loss: 0.1554 - accuracy: 0.9485 - val_loss: 1.0684 - val_accuracy: 0.7022\n",
            "Epoch 130/150\n",
            "3828/3828 [==============================] - 12s 3ms/step - loss: 0.1468 - accuracy: 0.9519 - val_loss: 1.1099 - val_accuracy: 0.6959\n",
            "Epoch 131/150\n",
            "3828/3828 [==============================] - 12s 3ms/step - loss: 0.1330 - accuracy: 0.9545 - val_loss: 1.0862 - val_accuracy: 0.6886\n",
            "Epoch 132/150\n",
            "3828/3828 [==============================] - 12s 3ms/step - loss: 0.1517 - accuracy: 0.9472 - val_loss: 0.9988 - val_accuracy: 0.7106\n",
            "Epoch 133/150\n",
            "3828/3828 [==============================] - 12s 3ms/step - loss: 0.1389 - accuracy: 0.9517 - val_loss: 1.0061 - val_accuracy: 0.6949\n",
            "Epoch 134/150\n",
            "3828/3828 [==============================] - 12s 3ms/step - loss: 0.1344 - accuracy: 0.9478 - val_loss: 1.0496 - val_accuracy: 0.7126\n",
            "Epoch 135/150\n",
            "3828/3828 [==============================] - 12s 3ms/step - loss: 0.1554 - accuracy: 0.9420 - val_loss: 1.0319 - val_accuracy: 0.7043\n",
            "Epoch 136/150\n",
            "3828/3828 [==============================] - 12s 3ms/step - loss: 0.1468 - accuracy: 0.9511 - val_loss: 1.0088 - val_accuracy: 0.7210\n",
            "Epoch 137/150\n",
            "3828/3828 [==============================] - 12s 3ms/step - loss: 0.1398 - accuracy: 0.9504 - val_loss: 1.1458 - val_accuracy: 0.6844\n",
            "Epoch 138/150\n",
            "3828/3828 [==============================] - 12s 3ms/step - loss: 0.1414 - accuracy: 0.9525 - val_loss: 1.2619 - val_accuracy: 0.6823\n",
            "Epoch 139/150\n",
            "3828/3828 [==============================] - 12s 3ms/step - loss: 0.1344 - accuracy: 0.9506 - val_loss: 1.0143 - val_accuracy: 0.7064\n",
            "Epoch 140/150\n",
            "3828/3828 [==============================] - 12s 3ms/step - loss: 0.1241 - accuracy: 0.9566 - val_loss: 1.1323 - val_accuracy: 0.6865\n",
            "Epoch 141/150\n",
            "3828/3828 [==============================] - 12s 3ms/step - loss: 0.1317 - accuracy: 0.9511 - val_loss: 1.0309 - val_accuracy: 0.7220\n",
            "Epoch 142/150\n",
            "3828/3828 [==============================] - 12s 3ms/step - loss: 0.1302 - accuracy: 0.9548 - val_loss: 1.0496 - val_accuracy: 0.7064\n",
            "Epoch 143/150\n",
            "3828/3828 [==============================] - 12s 3ms/step - loss: 0.1326 - accuracy: 0.9522 - val_loss: 1.0293 - val_accuracy: 0.7085\n",
            "Epoch 144/150\n",
            "3828/3828 [==============================] - 12s 3ms/step - loss: 0.1267 - accuracy: 0.9561 - val_loss: 1.1683 - val_accuracy: 0.6897\n",
            "Epoch 145/150\n",
            "3828/3828 [==============================] - 12s 3ms/step - loss: 0.1229 - accuracy: 0.9551 - val_loss: 1.0938 - val_accuracy: 0.7158\n",
            "Epoch 146/150\n",
            "3828/3828 [==============================] - 12s 3ms/step - loss: 0.1232 - accuracy: 0.9564 - val_loss: 1.0504 - val_accuracy: 0.6917\n",
            "Epoch 147/150\n",
            "3828/3828 [==============================] - 12s 3ms/step - loss: 0.1245 - accuracy: 0.9579 - val_loss: 1.1118 - val_accuracy: 0.6928\n",
            "Epoch 148/150\n",
            "3828/3828 [==============================] - 12s 3ms/step - loss: 0.1188 - accuracy: 0.9608 - val_loss: 1.0639 - val_accuracy: 0.6970\n",
            "Epoch 149/150\n",
            "3828/3828 [==============================] - 12s 3ms/step - loss: 0.1239 - accuracy: 0.9569 - val_loss: 1.0694 - val_accuracy: 0.6855\n",
            "Epoch 150/150\n",
            "3828/3828 [==============================] - 12s 3ms/step - loss: 0.1165 - accuracy: 0.9564 - val_loss: 1.0486 - val_accuracy: 0.7116\n"
          ],
          "name": "stdout"
        }
      ]
    },
    {
      "cell_type": "code",
      "metadata": {
        "colab_type": "code",
        "outputId": "58f22531-a4a1-4707-9a5c-a281091885d1",
        "id": "uusdAtsLghf4",
        "colab": {
          "base_uri": "https://localhost:8080/",
          "height": 81
        }
      },
      "source": [
        "mfcc_ssc_lpc_accuracy = cnnhistory.history['val_accuracy']\n",
        "mfcc_ssc_lpc_model = model\n",
        "print(mfcc_ssc_lpc_accuracy)"
      ],
      "execution_count": 0,
      "outputs": [
        {
          "output_type": "stream",
          "text": [
            "[0.17241379618644714, 0.27272728085517883, 0.3970741927623749, 0.44618600606918335, 0.4629049003124237, 0.47962382435798645, 0.5088819265365601, 0.5297805666923523, 0.5381399989128113, 0.5370950698852539, 0.554858922958374, 0.5297805666923523, 0.5381399989128113, 0.5653082728385925, 0.5882967710494995, 0.5820271968841553, 0.6060606241226196, 0.6029258370399475, 0.6039707660675049, 0.6133751273155212, 0.6081504821777344, 0.5997909903526306, 0.6321839094161987, 0.6112852692604065, 0.6332288384437561, 0.6259143352508545, 0.6405433416366577, 0.6520376205444336, 0.6489028334617615, 0.6415882706642151, 0.6509926915168762, 0.6426331996917725, 0.6541274785995483, 0.6509926915168762, 0.6572622656822205, 0.6562173366546631, 0.6489028334617615, 0.6729362607002258, 0.6478579044342041, 0.6729362607002258, 0.6698014736175537, 0.6771159768104553, 0.66144198179245, 0.6603970527648926, 0.638453483581543, 0.6739811897277832, 0.6624869108200073, 0.6603970527648926, 0.6823406219482422, 0.6635318994522095, 0.644723117351532, 0.6520376205444336, 0.6750261187553406, 0.676071047782898, 0.6729362607002258, 0.6833855509757996, 0.6729362607002258, 0.6927899718284607, 0.6875653266906738, 0.6896551847457886, 0.6980146169662476, 0.7042842507362366, 0.6698014736175537, 0.690700113773346, 0.6792058348655701, 0.6844305396080017, 0.6645768284797668, 0.6854754686355591, 0.676071047782898, 0.6645768284797668, 0.6886102557182312, 0.6865203976631165, 0.6886102557182312, 0.6844305396080017, 0.6917450428009033, 0.6927899718284607, 0.667711615562439, 0.6865203976631165, 0.6833855509757996, 0.705329179763794, 0.6990595459938049, 0.705329179763794, 0.6980146169662476, 0.6792058348655701, 0.6603970527648926, 0.6980146169662476, 0.7011494040489197, 0.7105538249015808, 0.6886102557182312, 0.6781609058380127, 0.6792058348655701, 0.6833855509757996, 0.7011494040489197, 0.6927899718284607, 0.7032392621040344, 0.7042842507362366, 0.6948798298835754, 0.6739811897277832, 0.6990595459938049, 0.705329179763794, 0.702194333076477, 0.6781609058380127, 0.6624869108200073, 0.7084639668464661, 0.6865203976631165, 0.7001044750213623, 0.6980146169662476, 0.6865203976631165, 0.7136886119842529, 0.6739811897277832, 0.6990595459938049, 0.6917450428009033, 0.7032392621040344, 0.7084639668464661, 0.7074190378189087, 0.6833855509757996, 0.7011494040489197, 0.7074190378189087, 0.6948798298835754, 0.7011494040489197, 0.7105538249015808, 0.6938349008560181, 0.7063741087913513, 0.7032392621040344, 0.7011494040489197, 0.6990595459938049, 0.7147335410118103, 0.6938349008560181, 0.702194333076477, 0.6959247589111328, 0.6886102557182312, 0.7105538249015808, 0.6948798298835754, 0.7126436829566956, 0.7042842507362366, 0.7210031151771545, 0.6844305396080017, 0.6823406219482422, 0.7063741087913513, 0.6865203976631165, 0.7220480442047119, 0.7063741087913513, 0.7084639668464661, 0.6896551847457886, 0.7157784700393677, 0.6917450428009033, 0.6927899718284607, 0.6969696879386902, 0.6854754686355591, 0.7115987539291382]\n"
          ],
          "name": "stdout"
        }
      ]
    },
    {
      "cell_type": "code",
      "metadata": {
        "colab_type": "code",
        "outputId": "9465f9c7-583a-4dac-8e20-e1c8c624921d",
        "id": "-VB5oQZgghf9",
        "colab": {
          "base_uri": "https://localhost:8080/",
          "height": 295
        }
      },
      "source": [
        "plt.plot(cnnhistory.history['accuracy'],'b', linestyle='--', label='train')\n",
        "plt.plot(cnnhistory.history['val_accuracy'],'g', linestyle='-', label='test')\n",
        "plt.title('CNN model accuracy(mfcc_ssc_lpc)')\n",
        "plt.ylabel('accuracy')\n",
        "plt.xlabel('epoch')\n",
        "plt.legend()\n",
        "plt.show()"
      ],
      "execution_count": 0,
      "outputs": [
        {
          "output_type": "display_data",
          "data": {
            "image/png": "[encoded data removed]",
            "text/plain": [
              "<Figure size 432x288 with 1 Axes>"
            ]
          },
          "metadata": {
            "tags": [],
            "needs_background": "light"
          }
        }
      ]
    },
    {
      "cell_type": "code",
      "metadata": {
        "colab_type": "code",
        "outputId": "27d80b04-3ca3-41fa-b4e1-3df103e10601",
        "id": "sDTKhhAQghgB",
        "colab": {
          "base_uri": "https://localhost:8080/",
          "height": 52
        }
      },
      "source": [
        "from keras.models import load_model\n",
        "mfcc_ssc_lpc_model = load_model('/content/gdrive/My Drive/Minor_Sem6/CNN Models(of features)/MFCC_SSC_LPC.h5')\n",
        "loss, acc = mfcc_ssc_lpc_model.evaluate(x_testcnn, y_test_mfcc_ssc_lpc)\n",
        "print(\"Restored model, accuracy: {:5.2f}%\".format(100*acc))\n",
        "msl = acc\n",
        "# print(msl)"
      ],
      "execution_count": 26,
      "outputs": [
        {
          "output_type": "stream",
          "text": [
            "957/957 [==============================] - 1s 815us/step\n",
            "Restored model, accuracy: 71.16%\n"
          ],
          "name": "stdout"
        }
      ]
    },
    {
      "cell_type": "markdown",
      "metadata": {
        "colab_type": "text",
        "id": "jmT_LtSIggfU"
      },
      "source": [
        "# mfcc+ssc"
      ]
    },
    {
      "cell_type": "code",
      "metadata": {
        "colab_type": "code",
        "id": "VkiLNPvAggfW",
        "colab": {}
      },
      "source": [
        "# Considering only mfcc+ssc\n",
        "\n",
        "X_train_mfcc_ssc, X_test_mfcc_ssc, y_train_mfcc_ssc, y_test_mfcc_ssc = train_test_split(X_mfcc_ssc1, y1, test_size=0.2, random_state=0)\n",
        "x_traincnn =np.expand_dims(X_train_mfcc_ssc, axis=2)\n",
        "x_testcnn= np.expand_dims(X_test_mfcc_ssc, axis=2)\n"
      ],
      "execution_count": 0,
      "outputs": []
    },
    {
      "cell_type": "code",
      "metadata": {
        "colab_type": "code",
        "outputId": "b2635c71-86f0-4205-dbb4-c8fc4f9d5911",
        "id": "zeC-WFZrggfZ",
        "colab": {
          "base_uri": "https://localhost:8080/",
          "height": 34
        }
      },
      "source": [
        "print(X_train_mfcc_ssc.shape[1])"
      ],
      "execution_count": 0,
      "outputs": [
        {
          "output_type": "stream",
          "text": [
            "273\n"
          ],
          "name": "stdout"
        }
      ]
    },
    {
      "cell_type": "code",
      "metadata": {
        "colab_type": "code",
        "id": "NcoisR8iggfd",
        "colab": {}
      },
      "source": [
        "model = Sequential()\n",
        "\n",
        "model.add(Conv1D(256, 5,padding='same',input_shape=(273,1)))\n",
        "model.add(Activation('relu'))\n",
        "model.add(Dropout(0.1))\n",
        "model.add(MaxPooling1D(pool_size=(8)))\n",
        "\n",
        "model.add(Conv1D(128, 5,padding='same',))\n",
        "model.add(BatchNormalization())                  \n",
        "model.add(Activation('relu'))\n",
        "model.add(MaxPooling1D(pool_size=(8)))\n",
        "model.add(Dropout(0.1))\n",
        "\n",
        "model.add(Conv1D(128, 5,padding='same',))                  \n",
        "model.add(Activation('relu'))\n",
        "model.add(Dropout(0.1))\n",
        "\n",
        "model.add(Conv1D(128, 5,padding='same',)) \n",
        "model.add(BatchNormalization())                 \n",
        "model.add(Activation('relu'))\n",
        "model.add(Dropout(0.1))\n",
        "\n",
        "model.add(Flatten())\n",
        "model.add(Dense(8))                                                           \n",
        "model.add(Activation('softmax'))\n",
        "opt = keras.optimizers.rmsprop(lr=0.00005,epsilon=1e-08,rho=0.9,decay=0.0)"
      ],
      "execution_count": 0,
      "outputs": []
    },
    {
      "cell_type": "code",
      "metadata": {
        "colab_type": "code",
        "outputId": "7905a611-c1ef-45f5-dcb6-ef407066c0bb",
        "id": "HA0vN_9aggfh",
        "colab": {
          "base_uri": "https://localhost:8080/",
          "height": 1000
        }
      },
      "source": [
        "model.summary()"
      ],
      "execution_count": 0,
      "outputs": [
        {
          "output_type": "stream",
          "text": [
            "Model: \"sequential_17\"\n",
            "_________________________________________________________________\n",
            "Layer (type)                 Output Shape              Param #   \n",
            "=================================================================\n",
            "conv1d_57 (Conv1D)           (None, 273, 256)          1536      \n",
            "_________________________________________________________________\n",
            "activation_69 (Activation)   (None, 273, 256)          0         \n",
            "_________________________________________________________________\n",
            "dropout_53 (Dropout)         (None, 273, 256)          0         \n",
            "_________________________________________________________________\n",
            "max_pooling1d_32 (MaxPooling (None, 34, 256)           0         \n",
            "_________________________________________________________________\n",
            "conv1d_58 (Conv1D)           (None, 34, 128)           163968    \n",
            "_________________________________________________________________\n",
            "batch_normalization_29 (Batc (None, 34, 128)           512       \n",
            "_________________________________________________________________\n",
            "activation_70 (Activation)   (None, 34, 128)           0         \n",
            "_________________________________________________________________\n",
            "max_pooling1d_33 (MaxPooling (None, 4, 128)            0         \n",
            "_________________________________________________________________\n",
            "dropout_54 (Dropout)         (None, 4, 128)            0         \n",
            "_________________________________________________________________\n",
            "conv1d_59 (Conv1D)           (None, 4, 128)            82048     \n",
            "_________________________________________________________________\n",
            "activation_71 (Activation)   (None, 4, 128)            0         \n",
            "_________________________________________________________________\n",
            "dropout_55 (Dropout)         (None, 4, 128)            0         \n",
            "_________________________________________________________________\n",
            "conv1d_60 (Conv1D)           (None, 4, 128)            82048     \n",
            "_________________________________________________________________\n",
            "batch_normalization_30 (Batc (None, 4, 128)            512       \n",
            "_________________________________________________________________\n",
            "activation_72 (Activation)   (None, 4, 128)            0         \n",
            "_________________________________________________________________\n",
            "dropout_56 (Dropout)         (None, 4, 128)            0         \n",
            "_________________________________________________________________\n",
            "flatten_13 (Flatten)         (None, 512)               0         \n",
            "_________________________________________________________________\n",
            "dense_13 (Dense)             (None, 8)                 4104      \n",
            "_________________________________________________________________\n",
            "activation_73 (Activation)   (None, 8)                 0         \n",
            "=================================================================\n",
            "Total params: 334,728\n",
            "Trainable params: 334,216\n",
            "Non-trainable params: 512\n",
            "_________________________________________________________________\n"
          ],
          "name": "stdout"
        }
      ]
    },
    {
      "cell_type": "code",
      "metadata": {
        "colab_type": "code",
        "outputId": "f89ba7cc-9af5-4653-b8df-45136c7e13c4",
        "id": "22pVk9HAggfm",
        "colab": {
          "base_uri": "https://localhost:8080/",
          "height": 1000
        }
      },
      "source": [
        "model.compile(loss='sparse_categorical_crossentropy', optimizer=opt,metrics=['accuracy'])\n",
        "cnnhistory=model.fit(x_traincnn, y_train_mfcc_ssc, batch_size=20, epochs=150, validation_data=(x_testcnn, y_test_mfcc_ssc))\n",
        "model.save('/content/gdrive/My Drive/feature/MFCC_SSC.h5')"
      ],
      "execution_count": 0,
      "outputs": [
        {
          "output_type": "stream",
          "text": [
            "Train on 3828 samples, validate on 957 samples\n",
            "Epoch 1/150\n",
            "3828/3828 [==============================] - 12s 3ms/step - loss: 2.0212 - accuracy: 0.2265 - val_loss: 2.0667 - val_accuracy: 0.1599\n",
            "Epoch 2/150\n",
            "3828/3828 [==============================] - 12s 3ms/step - loss: 1.7517 - accuracy: 0.3297 - val_loss: 1.8017 - val_accuracy: 0.3281\n",
            "Epoch 3/150\n",
            "3828/3828 [==============================] - 12s 3ms/step - loss: 1.6307 - accuracy: 0.3783 - val_loss: 1.6080 - val_accuracy: 0.3908\n",
            "Epoch 4/150\n",
            "3828/3828 [==============================] - 12s 3ms/step - loss: 1.5446 - accuracy: 0.4271 - val_loss: 1.4929 - val_accuracy: 0.4514\n",
            "Epoch 5/150\n",
            "3828/3828 [==============================] - 12s 3ms/step - loss: 1.4891 - accuracy: 0.4446 - val_loss: 1.4393 - val_accuracy: 0.4817\n",
            "Epoch 6/150\n",
            "3828/3828 [==============================] - 11s 3ms/step - loss: 1.4143 - accuracy: 0.4754 - val_loss: 1.3863 - val_accuracy: 0.4953\n",
            "Epoch 7/150\n",
            "3828/3828 [==============================] - 12s 3ms/step - loss: 1.3791 - accuracy: 0.4995 - val_loss: 1.3570 - val_accuracy: 0.5016\n",
            "Epoch 8/150\n",
            "3828/3828 [==============================] - 12s 3ms/step - loss: 1.3256 - accuracy: 0.5149 - val_loss: 1.3292 - val_accuracy: 0.5005\n",
            "Epoch 9/150\n",
            "3828/3828 [==============================] - 11s 3ms/step - loss: 1.2789 - accuracy: 0.5308 - val_loss: 1.3072 - val_accuracy: 0.5287\n",
            "Epoch 10/150\n",
            "3828/3828 [==============================] - 11s 3ms/step - loss: 1.2415 - accuracy: 0.5371 - val_loss: 1.2264 - val_accuracy: 0.5674\n",
            "Epoch 11/150\n",
            "3828/3828 [==============================] - 12s 3ms/step - loss: 1.1982 - accuracy: 0.5726 - val_loss: 1.2501 - val_accuracy: 0.5350\n",
            "Epoch 12/150\n",
            "3828/3828 [==============================] - 12s 3ms/step - loss: 1.1522 - accuracy: 0.5784 - val_loss: 1.2341 - val_accuracy: 0.5413\n",
            "Epoch 13/150\n",
            "3828/3828 [==============================] - 12s 3ms/step - loss: 1.1132 - accuracy: 0.5998 - val_loss: 1.1835 - val_accuracy: 0.5664\n",
            "Epoch 14/150\n",
            "3828/3828 [==============================] - 12s 3ms/step - loss: 1.0984 - accuracy: 0.5954 - val_loss: 1.1706 - val_accuracy: 0.5820\n",
            "Epoch 15/150\n",
            "3828/3828 [==============================] - 12s 3ms/step - loss: 1.0767 - accuracy: 0.6155 - val_loss: 1.1452 - val_accuracy: 0.5768\n",
            "Epoch 16/150\n",
            "3828/3828 [==============================] - 12s 3ms/step - loss: 1.0334 - accuracy: 0.6322 - val_loss: 1.1296 - val_accuracy: 0.5956\n",
            "Epoch 17/150\n",
            "3828/3828 [==============================] - 11s 3ms/step - loss: 1.0127 - accuracy: 0.6351 - val_loss: 1.1315 - val_accuracy: 0.5956\n",
            "Epoch 18/150\n",
            "3828/3828 [==============================] - 12s 3ms/step - loss: 0.9706 - accuracy: 0.6536 - val_loss: 1.1460 - val_accuracy: 0.5904\n",
            "Epoch 19/150\n",
            "3828/3828 [==============================] - 12s 3ms/step - loss: 0.9523 - accuracy: 0.6573 - val_loss: 1.0852 - val_accuracy: 0.5998\n",
            "Epoch 20/150\n",
            "3828/3828 [==============================] - 12s 3ms/step - loss: 0.9289 - accuracy: 0.6703 - val_loss: 1.0737 - val_accuracy: 0.6186\n",
            "Epoch 21/150\n",
            "3828/3828 [==============================] - 12s 3ms/step - loss: 0.9114 - accuracy: 0.6774 - val_loss: 1.0997 - val_accuracy: 0.6071\n",
            "Epoch 22/150\n",
            "3828/3828 [==============================] - 12s 3ms/step - loss: 0.8875 - accuracy: 0.6831 - val_loss: 1.0428 - val_accuracy: 0.6217\n",
            "Epoch 23/150\n",
            "3828/3828 [==============================] - 12s 3ms/step - loss: 0.8558 - accuracy: 0.6933 - val_loss: 1.0288 - val_accuracy: 0.6196\n",
            "Epoch 24/150\n",
            "3828/3828 [==============================] - 12s 3ms/step - loss: 0.8586 - accuracy: 0.6946 - val_loss: 1.0519 - val_accuracy: 0.6290\n",
            "Epoch 25/150\n",
            "3828/3828 [==============================] - 11s 3ms/step - loss: 0.8226 - accuracy: 0.6988 - val_loss: 1.0034 - val_accuracy: 0.6364\n",
            "Epoch 26/150\n",
            "3828/3828 [==============================] - 11s 3ms/step - loss: 0.7905 - accuracy: 0.7249 - val_loss: 0.9977 - val_accuracy: 0.6510\n",
            "Epoch 27/150\n",
            "3828/3828 [==============================] - 12s 3ms/step - loss: 0.7731 - accuracy: 0.7333 - val_loss: 0.9886 - val_accuracy: 0.6541\n",
            "Epoch 28/150\n",
            "3828/3828 [==============================] - 12s 3ms/step - loss: 0.7621 - accuracy: 0.7283 - val_loss: 1.0269 - val_accuracy: 0.6311\n",
            "Epoch 29/150\n",
            "3828/3828 [==============================] - 12s 3ms/step - loss: 0.7641 - accuracy: 0.7304 - val_loss: 0.9828 - val_accuracy: 0.6437\n",
            "Epoch 30/150\n",
            "3828/3828 [==============================] - 12s 3ms/step - loss: 0.7112 - accuracy: 0.7463 - val_loss: 1.0240 - val_accuracy: 0.6541\n",
            "Epoch 31/150\n",
            "3828/3828 [==============================] - 12s 3ms/step - loss: 0.7164 - accuracy: 0.7427 - val_loss: 0.9912 - val_accuracy: 0.6614\n",
            "Epoch 32/150\n",
            "3828/3828 [==============================] - 12s 3ms/step - loss: 0.7081 - accuracy: 0.7469 - val_loss: 0.9822 - val_accuracy: 0.6499\n",
            "Epoch 33/150\n",
            "3828/3828 [==============================] - 12s 3ms/step - loss: 0.7046 - accuracy: 0.7474 - val_loss: 0.9773 - val_accuracy: 0.6541\n",
            "Epoch 34/150\n",
            "3828/3828 [==============================] - 12s 3ms/step - loss: 0.6799 - accuracy: 0.7610 - val_loss: 0.9710 - val_accuracy: 0.6573\n",
            "Epoch 35/150\n",
            "3828/3828 [==============================] - 12s 3ms/step - loss: 0.6488 - accuracy: 0.7730 - val_loss: 0.9410 - val_accuracy: 0.6729\n",
            "Epoch 36/150\n",
            "3828/3828 [==============================] - 12s 3ms/step - loss: 0.6596 - accuracy: 0.7599 - val_loss: 0.9993 - val_accuracy: 0.6520\n",
            "Epoch 37/150\n",
            "3828/3828 [==============================] - 12s 3ms/step - loss: 0.6470 - accuracy: 0.7722 - val_loss: 1.0347 - val_accuracy: 0.6437\n",
            "Epoch 38/150\n",
            "3828/3828 [==============================] - 12s 3ms/step - loss: 0.6154 - accuracy: 0.7847 - val_loss: 0.9531 - val_accuracy: 0.6729\n",
            "Epoch 39/150\n",
            "3828/3828 [==============================] - 12s 3ms/step - loss: 0.6046 - accuracy: 0.7905 - val_loss: 0.9533 - val_accuracy: 0.6729\n",
            "Epoch 40/150\n",
            "3828/3828 [==============================] - 12s 3ms/step - loss: 0.6112 - accuracy: 0.7761 - val_loss: 0.9604 - val_accuracy: 0.6646\n",
            "Epoch 41/150\n",
            "3828/3828 [==============================] - 12s 3ms/step - loss: 0.5803 - accuracy: 0.7941 - val_loss: 0.9541 - val_accuracy: 0.6667\n",
            "Epoch 42/150\n",
            "3828/3828 [==============================] - 12s 3ms/step - loss: 0.5519 - accuracy: 0.8033 - val_loss: 0.9463 - val_accuracy: 0.6740\n",
            "Epoch 43/150\n",
            "3828/3828 [==============================] - 12s 3ms/step - loss: 0.5549 - accuracy: 0.8077 - val_loss: 0.9177 - val_accuracy: 0.6729\n",
            "Epoch 44/150\n",
            "3828/3828 [==============================] - 12s 3ms/step - loss: 0.5380 - accuracy: 0.8033 - val_loss: 0.9932 - val_accuracy: 0.6614\n",
            "Epoch 45/150\n",
            "3828/3828 [==============================] - 12s 3ms/step - loss: 0.5494 - accuracy: 0.7996 - val_loss: 1.0419 - val_accuracy: 0.6385\n",
            "Epoch 46/150\n",
            "3828/3828 [==============================] - 12s 3ms/step - loss: 0.5348 - accuracy: 0.8143 - val_loss: 0.9536 - val_accuracy: 0.6646\n",
            "Epoch 47/150\n",
            "3828/3828 [==============================] - 12s 3ms/step - loss: 0.5184 - accuracy: 0.8208 - val_loss: 0.9446 - val_accuracy: 0.6635\n",
            "Epoch 48/150\n",
            "3828/3828 [==============================] - 12s 3ms/step - loss: 0.5213 - accuracy: 0.8148 - val_loss: 1.0172 - val_accuracy: 0.6531\n",
            "Epoch 49/150\n",
            "3828/3828 [==============================] - 12s 3ms/step - loss: 0.4993 - accuracy: 0.8200 - val_loss: 0.9089 - val_accuracy: 0.6813\n",
            "Epoch 50/150\n",
            "3828/3828 [==============================] - 12s 3ms/step - loss: 0.4859 - accuracy: 0.8349 - val_loss: 0.9144 - val_accuracy: 0.6803\n",
            "Epoch 51/150\n",
            "3828/3828 [==============================] - 12s 3ms/step - loss: 0.4969 - accuracy: 0.8179 - val_loss: 0.9459 - val_accuracy: 0.6583\n",
            "Epoch 52/150\n",
            "3828/3828 [==============================] - 12s 3ms/step - loss: 0.4727 - accuracy: 0.8281 - val_loss: 0.9360 - val_accuracy: 0.6740\n",
            "Epoch 53/150\n",
            "3828/3828 [==============================] - 12s 3ms/step - loss: 0.4652 - accuracy: 0.8388 - val_loss: 1.0089 - val_accuracy: 0.6573\n",
            "Epoch 54/150\n",
            "3828/3828 [==============================] - 12s 3ms/step - loss: 0.4486 - accuracy: 0.8367 - val_loss: 0.9361 - val_accuracy: 0.6876\n",
            "Epoch 55/150\n",
            "3828/3828 [==============================] - 12s 3ms/step - loss: 0.4571 - accuracy: 0.8320 - val_loss: 0.9681 - val_accuracy: 0.6792\n",
            "Epoch 56/150\n",
            "3828/3828 [==============================] - 12s 3ms/step - loss: 0.4392 - accuracy: 0.8420 - val_loss: 0.9615 - val_accuracy: 0.6771\n",
            "Epoch 57/150\n",
            "3828/3828 [==============================] - 12s 3ms/step - loss: 0.4329 - accuracy: 0.8487 - val_loss: 0.9528 - val_accuracy: 0.6803\n",
            "Epoch 58/150\n",
            "3828/3828 [==============================] - 12s 3ms/step - loss: 0.4176 - accuracy: 0.8521 - val_loss: 0.9666 - val_accuracy: 0.6667\n",
            "Epoch 59/150\n",
            "3828/3828 [==============================] - 12s 3ms/step - loss: 0.4255 - accuracy: 0.8472 - val_loss: 0.9192 - val_accuracy: 0.6876\n",
            "Epoch 60/150\n",
            "3828/3828 [==============================] - 12s 3ms/step - loss: 0.4051 - accuracy: 0.8529 - val_loss: 0.9168 - val_accuracy: 0.6813\n",
            "Epoch 61/150\n",
            "3828/3828 [==============================] - 12s 3ms/step - loss: 0.4105 - accuracy: 0.8540 - val_loss: 0.9374 - val_accuracy: 0.6750\n",
            "Epoch 62/150\n",
            "3828/3828 [==============================] - 12s 3ms/step - loss: 0.3839 - accuracy: 0.8636 - val_loss: 0.9360 - val_accuracy: 0.6917\n",
            "Epoch 63/150\n",
            "3828/3828 [==============================] - 12s 3ms/step - loss: 0.3841 - accuracy: 0.8660 - val_loss: 0.9461 - val_accuracy: 0.6886\n",
            "Epoch 64/150\n",
            "3828/3828 [==============================] - 12s 3ms/step - loss: 0.3957 - accuracy: 0.8558 - val_loss: 0.9707 - val_accuracy: 0.6771\n",
            "Epoch 65/150\n",
            "3828/3828 [==============================] - 12s 3ms/step - loss: 0.3844 - accuracy: 0.8621 - val_loss: 1.0499 - val_accuracy: 0.6646\n",
            "Epoch 66/150\n",
            "3828/3828 [==============================] - 12s 3ms/step - loss: 0.3671 - accuracy: 0.8642 - val_loss: 0.9459 - val_accuracy: 0.6917\n",
            "Epoch 67/150\n",
            "3828/3828 [==============================] - 12s 3ms/step - loss: 0.3647 - accuracy: 0.8715 - val_loss: 0.9680 - val_accuracy: 0.6719\n",
            "Epoch 68/150\n",
            "3828/3828 [==============================] - 12s 3ms/step - loss: 0.3814 - accuracy: 0.8647 - val_loss: 0.9307 - val_accuracy: 0.6928\n",
            "Epoch 69/150\n",
            "3828/3828 [==============================] - 12s 3ms/step - loss: 0.3637 - accuracy: 0.8712 - val_loss: 1.0423 - val_accuracy: 0.6729\n",
            "Epoch 70/150\n",
            "3828/3828 [==============================] - 12s 3ms/step - loss: 0.3494 - accuracy: 0.8806 - val_loss: 0.9489 - val_accuracy: 0.6865\n",
            "Epoch 71/150\n",
            "3828/3828 [==============================] - 12s 3ms/step - loss: 0.3489 - accuracy: 0.8814 - val_loss: 0.9555 - val_accuracy: 0.6865\n",
            "Epoch 72/150\n",
            "3828/3828 [==============================] - 12s 3ms/step - loss: 0.3378 - accuracy: 0.8827 - val_loss: 0.9683 - val_accuracy: 0.7043\n",
            "Epoch 73/150\n",
            "3828/3828 [==============================] - 12s 3ms/step - loss: 0.3476 - accuracy: 0.8746 - val_loss: 1.0735 - val_accuracy: 0.6667\n",
            "Epoch 74/150\n",
            "3828/3828 [==============================] - 12s 3ms/step - loss: 0.3190 - accuracy: 0.8885 - val_loss: 1.0561 - val_accuracy: 0.6646\n",
            "Epoch 75/150\n",
            "3828/3828 [==============================] - 12s 3ms/step - loss: 0.3067 - accuracy: 0.8932 - val_loss: 0.9668 - val_accuracy: 0.6844\n",
            "Epoch 76/150\n",
            "3828/3828 [==============================] - 12s 3ms/step - loss: 0.3048 - accuracy: 0.8947 - val_loss: 0.9741 - val_accuracy: 0.6980\n",
            "Epoch 77/150\n",
            "3828/3828 [==============================] - 12s 3ms/step - loss: 0.3133 - accuracy: 0.8905 - val_loss: 0.9776 - val_accuracy: 0.6865\n",
            "Epoch 78/150\n",
            "3828/3828 [==============================] - 12s 3ms/step - loss: 0.3118 - accuracy: 0.8895 - val_loss: 0.9875 - val_accuracy: 0.6813\n",
            "Epoch 79/150\n",
            "3828/3828 [==============================] - 12s 3ms/step - loss: 0.3006 - accuracy: 0.8992 - val_loss: 0.9654 - val_accuracy: 0.6938\n",
            "Epoch 80/150\n",
            "3828/3828 [==============================] - 12s 3ms/step - loss: 0.3009 - accuracy: 0.8937 - val_loss: 0.9627 - val_accuracy: 0.6886\n",
            "Epoch 81/150\n",
            "3828/3828 [==============================] - 12s 3ms/step - loss: 0.2873 - accuracy: 0.8971 - val_loss: 0.9470 - val_accuracy: 0.6949\n",
            "Epoch 82/150\n",
            "3828/3828 [==============================] - 12s 3ms/step - loss: 0.2933 - accuracy: 0.9015 - val_loss: 1.0557 - val_accuracy: 0.6667\n",
            "Epoch 83/150\n",
            "3828/3828 [==============================] - 12s 3ms/step - loss: 0.2681 - accuracy: 0.9083 - val_loss: 1.0621 - val_accuracy: 0.6729\n",
            "Epoch 84/150\n",
            "3828/3828 [==============================] - 12s 3ms/step - loss: 0.2789 - accuracy: 0.8994 - val_loss: 0.9825 - val_accuracy: 0.6834\n",
            "Epoch 85/150\n",
            "3828/3828 [==============================] - 12s 3ms/step - loss: 0.2665 - accuracy: 0.9007 - val_loss: 1.0419 - val_accuracy: 0.6625\n",
            "Epoch 86/150\n",
            "3828/3828 [==============================] - 12s 3ms/step - loss: 0.2648 - accuracy: 0.9062 - val_loss: 1.0307 - val_accuracy: 0.6844\n",
            "Epoch 87/150\n",
            "3828/3828 [==============================] - 12s 3ms/step - loss: 0.2589 - accuracy: 0.9091 - val_loss: 1.1120 - val_accuracy: 0.6552\n",
            "Epoch 88/150\n",
            "3828/3828 [==============================] - 12s 3ms/step - loss: 0.2776 - accuracy: 0.8960 - val_loss: 1.0512 - val_accuracy: 0.6792\n",
            "Epoch 89/150\n",
            "3828/3828 [==============================] - 16s 4ms/step - loss: 0.2579 - accuracy: 0.9091 - val_loss: 1.0534 - val_accuracy: 0.6635\n",
            "Epoch 90/150\n",
            "3828/3828 [==============================] - 12s 3ms/step - loss: 0.2631 - accuracy: 0.9073 - val_loss: 1.0857 - val_accuracy: 0.6771\n",
            "Epoch 91/150\n",
            "3828/3828 [==============================] - 12s 3ms/step - loss: 0.2508 - accuracy: 0.9135 - val_loss: 0.9791 - val_accuracy: 0.6897\n",
            "Epoch 92/150\n",
            "3828/3828 [==============================] - 12s 3ms/step - loss: 0.2513 - accuracy: 0.9086 - val_loss: 1.1700 - val_accuracy: 0.6468\n",
            "Epoch 93/150\n",
            "3828/3828 [==============================] - 12s 3ms/step - loss: 0.2394 - accuracy: 0.9169 - val_loss: 0.9795 - val_accuracy: 0.6897\n",
            "Epoch 94/150\n",
            "3828/3828 [==============================] - 12s 3ms/step - loss: 0.2408 - accuracy: 0.9151 - val_loss: 1.0559 - val_accuracy: 0.6792\n",
            "Epoch 95/150\n",
            "3828/3828 [==============================] - 12s 3ms/step - loss: 0.2411 - accuracy: 0.9175 - val_loss: 1.1505 - val_accuracy: 0.6562\n",
            "Epoch 96/150\n",
            "3828/3828 [==============================] - 12s 3ms/step - loss: 0.2323 - accuracy: 0.9188 - val_loss: 0.9667 - val_accuracy: 0.6949\n",
            "Epoch 97/150\n",
            "3828/3828 [==============================] - 12s 3ms/step - loss: 0.2326 - accuracy: 0.9180 - val_loss: 1.0223 - val_accuracy: 0.6876\n",
            "Epoch 98/150\n",
            "3828/3828 [==============================] - 12s 3ms/step - loss: 0.2331 - accuracy: 0.9203 - val_loss: 1.0917 - val_accuracy: 0.6719\n",
            "Epoch 99/150\n",
            "3828/3828 [==============================] - 12s 3ms/step - loss: 0.2189 - accuracy: 0.9269 - val_loss: 1.0021 - val_accuracy: 0.7022\n",
            "Epoch 100/150\n",
            "3828/3828 [==============================] - 12s 3ms/step - loss: 0.2256 - accuracy: 0.9198 - val_loss: 1.0334 - val_accuracy: 0.6949\n",
            "Epoch 101/150\n",
            "3828/3828 [==============================] - 12s 3ms/step - loss: 0.2235 - accuracy: 0.9201 - val_loss: 1.0435 - val_accuracy: 0.6855\n",
            "Epoch 102/150\n",
            "3828/3828 [==============================] - 12s 3ms/step - loss: 0.2113 - accuracy: 0.9279 - val_loss: 1.0560 - val_accuracy: 0.6876\n",
            "Epoch 103/150\n",
            "3828/3828 [==============================] - 12s 3ms/step - loss: 0.2085 - accuracy: 0.9255 - val_loss: 1.0017 - val_accuracy: 0.6970\n",
            "Epoch 104/150\n",
            "3828/3828 [==============================] - 12s 3ms/step - loss: 0.2134 - accuracy: 0.9214 - val_loss: 1.0352 - val_accuracy: 0.6928\n",
            "Epoch 105/150\n",
            "3828/3828 [==============================] - 12s 3ms/step - loss: 0.2171 - accuracy: 0.9206 - val_loss: 1.0924 - val_accuracy: 0.6844\n",
            "Epoch 106/150\n",
            "3828/3828 [==============================] - 12s 3ms/step - loss: 0.2112 - accuracy: 0.9303 - val_loss: 1.0212 - val_accuracy: 0.6959\n",
            "Epoch 107/150\n",
            "3828/3828 [==============================] - 12s 3ms/step - loss: 0.2185 - accuracy: 0.9229 - val_loss: 1.0339 - val_accuracy: 0.6917\n",
            "Epoch 108/150\n",
            "3828/3828 [==============================] - 12s 3ms/step - loss: 0.1912 - accuracy: 0.9326 - val_loss: 1.0426 - val_accuracy: 0.6813\n",
            "Epoch 109/150\n",
            "3828/3828 [==============================] - 12s 3ms/step - loss: 0.1978 - accuracy: 0.9347 - val_loss: 1.0721 - val_accuracy: 0.6886\n",
            "Epoch 110/150\n",
            "3828/3828 [==============================] - 12s 3ms/step - loss: 0.2016 - accuracy: 0.9271 - val_loss: 1.0697 - val_accuracy: 0.6844\n",
            "Epoch 111/150\n",
            "3828/3828 [==============================] - 12s 3ms/step - loss: 0.1994 - accuracy: 0.9308 - val_loss: 1.0889 - val_accuracy: 0.6865\n",
            "Epoch 112/150\n",
            "3828/3828 [==============================] - 12s 3ms/step - loss: 0.1896 - accuracy: 0.9326 - val_loss: 1.0982 - val_accuracy: 0.6719\n",
            "Epoch 113/150\n",
            "3828/3828 [==============================] - 12s 3ms/step - loss: 0.2006 - accuracy: 0.9284 - val_loss: 1.0405 - val_accuracy: 0.6980\n",
            "Epoch 114/150\n",
            "3828/3828 [==============================] - 12s 3ms/step - loss: 0.1876 - accuracy: 0.9350 - val_loss: 1.0320 - val_accuracy: 0.7001\n",
            "Epoch 115/150\n",
            "3828/3828 [==============================] - 12s 3ms/step - loss: 0.1799 - accuracy: 0.9363 - val_loss: 1.0227 - val_accuracy: 0.7053\n",
            "Epoch 116/150\n",
            "3828/3828 [==============================] - 12s 3ms/step - loss: 0.1868 - accuracy: 0.9331 - val_loss: 1.0943 - val_accuracy: 0.6813\n",
            "Epoch 117/150\n",
            "3828/3828 [==============================] - 12s 3ms/step - loss: 0.1763 - accuracy: 0.9404 - val_loss: 1.0426 - val_accuracy: 0.7001\n",
            "Epoch 118/150\n",
            "3828/3828 [==============================] - 12s 3ms/step - loss: 0.1757 - accuracy: 0.9381 - val_loss: 1.0866 - val_accuracy: 0.6886\n",
            "Epoch 119/150\n",
            "3828/3828 [==============================] - 12s 3ms/step - loss: 0.1675 - accuracy: 0.9394 - val_loss: 1.1468 - val_accuracy: 0.6771\n",
            "Epoch 120/150\n",
            "3828/3828 [==============================] - 12s 3ms/step - loss: 0.1805 - accuracy: 0.9360 - val_loss: 1.0710 - val_accuracy: 0.6813\n",
            "Epoch 121/150\n",
            "3828/3828 [==============================] - 12s 3ms/step - loss: 0.1691 - accuracy: 0.9402 - val_loss: 1.1012 - val_accuracy: 0.6782\n",
            "Epoch 122/150\n",
            "3828/3828 [==============================] - 12s 3ms/step - loss: 0.1683 - accuracy: 0.9404 - val_loss: 1.0473 - val_accuracy: 0.7085\n",
            "Epoch 123/150\n",
            "3828/3828 [==============================] - 12s 3ms/step - loss: 0.1717 - accuracy: 0.9404 - val_loss: 1.0571 - val_accuracy: 0.7022\n",
            "Epoch 124/150\n",
            "3828/3828 [==============================] - 12s 3ms/step - loss: 0.1608 - accuracy: 0.9402 - val_loss: 1.0509 - val_accuracy: 0.6970\n",
            "Epoch 125/150\n",
            "3828/3828 [==============================] - 12s 3ms/step - loss: 0.1836 - accuracy: 0.9357 - val_loss: 1.2525 - val_accuracy: 0.6656\n",
            "Epoch 126/150\n",
            "3828/3828 [==============================] - 12s 3ms/step - loss: 0.1579 - accuracy: 0.9428 - val_loss: 1.0752 - val_accuracy: 0.6844\n",
            "Epoch 127/150\n",
            "3828/3828 [==============================] - 12s 3ms/step - loss: 0.1658 - accuracy: 0.9415 - val_loss: 1.2044 - val_accuracy: 0.6656\n",
            "Epoch 128/150\n",
            "3828/3828 [==============================] - 12s 3ms/step - loss: 0.1640 - accuracy: 0.9407 - val_loss: 1.1673 - val_accuracy: 0.6803\n",
            "Epoch 129/150\n",
            "3828/3828 [==============================] - 12s 3ms/step - loss: 0.1435 - accuracy: 0.9548 - val_loss: 1.0442 - val_accuracy: 0.7032\n",
            "Epoch 130/150\n",
            "3828/3828 [==============================] - 12s 3ms/step - loss: 0.1616 - accuracy: 0.9417 - val_loss: 1.0650 - val_accuracy: 0.7043\n",
            "Epoch 131/150\n",
            "3828/3828 [==============================] - 12s 3ms/step - loss: 0.1610 - accuracy: 0.9438 - val_loss: 1.1270 - val_accuracy: 0.6823\n",
            "Epoch 132/150\n",
            "3828/3828 [==============================] - 12s 3ms/step - loss: 0.1470 - accuracy: 0.9525 - val_loss: 1.1753 - val_accuracy: 0.6761\n",
            "Epoch 133/150\n",
            "3828/3828 [==============================] - 12s 3ms/step - loss: 0.1566 - accuracy: 0.9451 - val_loss: 1.1963 - val_accuracy: 0.6750\n",
            "Epoch 134/150\n",
            "3828/3828 [==============================] - 12s 3ms/step - loss: 0.1466 - accuracy: 0.9493 - val_loss: 1.1646 - val_accuracy: 0.6855\n",
            "Epoch 135/150\n",
            "3828/3828 [==============================] - 12s 3ms/step - loss: 0.1541 - accuracy: 0.9475 - val_loss: 1.0938 - val_accuracy: 0.7011\n",
            "Epoch 136/150\n",
            "3828/3828 [==============================] - 12s 3ms/step - loss: 0.1451 - accuracy: 0.9472 - val_loss: 1.1800 - val_accuracy: 0.6949\n",
            "Epoch 137/150\n",
            "3828/3828 [==============================] - 12s 3ms/step - loss: 0.1424 - accuracy: 0.9470 - val_loss: 1.3074 - val_accuracy: 0.6719\n",
            "Epoch 138/150\n",
            "3828/3828 [==============================] - 12s 3ms/step - loss: 0.1469 - accuracy: 0.9504 - val_loss: 1.1571 - val_accuracy: 0.6803\n",
            "Epoch 139/150\n",
            "3828/3828 [==============================] - 12s 3ms/step - loss: 0.1606 - accuracy: 0.9428 - val_loss: 1.1001 - val_accuracy: 0.6959\n",
            "Epoch 140/150\n",
            "3828/3828 [==============================] - 12s 3ms/step - loss: 0.1472 - accuracy: 0.9472 - val_loss: 1.0787 - val_accuracy: 0.7106\n",
            "Epoch 141/150\n",
            "3828/3828 [==============================] - 16s 4ms/step - loss: 0.1381 - accuracy: 0.9480 - val_loss: 1.1612 - val_accuracy: 0.6792\n",
            "Epoch 142/150\n",
            "3828/3828 [==============================] - 12s 3ms/step - loss: 0.1406 - accuracy: 0.9522 - val_loss: 1.1298 - val_accuracy: 0.6991\n",
            "Epoch 143/150\n",
            "3828/3828 [==============================] - 11s 3ms/step - loss: 0.1291 - accuracy: 0.9553 - val_loss: 1.2060 - val_accuracy: 0.7011\n",
            "Epoch 144/150\n",
            "3828/3828 [==============================] - 12s 3ms/step - loss: 0.1384 - accuracy: 0.9551 - val_loss: 1.1523 - val_accuracy: 0.6907\n",
            "Epoch 145/150\n",
            "3828/3828 [==============================] - 12s 3ms/step - loss: 0.1293 - accuracy: 0.9556 - val_loss: 1.1446 - val_accuracy: 0.6865\n",
            "Epoch 146/150\n",
            "3828/3828 [==============================] - 12s 3ms/step - loss: 0.1203 - accuracy: 0.9592 - val_loss: 1.1419 - val_accuracy: 0.6980\n",
            "Epoch 147/150\n",
            "3828/3828 [==============================] - 12s 3ms/step - loss: 0.1282 - accuracy: 0.9553 - val_loss: 1.1798 - val_accuracy: 0.6823\n",
            "Epoch 148/150\n",
            "3828/3828 [==============================] - 12s 3ms/step - loss: 0.1273 - accuracy: 0.9556 - val_loss: 1.1190 - val_accuracy: 0.7032\n",
            "Epoch 149/150\n",
            "3828/3828 [==============================] - 12s 3ms/step - loss: 0.1344 - accuracy: 0.9532 - val_loss: 1.2396 - val_accuracy: 0.6834\n",
            "Epoch 150/150\n",
            "3828/3828 [==============================] - 12s 3ms/step - loss: 0.1247 - accuracy: 0.9574 - val_loss: 1.1557 - val_accuracy: 0.6750\n"
          ],
          "name": "stdout"
        }
      ]
    },
    {
      "cell_type": "code",
      "metadata": {
        "colab_type": "code",
        "outputId": "cad1fc88-3164-4315-bac9-57eba7c8b4b8",
        "id": "X1YRCkNcggfq",
        "colab": {
          "base_uri": "https://localhost:8080/",
          "height": 81
        }
      },
      "source": [
        "mfcc_ssc_accuracy = cnnhistory.history['val_accuracy']\n",
        "mfcc_ssc_model = model\n",
        "print(mfcc_ssc_accuracy)"
      ],
      "execution_count": 0,
      "outputs": [
        {
          "output_type": "stream",
          "text": [
            "[0.15987460315227509, 0.32810866832733154, 0.39080458879470825, 0.4514106512069702, 0.4817136824131012, 0.4952978193759918, 0.5015674233436584, 0.5005224943161011, 0.5287356376647949, 0.5673981308937073, 0.5350052118301392, 0.5412748456001282, 0.5663532018661499, 0.5820271968841553, 0.5768024921417236, 0.5956112742424011, 0.5956112742424011, 0.5903866291046143, 0.5997909903526306, 0.6185997724533081, 0.607105553150177, 0.6217345595359802, 0.6196447014808655, 0.6290491223335266, 0.6363636255264282, 0.6509926915168762, 0.6541274785995483, 0.6311389803886414, 0.6436781883239746, 0.6541274785995483, 0.66144198179245, 0.6499477624893188, 0.6541274785995483, 0.6572622656822205, 0.6729362607002258, 0.6520376205444336, 0.6436781883239746, 0.6729362607002258, 0.6729362607002258, 0.6645768284797668, 0.6666666865348816, 0.6739811897277832, 0.6729362607002258, 0.66144198179245, 0.638453483581543, 0.6645768284797668, 0.6635318994522095, 0.653082549571991, 0.6812956929206848, 0.6802507638931274, 0.6583071947097778, 0.6739811897277832, 0.6572622656822205, 0.6875653266906738, 0.6792058348655701, 0.6771159768104553, 0.6802507638931274, 0.6666666865348816, 0.6875653266906738, 0.6812956929206848, 0.6750261187553406, 0.6917450428009033, 0.6886102557182312, 0.6771159768104553, 0.6645768284797668, 0.6917450428009033, 0.6718913316726685, 0.6927899718284607, 0.6729362607002258, 0.6865203976631165, 0.6865203976631165, 0.7042842507362366, 0.6666666865348816, 0.6645768284797668, 0.6844305396080017, 0.6980146169662476, 0.6865203976631165, 0.6812956929206848, 0.6938349008560181, 0.6886102557182312, 0.6948798298835754, 0.6666666865348816, 0.6729362607002258, 0.6833855509757996, 0.6624869108200073, 0.6844305396080017, 0.6551724076271057, 0.6792058348655701, 0.6635318994522095, 0.6771159768104553, 0.6896551847457886, 0.6468129754066467, 0.6896551847457886, 0.6792058348655701, 0.6562173366546631, 0.6948798298835754, 0.6875653266906738, 0.6718913316726685, 0.702194333076477, 0.6948798298835754, 0.6854754686355591, 0.6875653266906738, 0.6969696879386902, 0.6927899718284607, 0.6844305396080017, 0.6959247589111328, 0.6917450428009033, 0.6812956929206848, 0.6886102557182312, 0.6844305396080017, 0.6865203976631165, 0.6718913316726685, 0.6980146169662476, 0.7001044750213623, 0.705329179763794, 0.6812956929206848, 0.7001044750213623, 0.6886102557182312, 0.6771159768104553, 0.6812956929206848, 0.6781609058380127, 0.7084639668464661, 0.702194333076477, 0.6969696879386902, 0.6656217575073242, 0.6844305396080017, 0.6656217575073242, 0.6802507638931274, 0.7032392621040344, 0.7042842507362366, 0.6823406219482422, 0.676071047782898, 0.6750261187553406, 0.6854754686355591, 0.7011494040489197, 0.6948798298835754, 0.6718913316726685, 0.6802507638931274, 0.6959247589111328, 0.7105538249015808, 0.6792058348655701, 0.6990595459938049, 0.7011494040489197, 0.690700113773346, 0.6865203976631165, 0.6980146169662476, 0.6823406219482422, 0.7032392621040344, 0.6833855509757996, 0.6750261187553406]\n"
          ],
          "name": "stdout"
        }
      ]
    },
    {
      "cell_type": "code",
      "metadata": {
        "colab_type": "code",
        "outputId": "1ce0864f-1ddd-4cf7-ddef-09c6430c38f8",
        "id": "SZmVyIxqggfs",
        "colab": {
          "base_uri": "https://localhost:8080/",
          "height": 295
        }
      },
      "source": [
        "plt.plot(cnnhistory.history['accuracy'],'b', linestyle='--', label='train')\n",
        "plt.plot(cnnhistory.history['val_accuracy'],'g', linestyle='-', label='test')\n",
        "plt.title('CNN model accuracy(mfcc_ssc)')\n",
        "plt.ylabel('accuracy')\n",
        "plt.xlabel('epoch')\n",
        "plt.legend()\n",
        "plt.show()"
      ],
      "execution_count": 0,
      "outputs": [
        {
          "output_type": "display_data",
          "data": {
            "image/png": "[encoded data removed]",
            "text/plain": [
              "<Figure size 432x288 with 1 Axes>"
            ]
          },
          "metadata": {
            "tags": [],
            "needs_background": "light"
          }
        }
      ]
    },
    {
      "cell_type": "code",
      "metadata": {
        "colab_type": "code",
        "outputId": "33b831c2-2f04-4ee0-f7e9-e065597a5ce5",
        "id": "pa7XqKccggfw",
        "colab": {
          "base_uri": "https://localhost:8080/",
          "height": 52
        }
      },
      "source": [
        "mfcc_ssc_model = load_model('/content/gdrive/My Drive/Minor_Sem6/CNN Models(of features)/MFCC_SSC.h5')\n",
        "loss, acc = mfcc_ssc_model.evaluate(x_testcnn, y_test_mfcc_ssc)\n",
        "print(\"Restored model, accuracy: {:5.2f}%\".format(100*acc))\n",
        "ms = acc\n",
        "# print(ms)"
      ],
      "execution_count": 29,
      "outputs": [
        {
          "output_type": "stream",
          "text": [
            "957/957 [==============================] - 1s 556us/step\n",
            "Restored model, accuracy: 67.50%\n"
          ],
          "name": "stdout"
        }
      ]
    },
    {
      "cell_type": "markdown",
      "metadata": {
        "colab_type": "text",
        "id": "hhgzofJ_gfQk"
      },
      "source": [
        "# mfcc+lpc"
      ]
    },
    {
      "cell_type": "code",
      "metadata": {
        "colab_type": "code",
        "id": "3Y2uQPMxgfQm",
        "colab": {}
      },
      "source": [
        "# Considering only mfcc+lpc\n",
        "\n",
        "X_train_mfcc_lpc, X_test_mfcc_lpc, y_train_mfcc_lpc, y_test_mfcc_lpc = train_test_split(X_mfcc_lpc1, y1, test_size=0.2, random_state=0)\n",
        "x_traincnn =np.expand_dims(X_train_mfcc_lpc, axis=2)\n",
        "x_testcnn= np.expand_dims(X_test_mfcc_lpc, axis=2)\n"
      ],
      "execution_count": 0,
      "outputs": []
    },
    {
      "cell_type": "code",
      "metadata": {
        "colab_type": "code",
        "outputId": "56977112-7324-4c23-ee6c-2a364235a35f",
        "id": "C0FLrjDcgfQv",
        "colab": {
          "base_uri": "https://localhost:8080/",
          "height": 34
        }
      },
      "source": [
        "print(X_train_mfcc_lpc.shape[1])"
      ],
      "execution_count": 0,
      "outputs": [
        {
          "output_type": "stream",
          "text": [
            "104\n"
          ],
          "name": "stdout"
        }
      ]
    },
    {
      "cell_type": "code",
      "metadata": {
        "colab_type": "code",
        "id": "JL8HhMF-gfQ5",
        "colab": {}
      },
      "source": [
        "model = Sequential()\n",
        "\n",
        "model.add(Conv1D(128, 5,padding='same',input_shape=(104,1)))\n",
        "model.add(Activation('relu'))\n",
        "model.add(Dropout(0.1))\n",
        "model.add(MaxPooling1D(pool_size=(8)))\n",
        "\n",
        "model.add(Conv1D(128, 5,padding='same',))\n",
        "model.add(BatchNormalization())                  \n",
        "model.add(Activation('relu'))\n",
        "model.add(MaxPooling1D(pool_size=(8)))\n",
        "model.add(Dropout(0.1))\n",
        "\n",
        "model.add(Conv1D(128, 5,padding='same',))                  \n",
        "model.add(Activation('relu'))\n",
        "model.add(Dropout(0.1))\n",
        "\n",
        "model.add(Conv1D(128, 5,padding='same',)) \n",
        "model.add(BatchNormalization())                 \n",
        "model.add(Activation('relu'))\n",
        "model.add(Dropout(0.1))\n",
        "\n",
        "model.add(Flatten())\n",
        "model.add(Dense(8))                                                           \n",
        "model.add(Activation('softmax'))\n",
        "opt = keras.optimizers.rmsprop(lr=0.00005,epsilon=1e-08,rho=0.9,decay=0.0)"
      ],
      "execution_count": 0,
      "outputs": []
    },
    {
      "cell_type": "code",
      "metadata": {
        "colab_type": "code",
        "outputId": "759a2044-2153-4df3-cd13-a642bc114147",
        "id": "MuftsdSPgfQ-",
        "colab": {
          "base_uri": "https://localhost:8080/",
          "height": 1000
        }
      },
      "source": [
        "model.summary()"
      ],
      "execution_count": 0,
      "outputs": [
        {
          "output_type": "stream",
          "text": [
            "Model: \"sequential_18\"\n",
            "_________________________________________________________________\n",
            "Layer (type)                 Output Shape              Param #   \n",
            "=================================================================\n",
            "conv1d_61 (Conv1D)           (None, 104, 128)          768       \n",
            "_________________________________________________________________\n",
            "activation_74 (Activation)   (None, 104, 128)          0         \n",
            "_________________________________________________________________\n",
            "dropout_57 (Dropout)         (None, 104, 128)          0         \n",
            "_________________________________________________________________\n",
            "max_pooling1d_34 (MaxPooling (None, 13, 128)           0         \n",
            "_________________________________________________________________\n",
            "conv1d_62 (Conv1D)           (None, 13, 128)           82048     \n",
            "_________________________________________________________________\n",
            "batch_normalization_31 (Batc (None, 13, 128)           512       \n",
            "_________________________________________________________________\n",
            "activation_75 (Activation)   (None, 13, 128)           0         \n",
            "_________________________________________________________________\n",
            "max_pooling1d_35 (MaxPooling (None, 1, 128)            0         \n",
            "_________________________________________________________________\n",
            "dropout_58 (Dropout)         (None, 1, 128)            0         \n",
            "_________________________________________________________________\n",
            "conv1d_63 (Conv1D)           (None, 1, 128)            82048     \n",
            "_________________________________________________________________\n",
            "activation_76 (Activation)   (None, 1, 128)            0         \n",
            "_________________________________________________________________\n",
            "dropout_59 (Dropout)         (None, 1, 128)            0         \n",
            "_________________________________________________________________\n",
            "conv1d_64 (Conv1D)           (None, 1, 128)            82048     \n",
            "_________________________________________________________________\n",
            "batch_normalization_32 (Batc (None, 1, 128)            512       \n",
            "_________________________________________________________________\n",
            "activation_77 (Activation)   (None, 1, 128)            0         \n",
            "_________________________________________________________________\n",
            "dropout_60 (Dropout)         (None, 1, 128)            0         \n",
            "_________________________________________________________________\n",
            "flatten_14 (Flatten)         (None, 128)               0         \n",
            "_________________________________________________________________\n",
            "dense_14 (Dense)             (None, 8)                 1032      \n",
            "_________________________________________________________________\n",
            "activation_78 (Activation)   (None, 8)                 0         \n",
            "=================================================================\n",
            "Total params: 248,968\n",
            "Trainable params: 248,456\n",
            "Non-trainable params: 512\n",
            "_________________________________________________________________\n"
          ],
          "name": "stdout"
        }
      ]
    },
    {
      "cell_type": "code",
      "metadata": {
        "colab_type": "code",
        "outputId": "7279d159-2809-4166-d481-a1a70c73b630",
        "id": "n7ZDz3mPgfRD",
        "colab": {
          "base_uri": "https://localhost:8080/",
          "height": 1000
        }
      },
      "source": [
        "model.compile(loss='sparse_categorical_crossentropy', optimizer=opt,metrics=['accuracy'])\n",
        "cnnhistory=model.fit(x_traincnn, y_train_mfcc_lpc, batch_size=20, epochs=150, validation_data=(x_testcnn, y_test_mfcc_lpc))\n",
        "model.save('/content/gdrive/My Drive/feature/MFCC_LPC.h5')"
      ],
      "execution_count": 0,
      "outputs": [
        {
          "output_type": "stream",
          "text": [
            "Train on 3828 samples, validate on 957 samples\n",
            "Epoch 1/150\n",
            "3828/3828 [==============================] - 4s 922us/step - loss: 2.2629 - accuracy: 0.1609 - val_loss: 2.0882 - val_accuracy: 0.1452\n",
            "Epoch 2/150\n",
            "3828/3828 [==============================] - 3s 805us/step - loss: 2.1306 - accuracy: 0.1863 - val_loss: 2.0113 - val_accuracy: 0.2121\n",
            "Epoch 3/150\n",
            "3828/3828 [==============================] - 3s 797us/step - loss: 2.0270 - accuracy: 0.2252 - val_loss: 1.8695 - val_accuracy: 0.2978\n",
            "Epoch 4/150\n",
            "3828/3828 [==============================] - 3s 811us/step - loss: 1.9697 - accuracy: 0.2364 - val_loss: 1.7907 - val_accuracy: 0.3344\n",
            "Epoch 5/150\n",
            "3828/3828 [==============================] - 3s 827us/step - loss: 1.8931 - accuracy: 0.2761 - val_loss: 1.7440 - val_accuracy: 0.3615\n",
            "Epoch 6/150\n",
            "3828/3828 [==============================] - 3s 816us/step - loss: 1.8395 - accuracy: 0.2981 - val_loss: 1.7149 - val_accuracy: 0.3605\n",
            "Epoch 7/150\n",
            "3828/3828 [==============================] - 3s 799us/step - loss: 1.7952 - accuracy: 0.3145 - val_loss: 1.7129 - val_accuracy: 0.3699\n",
            "Epoch 8/150\n",
            "3828/3828 [==============================] - 3s 804us/step - loss: 1.7700 - accuracy: 0.3252 - val_loss: 1.6543 - val_accuracy: 0.3929\n",
            "Epoch 9/150\n",
            "3828/3828 [==============================] - 3s 789us/step - loss: 1.7240 - accuracy: 0.3404 - val_loss: 1.6370 - val_accuracy: 0.3908\n",
            "Epoch 10/150\n",
            "3828/3828 [==============================] - 3s 808us/step - loss: 1.7051 - accuracy: 0.3615 - val_loss: 1.5836 - val_accuracy: 0.4138\n",
            "Epoch 11/150\n",
            "3828/3828 [==============================] - 3s 797us/step - loss: 1.6753 - accuracy: 0.3574 - val_loss: 1.5782 - val_accuracy: 0.4263\n",
            "Epoch 12/150\n",
            "3828/3828 [==============================] - 3s 798us/step - loss: 1.6475 - accuracy: 0.3770 - val_loss: 1.5607 - val_accuracy: 0.4431\n",
            "Epoch 13/150\n",
            "3828/3828 [==============================] - 3s 819us/step - loss: 1.6187 - accuracy: 0.3882 - val_loss: 1.5426 - val_accuracy: 0.4441\n",
            "Epoch 14/150\n",
            "3828/3828 [==============================] - 3s 810us/step - loss: 1.5940 - accuracy: 0.3973 - val_loss: 1.5321 - val_accuracy: 0.4368\n",
            "Epoch 15/150\n",
            "3828/3828 [==============================] - 3s 794us/step - loss: 1.6000 - accuracy: 0.3989 - val_loss: 1.4956 - val_accuracy: 0.4441\n",
            "Epoch 16/150\n",
            "3828/3828 [==============================] - 3s 798us/step - loss: 1.5615 - accuracy: 0.4127 - val_loss: 1.4879 - val_accuracy: 0.4566\n",
            "Epoch 17/150\n",
            "3828/3828 [==============================] - 3s 804us/step - loss: 1.5539 - accuracy: 0.4101 - val_loss: 1.4537 - val_accuracy: 0.4828\n",
            "Epoch 18/150\n",
            "3828/3828 [==============================] - 3s 804us/step - loss: 1.5309 - accuracy: 0.4255 - val_loss: 1.4413 - val_accuracy: 0.4734\n",
            "Epoch 19/150\n",
            "3828/3828 [==============================] - 3s 806us/step - loss: 1.5049 - accuracy: 0.4381 - val_loss: 1.4290 - val_accuracy: 0.4744\n",
            "Epoch 20/150\n",
            "3828/3828 [==============================] - 3s 830us/step - loss: 1.5085 - accuracy: 0.4295 - val_loss: 1.4549 - val_accuracy: 0.4723\n",
            "Epoch 21/150\n",
            "3828/3828 [==============================] - 3s 811us/step - loss: 1.4771 - accuracy: 0.4425 - val_loss: 1.4276 - val_accuracy: 0.4754\n",
            "Epoch 22/150\n",
            "3828/3828 [==============================] - 3s 808us/step - loss: 1.4897 - accuracy: 0.4407 - val_loss: 1.4211 - val_accuracy: 0.4880\n",
            "Epoch 23/150\n",
            "3828/3828 [==============================] - 3s 815us/step - loss: 1.4551 - accuracy: 0.4569 - val_loss: 1.3954 - val_accuracy: 0.4796\n",
            "Epoch 24/150\n",
            "3828/3828 [==============================] - 3s 793us/step - loss: 1.4464 - accuracy: 0.4650 - val_loss: 1.3865 - val_accuracy: 0.4901\n",
            "Epoch 25/150\n",
            "3828/3828 [==============================] - 3s 804us/step - loss: 1.4377 - accuracy: 0.4681 - val_loss: 1.4606 - val_accuracy: 0.4723\n",
            "Epoch 26/150\n",
            "3828/3828 [==============================] - 3s 801us/step - loss: 1.4223 - accuracy: 0.4788 - val_loss: 1.4058 - val_accuracy: 0.4943\n",
            "Epoch 27/150\n",
            "3828/3828 [==============================] - 3s 808us/step - loss: 1.4116 - accuracy: 0.4754 - val_loss: 1.3486 - val_accuracy: 0.5057\n",
            "Epoch 28/150\n",
            "3828/3828 [==============================] - 3s 808us/step - loss: 1.3863 - accuracy: 0.4880 - val_loss: 1.3790 - val_accuracy: 0.5099\n",
            "Epoch 29/150\n",
            "3828/3828 [==============================] - 3s 817us/step - loss: 1.3653 - accuracy: 0.4909 - val_loss: 1.3448 - val_accuracy: 0.5037\n",
            "Epoch 30/150\n",
            "3828/3828 [==============================] - 3s 818us/step - loss: 1.3494 - accuracy: 0.5112 - val_loss: 1.3368 - val_accuracy: 0.5225\n",
            "Epoch 31/150\n",
            "3828/3828 [==============================] - 3s 808us/step - loss: 1.3481 - accuracy: 0.4992 - val_loss: 1.3389 - val_accuracy: 0.5120\n",
            "Epoch 32/150\n",
            "3828/3828 [==============================] - 3s 823us/step - loss: 1.3572 - accuracy: 0.4901 - val_loss: 1.3352 - val_accuracy: 0.4995\n",
            "Epoch 33/150\n",
            "3828/3828 [==============================] - 3s 818us/step - loss: 1.3200 - accuracy: 0.5110 - val_loss: 1.3093 - val_accuracy: 0.5235\n",
            "Epoch 34/150\n",
            "3828/3828 [==============================] - 3s 803us/step - loss: 1.3257 - accuracy: 0.5071 - val_loss: 1.2878 - val_accuracy: 0.5277\n",
            "Epoch 35/150\n",
            "3828/3828 [==============================] - 3s 799us/step - loss: 1.3164 - accuracy: 0.5050 - val_loss: 1.2987 - val_accuracy: 0.5246\n",
            "Epoch 36/150\n",
            "3828/3828 [==============================] - 3s 796us/step - loss: 1.3016 - accuracy: 0.5212 - val_loss: 1.2812 - val_accuracy: 0.5340\n",
            "Epoch 37/150\n",
            "3828/3828 [==============================] - 3s 831us/step - loss: 1.2826 - accuracy: 0.5290 - val_loss: 1.2751 - val_accuracy: 0.5340\n",
            "Epoch 38/150\n",
            "3828/3828 [==============================] - 3s 799us/step - loss: 1.2769 - accuracy: 0.5266 - val_loss: 1.2877 - val_accuracy: 0.5193\n",
            "Epoch 39/150\n",
            "3828/3828 [==============================] - 3s 803us/step - loss: 1.2574 - accuracy: 0.5400 - val_loss: 1.2816 - val_accuracy: 0.5381\n",
            "Epoch 40/150\n",
            "3828/3828 [==============================] - 3s 813us/step - loss: 1.2528 - accuracy: 0.5361 - val_loss: 1.2762 - val_accuracy: 0.5455\n",
            "Epoch 41/150\n",
            "3828/3828 [==============================] - 3s 800us/step - loss: 1.2417 - accuracy: 0.5324 - val_loss: 1.2723 - val_accuracy: 0.5381\n",
            "Epoch 42/150\n",
            "3828/3828 [==============================] - 3s 792us/step - loss: 1.2318 - accuracy: 0.5423 - val_loss: 1.2569 - val_accuracy: 0.5444\n",
            "Epoch 43/150\n",
            "3828/3828 [==============================] - 3s 809us/step - loss: 1.2227 - accuracy: 0.5515 - val_loss: 1.2653 - val_accuracy: 0.5361\n",
            "Epoch 44/150\n",
            "3828/3828 [==============================] - 3s 803us/step - loss: 1.2206 - accuracy: 0.5538 - val_loss: 1.2510 - val_accuracy: 0.5371\n",
            "Epoch 45/150\n",
            "3828/3828 [==============================] - 3s 806us/step - loss: 1.2166 - accuracy: 0.5486 - val_loss: 1.2413 - val_accuracy: 0.5350\n",
            "Epoch 46/150\n",
            "3828/3828 [==============================] - 3s 810us/step - loss: 1.1946 - accuracy: 0.5703 - val_loss: 1.2529 - val_accuracy: 0.5392\n",
            "Epoch 47/150\n",
            "3828/3828 [==============================] - 3s 829us/step - loss: 1.1817 - accuracy: 0.5697 - val_loss: 1.2318 - val_accuracy: 0.5475\n",
            "Epoch 48/150\n",
            "3828/3828 [==============================] - 3s 789us/step - loss: 1.1822 - accuracy: 0.5755 - val_loss: 1.2405 - val_accuracy: 0.5434\n",
            "Epoch 49/150\n",
            "3828/3828 [==============================] - 3s 824us/step - loss: 1.1743 - accuracy: 0.5737 - val_loss: 1.2035 - val_accuracy: 0.5643\n",
            "Epoch 50/150\n",
            "3828/3828 [==============================] - 3s 797us/step - loss: 1.1463 - accuracy: 0.5807 - val_loss: 1.2211 - val_accuracy: 0.5611\n",
            "Epoch 51/150\n",
            "3828/3828 [==============================] - 3s 801us/step - loss: 1.1493 - accuracy: 0.5671 - val_loss: 1.2464 - val_accuracy: 0.5486\n",
            "Epoch 52/150\n",
            "3828/3828 [==============================] - 3s 821us/step - loss: 1.1532 - accuracy: 0.5739 - val_loss: 1.2379 - val_accuracy: 0.5455\n",
            "Epoch 53/150\n",
            "3828/3828 [==============================] - 3s 820us/step - loss: 1.1442 - accuracy: 0.5904 - val_loss: 1.2250 - val_accuracy: 0.5486\n",
            "Epoch 54/150\n",
            "3828/3828 [==============================] - 3s 858us/step - loss: 1.1284 - accuracy: 0.5930 - val_loss: 1.2283 - val_accuracy: 0.5517\n",
            "Epoch 55/150\n",
            "3828/3828 [==============================] - 3s 848us/step - loss: 1.1158 - accuracy: 0.5878 - val_loss: 1.2301 - val_accuracy: 0.5371\n",
            "Epoch 56/150\n",
            "3828/3828 [==============================] - 3s 850us/step - loss: 1.1089 - accuracy: 0.5867 - val_loss: 1.2173 - val_accuracy: 0.5569\n",
            "Epoch 57/150\n",
            "3828/3828 [==============================] - 3s 801us/step - loss: 1.0890 - accuracy: 0.6014 - val_loss: 1.2228 - val_accuracy: 0.5549\n",
            "Epoch 58/150\n",
            "3828/3828 [==============================] - 3s 797us/step - loss: 1.0942 - accuracy: 0.6058 - val_loss: 1.1676 - val_accuracy: 0.5705\n",
            "Epoch 59/150\n",
            "3828/3828 [==============================] - 3s 793us/step - loss: 1.1138 - accuracy: 0.5825 - val_loss: 1.1896 - val_accuracy: 0.5747\n",
            "Epoch 60/150\n",
            "3828/3828 [==============================] - 3s 813us/step - loss: 1.0968 - accuracy: 0.5878 - val_loss: 1.2156 - val_accuracy: 0.5507\n",
            "Epoch 61/150\n",
            "3828/3828 [==============================] - 3s 834us/step - loss: 1.0692 - accuracy: 0.6037 - val_loss: 1.2103 - val_accuracy: 0.5653\n",
            "Epoch 62/150\n",
            "3828/3828 [==============================] - 3s 844us/step - loss: 1.0511 - accuracy: 0.6160 - val_loss: 1.1920 - val_accuracy: 0.5496\n",
            "Epoch 63/150\n",
            "3828/3828 [==============================] - 3s 797us/step - loss: 1.0540 - accuracy: 0.6144 - val_loss: 1.2045 - val_accuracy: 0.5549\n",
            "Epoch 64/150\n",
            "3828/3828 [==============================] - 3s 803us/step - loss: 1.0430 - accuracy: 0.6204 - val_loss: 1.1787 - val_accuracy: 0.5737\n",
            "Epoch 65/150\n",
            "3828/3828 [==============================] - 3s 803us/step - loss: 1.0486 - accuracy: 0.6204 - val_loss: 1.1996 - val_accuracy: 0.5643\n",
            "Epoch 66/150\n",
            "3828/3828 [==============================] - 3s 819us/step - loss: 1.0579 - accuracy: 0.6220 - val_loss: 1.1735 - val_accuracy: 0.5747\n",
            "Epoch 67/150\n",
            "3828/3828 [==============================] - 3s 818us/step - loss: 1.0223 - accuracy: 0.6306 - val_loss: 1.1760 - val_accuracy: 0.5622\n",
            "Epoch 68/150\n",
            "3828/3828 [==============================] - 3s 814us/step - loss: 1.0287 - accuracy: 0.6306 - val_loss: 1.2212 - val_accuracy: 0.5455\n",
            "Epoch 69/150\n",
            "3828/3828 [==============================] - 3s 797us/step - loss: 1.0378 - accuracy: 0.6233 - val_loss: 1.1892 - val_accuracy: 0.5632\n",
            "Epoch 70/150\n",
            "3828/3828 [==============================] - 3s 803us/step - loss: 1.0187 - accuracy: 0.6194 - val_loss: 1.1983 - val_accuracy: 0.5517\n",
            "Epoch 71/150\n",
            "3828/3828 [==============================] - 3s 821us/step - loss: 1.0111 - accuracy: 0.6280 - val_loss: 1.2531 - val_accuracy: 0.5340\n",
            "Epoch 72/150\n",
            "3828/3828 [==============================] - 3s 803us/step - loss: 1.0067 - accuracy: 0.6364 - val_loss: 1.1981 - val_accuracy: 0.5622\n",
            "Epoch 73/150\n",
            "3828/3828 [==============================] - 3s 817us/step - loss: 0.9994 - accuracy: 0.6298 - val_loss: 1.1671 - val_accuracy: 0.5758\n",
            "Epoch 74/150\n",
            "3828/3828 [==============================] - 3s 801us/step - loss: 0.9800 - accuracy: 0.6411 - val_loss: 1.2001 - val_accuracy: 0.5726\n",
            "Epoch 75/150\n",
            "3828/3828 [==============================] - 3s 819us/step - loss: 0.9671 - accuracy: 0.6531 - val_loss: 1.1792 - val_accuracy: 0.5611\n",
            "Epoch 76/150\n",
            "3828/3828 [==============================] - 3s 792us/step - loss: 0.9961 - accuracy: 0.6364 - val_loss: 1.1593 - val_accuracy: 0.5695\n",
            "Epoch 77/150\n",
            "3828/3828 [==============================] - 3s 818us/step - loss: 0.9702 - accuracy: 0.6473 - val_loss: 1.1598 - val_accuracy: 0.5778\n",
            "Epoch 78/150\n",
            "3828/3828 [==============================] - 3s 800us/step - loss: 0.9554 - accuracy: 0.6531 - val_loss: 1.1778 - val_accuracy: 0.5695\n",
            "Epoch 79/150\n",
            "3828/3828 [==============================] - 3s 805us/step - loss: 0.9637 - accuracy: 0.6481 - val_loss: 1.1542 - val_accuracy: 0.5841\n",
            "Epoch 80/150\n",
            "3828/3828 [==============================] - 3s 797us/step - loss: 0.9350 - accuracy: 0.6612 - val_loss: 1.2163 - val_accuracy: 0.5507\n",
            "Epoch 81/150\n",
            "3828/3828 [==============================] - 3s 805us/step - loss: 0.9454 - accuracy: 0.6573 - val_loss: 1.2022 - val_accuracy: 0.5528\n",
            "Epoch 82/150\n",
            "3828/3828 [==============================] - 3s 804us/step - loss: 0.9489 - accuracy: 0.6557 - val_loss: 1.1323 - val_accuracy: 0.5883\n",
            "Epoch 83/150\n",
            "3828/3828 [==============================] - 3s 817us/step - loss: 0.9174 - accuracy: 0.6594 - val_loss: 1.1309 - val_accuracy: 0.5893\n",
            "Epoch 84/150\n",
            "3828/3828 [==============================] - 3s 806us/step - loss: 0.9173 - accuracy: 0.6661 - val_loss: 1.2064 - val_accuracy: 0.5559\n",
            "Epoch 85/150\n",
            "3828/3828 [==============================] - 3s 815us/step - loss: 0.9111 - accuracy: 0.6688 - val_loss: 1.1300 - val_accuracy: 0.5852\n",
            "Epoch 86/150\n",
            "3828/3828 [==============================] - 3s 794us/step - loss: 0.9268 - accuracy: 0.6667 - val_loss: 1.1885 - val_accuracy: 0.5549\n",
            "Epoch 87/150\n",
            "3828/3828 [==============================] - 3s 793us/step - loss: 0.9052 - accuracy: 0.6714 - val_loss: 1.1522 - val_accuracy: 0.5820\n",
            "Epoch 88/150\n",
            "3828/3828 [==============================] - 3s 828us/step - loss: 0.8968 - accuracy: 0.6792 - val_loss: 1.2044 - val_accuracy: 0.5601\n",
            "Epoch 89/150\n",
            "3828/3828 [==============================] - 3s 798us/step - loss: 0.9022 - accuracy: 0.6682 - val_loss: 1.1657 - val_accuracy: 0.5831\n",
            "Epoch 90/150\n",
            "3828/3828 [==============================] - 3s 812us/step - loss: 0.9085 - accuracy: 0.6758 - val_loss: 1.1712 - val_accuracy: 0.5820\n",
            "Epoch 91/150\n",
            "3828/3828 [==============================] - 3s 804us/step - loss: 0.8818 - accuracy: 0.6795 - val_loss: 1.1626 - val_accuracy: 0.5747\n",
            "Epoch 92/150\n",
            "3828/3828 [==============================] - 3s 804us/step - loss: 0.9048 - accuracy: 0.6675 - val_loss: 1.1798 - val_accuracy: 0.5768\n",
            "Epoch 93/150\n",
            "3828/3828 [==============================] - 3s 813us/step - loss: 0.8684 - accuracy: 0.6829 - val_loss: 1.1690 - val_accuracy: 0.5726\n",
            "Epoch 94/150\n",
            "3828/3828 [==============================] - 3s 809us/step - loss: 0.8788 - accuracy: 0.6829 - val_loss: 1.1582 - val_accuracy: 0.5726\n",
            "Epoch 95/150\n",
            "3828/3828 [==============================] - 3s 803us/step - loss: 0.8723 - accuracy: 0.6865 - val_loss: 1.1580 - val_accuracy: 0.5726\n",
            "Epoch 96/150\n",
            "3828/3828 [==============================] - 3s 801us/step - loss: 0.8626 - accuracy: 0.6868 - val_loss: 1.1400 - val_accuracy: 0.5946\n",
            "Epoch 97/150\n",
            "3828/3828 [==============================] - 3s 808us/step - loss: 0.8712 - accuracy: 0.6823 - val_loss: 1.1210 - val_accuracy: 0.6113\n",
            "Epoch 98/150\n",
            "3828/3828 [==============================] - 3s 803us/step - loss: 0.8660 - accuracy: 0.6907 - val_loss: 1.1134 - val_accuracy: 0.6050\n",
            "Epoch 99/150\n",
            "3828/3828 [==============================] - 3s 809us/step - loss: 0.8476 - accuracy: 0.6954 - val_loss: 1.1460 - val_accuracy: 0.5862\n",
            "Epoch 100/150\n",
            "3828/3828 [==============================] - 3s 793us/step - loss: 0.8319 - accuracy: 0.7090 - val_loss: 1.2089 - val_accuracy: 0.5674\n",
            "Epoch 101/150\n",
            "3828/3828 [==============================] - 3s 812us/step - loss: 0.8448 - accuracy: 0.6928 - val_loss: 1.1211 - val_accuracy: 0.6029\n",
            "Epoch 102/150\n",
            "3828/3828 [==============================] - 3s 799us/step - loss: 0.8375 - accuracy: 0.6944 - val_loss: 1.1226 - val_accuracy: 0.6092\n",
            "Epoch 103/150\n",
            "3828/3828 [==============================] - 3s 802us/step - loss: 0.8092 - accuracy: 0.7072 - val_loss: 1.1416 - val_accuracy: 0.5841\n",
            "Epoch 104/150\n",
            "3828/3828 [==============================] - 3s 806us/step - loss: 0.8265 - accuracy: 0.7074 - val_loss: 1.1389 - val_accuracy: 0.5893\n",
            "Epoch 105/150\n",
            "3828/3828 [==============================] - 3s 820us/step - loss: 0.8135 - accuracy: 0.7095 - val_loss: 1.1734 - val_accuracy: 0.5873\n",
            "Epoch 106/150\n",
            "3828/3828 [==============================] - 3s 811us/step - loss: 0.8054 - accuracy: 0.7095 - val_loss: 1.2041 - val_accuracy: 0.5747\n",
            "Epoch 107/150\n",
            "3828/3828 [==============================] - 3s 799us/step - loss: 0.8153 - accuracy: 0.7111 - val_loss: 1.1471 - val_accuracy: 0.5893\n",
            "Epoch 108/150\n",
            "3828/3828 [==============================] - 3s 805us/step - loss: 0.7947 - accuracy: 0.7116 - val_loss: 1.2160 - val_accuracy: 0.5559\n",
            "Epoch 109/150\n",
            "3828/3828 [==============================] - 3s 806us/step - loss: 0.8106 - accuracy: 0.7043 - val_loss: 1.1194 - val_accuracy: 0.6040\n",
            "Epoch 110/150\n",
            "3828/3828 [==============================] - 3s 813us/step - loss: 0.7992 - accuracy: 0.7150 - val_loss: 1.1572 - val_accuracy: 0.5883\n",
            "Epoch 111/150\n",
            "3828/3828 [==============================] - 3s 805us/step - loss: 0.7867 - accuracy: 0.7173 - val_loss: 1.1980 - val_accuracy: 0.5810\n",
            "Epoch 112/150\n",
            "3828/3828 [==============================] - 3s 805us/step - loss: 0.7730 - accuracy: 0.7283 - val_loss: 1.2175 - val_accuracy: 0.5622\n",
            "Epoch 113/150\n",
            "3828/3828 [==============================] - 3s 823us/step - loss: 0.7693 - accuracy: 0.7270 - val_loss: 1.1441 - val_accuracy: 0.5925\n",
            "Epoch 114/150\n",
            "3828/3828 [==============================] - 3s 801us/step - loss: 0.7935 - accuracy: 0.7129 - val_loss: 1.1907 - val_accuracy: 0.5852\n",
            "Epoch 115/150\n",
            "3828/3828 [==============================] - 3s 802us/step - loss: 0.8027 - accuracy: 0.7134 - val_loss: 1.1874 - val_accuracy: 0.5768\n",
            "Epoch 116/150\n",
            "3828/3828 [==============================] - 3s 824us/step - loss: 0.7452 - accuracy: 0.7207 - val_loss: 1.2053 - val_accuracy: 0.5935\n",
            "Epoch 117/150\n",
            "3828/3828 [==============================] - 3s 803us/step - loss: 0.7660 - accuracy: 0.7158 - val_loss: 1.1930 - val_accuracy: 0.5841\n",
            "Epoch 118/150\n",
            "3828/3828 [==============================] - 3s 807us/step - loss: 0.7593 - accuracy: 0.7234 - val_loss: 1.1489 - val_accuracy: 0.5977\n",
            "Epoch 119/150\n",
            "3828/3828 [==============================] - 3s 789us/step - loss: 0.7480 - accuracy: 0.7367 - val_loss: 1.1518 - val_accuracy: 0.5873\n",
            "Epoch 120/150\n",
            "3828/3828 [==============================] - 3s 804us/step - loss: 0.7228 - accuracy: 0.7398 - val_loss: 1.1378 - val_accuracy: 0.6019\n",
            "Epoch 121/150\n",
            "3828/3828 [==============================] - 3s 798us/step - loss: 0.7556 - accuracy: 0.7270 - val_loss: 1.1397 - val_accuracy: 0.5998\n",
            "Epoch 122/150\n",
            "3828/3828 [==============================] - 3s 817us/step - loss: 0.7675 - accuracy: 0.7278 - val_loss: 1.2063 - val_accuracy: 0.5789\n",
            "Epoch 123/150\n",
            "3828/3828 [==============================] - 3s 815us/step - loss: 0.7303 - accuracy: 0.7294 - val_loss: 1.2026 - val_accuracy: 0.5737\n",
            "Epoch 124/150\n",
            "3828/3828 [==============================] - 3s 816us/step - loss: 0.7199 - accuracy: 0.7456 - val_loss: 1.1510 - val_accuracy: 0.5883\n",
            "Epoch 125/150\n",
            "3828/3828 [==============================] - 3s 794us/step - loss: 0.7301 - accuracy: 0.7356 - val_loss: 1.1420 - val_accuracy: 0.6040\n",
            "Epoch 126/150\n",
            "3828/3828 [==============================] - 3s 796us/step - loss: 0.6918 - accuracy: 0.7471 - val_loss: 1.1793 - val_accuracy: 0.5925\n",
            "Epoch 127/150\n",
            "3828/3828 [==============================] - 3s 803us/step - loss: 0.7400 - accuracy: 0.7396 - val_loss: 1.1960 - val_accuracy: 0.5904\n",
            "Epoch 128/150\n",
            "3828/3828 [==============================] - 3s 812us/step - loss: 0.6943 - accuracy: 0.7518 - val_loss: 1.2384 - val_accuracy: 0.5716\n",
            "Epoch 129/150\n",
            "3828/3828 [==============================] - 3s 813us/step - loss: 0.7224 - accuracy: 0.7385 - val_loss: 1.1841 - val_accuracy: 0.5956\n",
            "Epoch 130/150\n",
            "3828/3828 [==============================] - 3s 823us/step - loss: 0.7094 - accuracy: 0.7474 - val_loss: 1.1723 - val_accuracy: 0.5914\n",
            "Epoch 131/150\n",
            "3828/3828 [==============================] - 3s 801us/step - loss: 0.6943 - accuracy: 0.7518 - val_loss: 1.1493 - val_accuracy: 0.5998\n",
            "Epoch 132/150\n",
            "3828/3828 [==============================] - 3s 801us/step - loss: 0.6798 - accuracy: 0.7586 - val_loss: 1.1799 - val_accuracy: 0.5956\n",
            "Epoch 133/150\n",
            "3828/3828 [==============================] - 3s 820us/step - loss: 0.6805 - accuracy: 0.7544 - val_loss: 1.1337 - val_accuracy: 0.6228\n",
            "Epoch 134/150\n",
            "3828/3828 [==============================] - 3s 798us/step - loss: 0.6798 - accuracy: 0.7586 - val_loss: 1.1767 - val_accuracy: 0.5852\n",
            "Epoch 135/150\n",
            "3828/3828 [==============================] - 3s 802us/step - loss: 0.6833 - accuracy: 0.7652 - val_loss: 1.1979 - val_accuracy: 0.5841\n",
            "Epoch 136/150\n",
            "3828/3828 [==============================] - 3s 825us/step - loss: 0.6835 - accuracy: 0.7440 - val_loss: 1.2158 - val_accuracy: 0.5883\n",
            "Epoch 137/150\n",
            "3828/3828 [==============================] - 3s 814us/step - loss: 0.6620 - accuracy: 0.7594 - val_loss: 1.2138 - val_accuracy: 0.6029\n",
            "Epoch 138/150\n",
            "3828/3828 [==============================] - 3s 804us/step - loss: 0.6653 - accuracy: 0.7531 - val_loss: 1.2123 - val_accuracy: 0.5925\n",
            "Epoch 139/150\n",
            "3828/3828 [==============================] - 3s 798us/step - loss: 0.6690 - accuracy: 0.7589 - val_loss: 1.1831 - val_accuracy: 0.5914\n",
            "Epoch 140/150\n",
            "3828/3828 [==============================] - 3s 804us/step - loss: 0.6518 - accuracy: 0.7704 - val_loss: 1.2315 - val_accuracy: 0.5925\n",
            "Epoch 141/150\n",
            "3828/3828 [==============================] - 3s 803us/step - loss: 0.6666 - accuracy: 0.7670 - val_loss: 1.1368 - val_accuracy: 0.6071\n",
            "Epoch 142/150\n",
            "3828/3828 [==============================] - 3s 805us/step - loss: 0.6607 - accuracy: 0.7573 - val_loss: 1.1913 - val_accuracy: 0.5967\n",
            "Epoch 143/150\n",
            "3828/3828 [==============================] - 3s 801us/step - loss: 0.6375 - accuracy: 0.7683 - val_loss: 1.1721 - val_accuracy: 0.6050\n",
            "Epoch 144/150\n",
            "3828/3828 [==============================] - 3s 806us/step - loss: 0.6629 - accuracy: 0.7638 - val_loss: 1.1695 - val_accuracy: 0.5987\n",
            "Epoch 145/150\n",
            "3828/3828 [==============================] - 3s 796us/step - loss: 0.6399 - accuracy: 0.7732 - val_loss: 1.2990 - val_accuracy: 0.5559\n",
            "Epoch 146/150\n",
            "3828/3828 [==============================] - 3s 804us/step - loss: 0.6425 - accuracy: 0.7719 - val_loss: 1.2322 - val_accuracy: 0.5831\n",
            "Epoch 147/150\n",
            "3828/3828 [==============================] - 3s 804us/step - loss: 0.6400 - accuracy: 0.7772 - val_loss: 1.1537 - val_accuracy: 0.6102\n",
            "Epoch 148/150\n",
            "3828/3828 [==============================] - 3s 802us/step - loss: 0.6498 - accuracy: 0.7730 - val_loss: 1.1502 - val_accuracy: 0.6029\n",
            "Epoch 149/150\n",
            "3828/3828 [==============================] - 3s 805us/step - loss: 0.6331 - accuracy: 0.7743 - val_loss: 1.2239 - val_accuracy: 0.6008\n",
            "Epoch 150/150\n",
            "3828/3828 [==============================] - 3s 810us/step - loss: 0.6400 - accuracy: 0.7667 - val_loss: 1.1463 - val_accuracy: 0.6123\n"
          ],
          "name": "stdout"
        }
      ]
    },
    {
      "cell_type": "code",
      "metadata": {
        "colab_type": "code",
        "outputId": "5d337f34-3e0e-4518-e3a3-10b93b8b11a2",
        "id": "52KEDP5egfRH",
        "colab": {
          "base_uri": "https://localhost:8080/",
          "height": 81
        }
      },
      "source": [
        "mfcc_lpc_accuracy = cnnhistory.history['val_accuracy']\n",
        "mfcc_lpc_model = model\n",
        "print(mfcc_lpc_accuracy)"
      ],
      "execution_count": 0,
      "outputs": [
        {
          "output_type": "stream",
          "text": [
            "[0.14524555206298828, 0.21212121844291687, 0.29780563712120056, 0.33437827229499817, 0.36154648661613464, 0.36050155758857727, 0.369905948638916, 0.3928944766521454, 0.39080458879470825, 0.4137931168079376, 0.4263322949409485, 0.44305118918418884, 0.4440961480140686, 0.4367816150188446, 0.4440961480140686, 0.45663532614707947, 0.48275861144065857, 0.4733542203903198, 0.4743991494178772, 0.47230929136276245, 0.47544410824775696, 0.4879832863807678, 0.47962382435798645, 0.49007314443588257, 0.47230929136276245, 0.49425286054611206, 0.5057471394538879, 0.5099268555641174, 0.5036572813987732, 0.5224660634994507, 0.5120167136192322, 0.4994775354862213, 0.5235109925270081, 0.5276907086372375, 0.5245559215545654, 0.5339602828025818, 0.5339602828025818, 0.5193312168121338, 0.5381399989128113, 0.5454545617103577, 0.5381399989128113, 0.5444096326828003, 0.5360501408576965, 0.5370950698852539, 0.5350052118301392, 0.5391849279403687, 0.5475444197654724, 0.5433647036552429, 0.5642633438110352, 0.5611284971237183, 0.5485893487930298, 0.5454545617103577, 0.5485893487930298, 0.5517241358757019, 0.5370950698852539, 0.5569487810134888, 0.554858922958374, 0.5705329179763794, 0.5747126340866089, 0.5506792068481445, 0.5653082728385925, 0.5496342778205872, 0.554858922958374, 0.5736677050590515, 0.5642633438110352, 0.5747126340866089, 0.5621734857559204, 0.5454545617103577, 0.5632184147834778, 0.5517241358757019, 0.5339602828025818, 0.5621734857559204, 0.5757575631141663, 0.5726227760314941, 0.5611284971237183, 0.569487988948822, 0.577847421169281, 0.569487988948822, 0.58411705493927, 0.5506792068481445, 0.5527690649032593, 0.5882967710494995, 0.5893417000770569, 0.5559038519859314, 0.5851619839668274, 0.554858922958374, 0.5820271968841553, 0.5600835680961609, 0.5830721259117126, 0.5820271968841553, 0.5747126340866089, 0.5768024921417236, 0.5726227760314941, 0.5726227760314941, 0.5726227760314941, 0.5945663452148438, 0.6112852692604065, 0.6050156950950623, 0.5862069129943848, 0.5673981308937073, 0.6029258370399475, 0.6091954112052917, 0.58411705493927, 0.5893417000770569, 0.5872518420219421, 0.5747126340866089, 0.5893417000770569, 0.5559038519859314, 0.6039707660675049, 0.5882967710494995, 0.5809822082519531, 0.5621734857559204, 0.592476487159729, 0.5851619839668274, 0.5768024921417236, 0.5935214161872864, 0.58411705493927, 0.5977011322975159, 0.5872518420219421, 0.6018808484077454, 0.5997909903526306, 0.5788923501968384, 0.5736677050590515, 0.5882967710494995, 0.6039707660675049, 0.592476487159729, 0.5903866291046143, 0.5715778470039368, 0.5956112742424011, 0.5914315581321716, 0.5997909903526306, 0.5956112742424011, 0.6227795481681824, 0.5851619839668274, 0.58411705493927, 0.5882967710494995, 0.6029258370399475, 0.592476487159729, 0.5914315581321716, 0.592476487159729, 0.607105553150177, 0.5966562032699585, 0.6050156950950623, 0.5987460613250732, 0.5559038519859314, 0.5830721259117126, 0.6102403402328491, 0.6029258370399475, 0.600835919380188, 0.6123301982879639]\n"
          ],
          "name": "stdout"
        }
      ]
    },
    {
      "cell_type": "code",
      "metadata": {
        "colab_type": "code",
        "outputId": "9b4dce66-1d81-4ea4-b842-11aef0c3c13a",
        "id": "hjCmvAScgfRK",
        "colab": {
          "base_uri": "https://localhost:8080/",
          "height": 295
        }
      },
      "source": [
        "plt.plot(cnnhistory.history['accuracy'],'b', linestyle='--', label='train')\n",
        "plt.plot(cnnhistory.history['val_accuracy'],'g', linestyle='-', label='test')\n",
        "plt.title('CNN model accuracy(mfcc+lpc)')\n",
        "plt.ylabel('accuracy')\n",
        "plt.xlabel('epoch')\n",
        "plt.legend()\n",
        "plt.show()"
      ],
      "execution_count": 0,
      "outputs": [
        {
          "output_type": "display_data",
          "data": {
            "image/png": "[encoded data removed]",
            "text/plain": [
              "<Figure size 432x288 with 1 Axes>"
            ]
          },
          "metadata": {
            "tags": [],
            "needs_background": "light"
          }
        }
      ]
    },
    {
      "cell_type": "code",
      "metadata": {
        "colab_type": "code",
        "outputId": "f755c114-b2ae-4b38-dabb-c3a07ff753a4",
        "id": "VLRQHcIFgfRP",
        "colab": {
          "base_uri": "https://localhost:8080/",
          "height": 52
        }
      },
      "source": [
        "mfcc_lpc_model = load_model('/content/gdrive/My Drive/Minor_Sem6/CNN Models(of features)/MFCC_LPC.h5')\n",
        "loss, acc = mfcc_lpc_model.evaluate(x_testcnn, y_test_mfcc_lpc)\n",
        "print(\"Restored model, accuracy: {:5.2f}%\".format(100*acc))\n",
        "ml = acc\n",
        "# print(ml)"
      ],
      "execution_count": 31,
      "outputs": [
        {
          "output_type": "stream",
          "text": [
            "957/957 [==============================] - 0s 210us/step\n",
            "Restored model, accuracy: 61.23%\n"
          ],
          "name": "stdout"
        }
      ]
    },
    {
      "cell_type": "markdown",
      "metadata": {
        "colab_type": "text",
        "id": "VZ42EYkrgc57"
      },
      "source": [
        "# ssc+lpc"
      ]
    },
    {
      "cell_type": "code",
      "metadata": {
        "colab_type": "code",
        "id": "PvajbNgigc59",
        "colab": {}
      },
      "source": [
        "# Considering only ssc+lpc\n",
        "\n",
        "X_train_ssc_lpc, X_test_ssc_lpc, y_train_ssc_lpc, y_test_ssc_lpc = train_test_split(X_ssc_lpc1, y1, test_size=0.2, random_state=0)\n",
        "x_traincnn =np.expand_dims(X_train_ssc_lpc, axis=2)\n",
        "x_testcnn= np.expand_dims(X_test_ssc_lpc, axis=2)\n"
      ],
      "execution_count": 0,
      "outputs": []
    },
    {
      "cell_type": "code",
      "metadata": {
        "colab_type": "code",
        "outputId": "fe9f1e8e-06f3-47c2-8c94-0bb80bbcfe19",
        "id": "ZX74lWdJgc6G",
        "colab": {
          "base_uri": "https://localhost:8080/",
          "height": 34
        }
      },
      "source": [
        "print(X_train_ssc_lpc.shape[1])"
      ],
      "execution_count": 0,
      "outputs": [
        {
          "output_type": "stream",
          "text": [
            "195\n"
          ],
          "name": "stdout"
        }
      ]
    },
    {
      "cell_type": "code",
      "metadata": {
        "colab_type": "code",
        "id": "3LRMAEu4gc6O",
        "colab": {}
      },
      "source": [
        "model = Sequential()\n",
        "\n",
        "model.add(Conv1D(256, 5,padding='same',input_shape=(195,1)))\n",
        "model.add(Activation('relu'))\n",
        "model.add(Dropout(0.1))\n",
        "model.add(MaxPooling1D(pool_size=(8)))\n",
        "\n",
        "model.add(Conv1D(128, 5,padding='same',))\n",
        "model.add(BatchNormalization())                  \n",
        "model.add(Activation('relu'))\n",
        "model.add(MaxPooling1D(pool_size=(8)))\n",
        "model.add(Dropout(0.1))\n",
        "\n",
        "model.add(Conv1D(128, 5,padding='same',))                  \n",
        "model.add(Activation('relu'))\n",
        "model.add(Dropout(0.1))\n",
        "\n",
        "model.add(Conv1D(128, 5,padding='same',)) \n",
        "model.add(BatchNormalization())                 \n",
        "model.add(Activation('relu'))\n",
        "model.add(Dropout(0.1))\n",
        "\n",
        "model.add(Flatten())\n",
        "model.add(Dense(8))                                                           \n",
        "model.add(Activation('softmax'))\n",
        "opt = keras.optimizers.rmsprop(lr=0.00005,epsilon=1e-08,rho=0.9,decay=0.0)"
      ],
      "execution_count": 0,
      "outputs": []
    },
    {
      "cell_type": "code",
      "metadata": {
        "colab_type": "code",
        "outputId": "616c5862-0871-4474-daa8-3ffb8278c0be",
        "id": "Pn4DJC9zgc6V",
        "colab": {
          "base_uri": "https://localhost:8080/",
          "height": 1000
        }
      },
      "source": [
        "model.summary()"
      ],
      "execution_count": 0,
      "outputs": [
        {
          "output_type": "stream",
          "text": [
            "Model: \"sequential_20\"\n",
            "_________________________________________________________________\n",
            "Layer (type)                 Output Shape              Param #   \n",
            "=================================================================\n",
            "conv1d_69 (Conv1D)           (None, 195, 256)          1536      \n",
            "_________________________________________________________________\n",
            "activation_84 (Activation)   (None, 195, 256)          0         \n",
            "_________________________________________________________________\n",
            "dropout_65 (Dropout)         (None, 195, 256)          0         \n",
            "_________________________________________________________________\n",
            "max_pooling1d_38 (MaxPooling (None, 24, 256)           0         \n",
            "_________________________________________________________________\n",
            "conv1d_70 (Conv1D)           (None, 24, 128)           163968    \n",
            "_________________________________________________________________\n",
            "batch_normalization_35 (Batc (None, 24, 128)           512       \n",
            "_________________________________________________________________\n",
            "activation_85 (Activation)   (None, 24, 128)           0         \n",
            "_________________________________________________________________\n",
            "max_pooling1d_39 (MaxPooling (None, 3, 128)            0         \n",
            "_________________________________________________________________\n",
            "dropout_66 (Dropout)         (None, 3, 128)            0         \n",
            "_________________________________________________________________\n",
            "conv1d_71 (Conv1D)           (None, 3, 128)            82048     \n",
            "_________________________________________________________________\n",
            "activation_86 (Activation)   (None, 3, 128)            0         \n",
            "_________________________________________________________________\n",
            "dropout_67 (Dropout)         (None, 3, 128)            0         \n",
            "_________________________________________________________________\n",
            "conv1d_72 (Conv1D)           (None, 3, 128)            82048     \n",
            "_________________________________________________________________\n",
            "batch_normalization_36 (Batc (None, 3, 128)            512       \n",
            "_________________________________________________________________\n",
            "activation_87 (Activation)   (None, 3, 128)            0         \n",
            "_________________________________________________________________\n",
            "dropout_68 (Dropout)         (None, 3, 128)            0         \n",
            "_________________________________________________________________\n",
            "flatten_16 (Flatten)         (None, 384)               0         \n",
            "_________________________________________________________________\n",
            "dense_16 (Dense)             (None, 8)                 3080      \n",
            "_________________________________________________________________\n",
            "activation_88 (Activation)   (None, 8)                 0         \n",
            "=================================================================\n",
            "Total params: 333,704\n",
            "Trainable params: 333,192\n",
            "Non-trainable params: 512\n",
            "_________________________________________________________________\n"
          ],
          "name": "stdout"
        }
      ]
    },
    {
      "cell_type": "code",
      "metadata": {
        "colab_type": "code",
        "outputId": "de807bd3-9935-4638-ee83-6aef5d02827e",
        "id": "pTE9Tpoygc6b",
        "colab": {
          "base_uri": "https://localhost:8080/",
          "height": 1000
        }
      },
      "source": [
        "model.compile(loss='sparse_categorical_crossentropy', optimizer=opt,metrics=['accuracy'])\n",
        "cnnhistory=model.fit(x_traincnn, y_train_ssc_lpc, batch_size=20, epochs=150, validation_data=(x_testcnn, y_test_ssc_lpc))\n",
        "model.save('/content/gdrive/My Drive/feature/SSC_LPC.h5')"
      ],
      "execution_count": 0,
      "outputs": [
        {
          "output_type": "stream",
          "text": [
            "Train on 3828 samples, validate on 957 samples\n",
            "Epoch 1/150\n",
            "3828/3828 [==============================] - 9s 2ms/step - loss: 1.9972 - accuracy: 0.2369 - val_loss: 2.0464 - val_accuracy: 0.1829\n",
            "Epoch 2/150\n",
            "3828/3828 [==============================] - 9s 2ms/step - loss: 1.7691 - accuracy: 0.3200 - val_loss: 1.8300 - val_accuracy: 0.2717\n",
            "Epoch 3/150\n",
            "3828/3828 [==============================] - 9s 2ms/step - loss: 1.6742 - accuracy: 0.3519 - val_loss: 1.6198 - val_accuracy: 0.3950\n",
            "Epoch 4/150\n",
            "3828/3828 [==============================] - 9s 2ms/step - loss: 1.6000 - accuracy: 0.3900 - val_loss: 1.5825 - val_accuracy: 0.4107\n",
            "Epoch 5/150\n",
            "3828/3828 [==============================] - 9s 2ms/step - loss: 1.5182 - accuracy: 0.4219 - val_loss: 1.5181 - val_accuracy: 0.4378\n",
            "Epoch 6/150\n",
            "3828/3828 [==============================] - 9s 2ms/step - loss: 1.4694 - accuracy: 0.4480 - val_loss: 1.4407 - val_accuracy: 0.4796\n",
            "Epoch 7/150\n",
            "3828/3828 [==============================] - 9s 2ms/step - loss: 1.4054 - accuracy: 0.4684 - val_loss: 1.4288 - val_accuracy: 0.4619\n",
            "Epoch 8/150\n",
            "3828/3828 [==============================] - 9s 2ms/step - loss: 1.3773 - accuracy: 0.4781 - val_loss: 1.4020 - val_accuracy: 0.4807\n",
            "Epoch 9/150\n",
            "3828/3828 [==============================] - 9s 2ms/step - loss: 1.3312 - accuracy: 0.5099 - val_loss: 1.3667 - val_accuracy: 0.4911\n",
            "Epoch 10/150\n",
            "3828/3828 [==============================] - 9s 2ms/step - loss: 1.2925 - accuracy: 0.5201 - val_loss: 1.3372 - val_accuracy: 0.5078\n",
            "Epoch 11/150\n",
            "3828/3828 [==============================] - 9s 2ms/step - loss: 1.2637 - accuracy: 0.5324 - val_loss: 1.2716 - val_accuracy: 0.5266\n",
            "Epoch 12/150\n",
            "3828/3828 [==============================] - 9s 2ms/step - loss: 1.2308 - accuracy: 0.5410 - val_loss: 1.3132 - val_accuracy: 0.5089\n",
            "Epoch 13/150\n",
            "3828/3828 [==============================] - 9s 2ms/step - loss: 1.2024 - accuracy: 0.5692 - val_loss: 1.2948 - val_accuracy: 0.5204\n",
            "Epoch 14/150\n",
            "3828/3828 [==============================] - 9s 2ms/step - loss: 1.1704 - accuracy: 0.5697 - val_loss: 1.2378 - val_accuracy: 0.5371\n",
            "Epoch 15/150\n",
            "3828/3828 [==============================] - 9s 2ms/step - loss: 1.1325 - accuracy: 0.5886 - val_loss: 1.2300 - val_accuracy: 0.5392\n",
            "Epoch 16/150\n",
            "3828/3828 [==============================] - 9s 2ms/step - loss: 1.1235 - accuracy: 0.5901 - val_loss: 1.1919 - val_accuracy: 0.5653\n",
            "Epoch 17/150\n",
            "3828/3828 [==============================] - 9s 2ms/step - loss: 1.1140 - accuracy: 0.5909 - val_loss: 1.1750 - val_accuracy: 0.5716\n",
            "Epoch 18/150\n",
            "3828/3828 [==============================] - 9s 2ms/step - loss: 1.0799 - accuracy: 0.6016 - val_loss: 1.1903 - val_accuracy: 0.5590\n",
            "Epoch 19/150\n",
            "3828/3828 [==============================] - 9s 2ms/step - loss: 1.0609 - accuracy: 0.6165 - val_loss: 1.1669 - val_accuracy: 0.5768\n",
            "Epoch 20/150\n",
            "3828/3828 [==============================] - 9s 2ms/step - loss: 1.0213 - accuracy: 0.6296 - val_loss: 1.1633 - val_accuracy: 0.5684\n",
            "Epoch 21/150\n",
            "3828/3828 [==============================] - 9s 2ms/step - loss: 1.0038 - accuracy: 0.6257 - val_loss: 1.1330 - val_accuracy: 0.5873\n",
            "Epoch 22/150\n",
            "3828/3828 [==============================] - 9s 2ms/step - loss: 0.9885 - accuracy: 0.6364 - val_loss: 1.1453 - val_accuracy: 0.5611\n",
            "Epoch 23/150\n",
            "3828/3828 [==============================] - 9s 2ms/step - loss: 0.9582 - accuracy: 0.6502 - val_loss: 1.1132 - val_accuracy: 0.5862\n",
            "Epoch 24/150\n",
            "3828/3828 [==============================] - 9s 2ms/step - loss: 0.9675 - accuracy: 0.6539 - val_loss: 1.1517 - val_accuracy: 0.5590\n",
            "Epoch 25/150\n",
            "3828/3828 [==============================] - 9s 2ms/step - loss: 0.9448 - accuracy: 0.6518 - val_loss: 1.1303 - val_accuracy: 0.5831\n",
            "Epoch 26/150\n",
            "3828/3828 [==============================] - 9s 2ms/step - loss: 0.9067 - accuracy: 0.6677 - val_loss: 1.1774 - val_accuracy: 0.5653\n",
            "Epoch 27/150\n",
            "3828/3828 [==============================] - 9s 2ms/step - loss: 0.8866 - accuracy: 0.6779 - val_loss: 1.2036 - val_accuracy: 0.5611\n",
            "Epoch 28/150\n",
            "3828/3828 [==============================] - 9s 2ms/step - loss: 0.8682 - accuracy: 0.6912 - val_loss: 1.1228 - val_accuracy: 0.5820\n",
            "Epoch 29/150\n",
            "3828/3828 [==============================] - 9s 2ms/step - loss: 0.8513 - accuracy: 0.6991 - val_loss: 1.0977 - val_accuracy: 0.5716\n",
            "Epoch 30/150\n",
            "3828/3828 [==============================] - 9s 2ms/step - loss: 0.8479 - accuracy: 0.6910 - val_loss: 1.0754 - val_accuracy: 0.5998\n",
            "Epoch 31/150\n",
            "3828/3828 [==============================] - 9s 2ms/step - loss: 0.8450 - accuracy: 0.6980 - val_loss: 1.0388 - val_accuracy: 0.6123\n",
            "Epoch 32/150\n",
            "3828/3828 [==============================] - 9s 2ms/step - loss: 0.8300 - accuracy: 0.7061 - val_loss: 1.2154 - val_accuracy: 0.5517\n",
            "Epoch 33/150\n",
            "3828/3828 [==============================] - 9s 2ms/step - loss: 0.8029 - accuracy: 0.7103 - val_loss: 1.0686 - val_accuracy: 0.6008\n",
            "Epoch 34/150\n",
            "3828/3828 [==============================] - 9s 2ms/step - loss: 0.7784 - accuracy: 0.7207 - val_loss: 1.0301 - val_accuracy: 0.6217\n",
            "Epoch 35/150\n",
            "3828/3828 [==============================] - 9s 2ms/step - loss: 0.7737 - accuracy: 0.7273 - val_loss: 1.1096 - val_accuracy: 0.5716\n",
            "Epoch 36/150\n",
            "3828/3828 [==============================] - 9s 2ms/step - loss: 0.7326 - accuracy: 0.7359 - val_loss: 1.0395 - val_accuracy: 0.6071\n",
            "Epoch 37/150\n",
            "3828/3828 [==============================] - 9s 2ms/step - loss: 0.7465 - accuracy: 0.7328 - val_loss: 1.0294 - val_accuracy: 0.6092\n",
            "Epoch 38/150\n",
            "3828/3828 [==============================] - 9s 2ms/step - loss: 0.7268 - accuracy: 0.7427 - val_loss: 1.0546 - val_accuracy: 0.6176\n",
            "Epoch 39/150\n",
            "3828/3828 [==============================] - 9s 2ms/step - loss: 0.7292 - accuracy: 0.7351 - val_loss: 1.0360 - val_accuracy: 0.6290\n",
            "Epoch 40/150\n",
            "3828/3828 [==============================] - 9s 2ms/step - loss: 0.7060 - accuracy: 0.7432 - val_loss: 1.0165 - val_accuracy: 0.6186\n",
            "Epoch 41/150\n",
            "3828/3828 [==============================] - 9s 2ms/step - loss: 0.7042 - accuracy: 0.7484 - val_loss: 1.0748 - val_accuracy: 0.6029\n",
            "Epoch 42/150\n",
            "3828/3828 [==============================] - 9s 2ms/step - loss: 0.6790 - accuracy: 0.7584 - val_loss: 1.0855 - val_accuracy: 0.6050\n",
            "Epoch 43/150\n",
            "3828/3828 [==============================] - 9s 2ms/step - loss: 0.6738 - accuracy: 0.7552 - val_loss: 1.1050 - val_accuracy: 0.5925\n",
            "Epoch 44/150\n",
            "3828/3828 [==============================] - 9s 2ms/step - loss: 0.6688 - accuracy: 0.7649 - val_loss: 1.0309 - val_accuracy: 0.6311\n",
            "Epoch 45/150\n",
            "3828/3828 [==============================] - 9s 2ms/step - loss: 0.6519 - accuracy: 0.7638 - val_loss: 1.0722 - val_accuracy: 0.5967\n",
            "Epoch 46/150\n",
            "3828/3828 [==============================] - 9s 2ms/step - loss: 0.6332 - accuracy: 0.7772 - val_loss: 1.0406 - val_accuracy: 0.6270\n",
            "Epoch 47/150\n",
            "3828/3828 [==============================] - 9s 2ms/step - loss: 0.6393 - accuracy: 0.7813 - val_loss: 1.0313 - val_accuracy: 0.6249\n",
            "Epoch 48/150\n",
            "3828/3828 [==============================] - 9s 2ms/step - loss: 0.6315 - accuracy: 0.7688 - val_loss: 1.2437 - val_accuracy: 0.5569\n",
            "Epoch 49/150\n",
            "3828/3828 [==============================] - 9s 2ms/step - loss: 0.6184 - accuracy: 0.7829 - val_loss: 1.0417 - val_accuracy: 0.6416\n",
            "Epoch 50/150\n",
            "3828/3828 [==============================] - 9s 2ms/step - loss: 0.6106 - accuracy: 0.7759 - val_loss: 1.0619 - val_accuracy: 0.6144\n",
            "Epoch 51/150\n",
            "3828/3828 [==============================] - 9s 2ms/step - loss: 0.5764 - accuracy: 0.7975 - val_loss: 1.0641 - val_accuracy: 0.6228\n",
            "Epoch 52/150\n",
            "3828/3828 [==============================] - 9s 2ms/step - loss: 0.5730 - accuracy: 0.7921 - val_loss: 1.0220 - val_accuracy: 0.6301\n",
            "Epoch 53/150\n",
            "3828/3828 [==============================] - 9s 2ms/step - loss: 0.5622 - accuracy: 0.7989 - val_loss: 1.1642 - val_accuracy: 0.5904\n",
            "Epoch 54/150\n",
            "3828/3828 [==============================] - 9s 2ms/step - loss: 0.5380 - accuracy: 0.8036 - val_loss: 1.1078 - val_accuracy: 0.6134\n",
            "Epoch 55/150\n",
            "3828/3828 [==============================] - 9s 2ms/step - loss: 0.5591 - accuracy: 0.7949 - val_loss: 1.0052 - val_accuracy: 0.6437\n",
            "Epoch 56/150\n",
            "3828/3828 [==============================] - 9s 2ms/step - loss: 0.5475 - accuracy: 0.8083 - val_loss: 1.0498 - val_accuracy: 0.6186\n",
            "Epoch 57/150\n",
            "3828/3828 [==============================] - 9s 2ms/step - loss: 0.5422 - accuracy: 0.7991 - val_loss: 1.0189 - val_accuracy: 0.6322\n",
            "Epoch 58/150\n",
            "3828/3828 [==============================] - 9s 2ms/step - loss: 0.5349 - accuracy: 0.8046 - val_loss: 1.0558 - val_accuracy: 0.6207\n",
            "Epoch 59/150\n",
            "3828/3828 [==============================] - 9s 2ms/step - loss: 0.5514 - accuracy: 0.8051 - val_loss: 1.0052 - val_accuracy: 0.6437\n",
            "Epoch 60/150\n",
            "3828/3828 [==============================] - 9s 2ms/step - loss: 0.5056 - accuracy: 0.8260 - val_loss: 1.0086 - val_accuracy: 0.6353\n",
            "Epoch 61/150\n",
            "3828/3828 [==============================] - 9s 2ms/step - loss: 0.5136 - accuracy: 0.8164 - val_loss: 1.0974 - val_accuracy: 0.6082\n",
            "Epoch 62/150\n",
            "3828/3828 [==============================] - 9s 2ms/step - loss: 0.5201 - accuracy: 0.8049 - val_loss: 1.1052 - val_accuracy: 0.6134\n",
            "Epoch 63/150\n",
            "3828/3828 [==============================] - 9s 2ms/step - loss: 0.4883 - accuracy: 0.8297 - val_loss: 1.0014 - val_accuracy: 0.6458\n",
            "Epoch 64/150\n",
            "3828/3828 [==============================] - 9s 2ms/step - loss: 0.4737 - accuracy: 0.8273 - val_loss: 0.9982 - val_accuracy: 0.6343\n",
            "Epoch 65/150\n",
            "3828/3828 [==============================] - 9s 2ms/step - loss: 0.4805 - accuracy: 0.8263 - val_loss: 1.0574 - val_accuracy: 0.6311\n",
            "Epoch 66/150\n",
            "3828/3828 [==============================] - 9s 2ms/step - loss: 0.4708 - accuracy: 0.8289 - val_loss: 1.0720 - val_accuracy: 0.6280\n",
            "Epoch 67/150\n",
            "3828/3828 [==============================] - 9s 2ms/step - loss: 0.4791 - accuracy: 0.8323 - val_loss: 1.0322 - val_accuracy: 0.6343\n",
            "Epoch 68/150\n",
            "3828/3828 [==============================] - 9s 2ms/step - loss: 0.4541 - accuracy: 0.8412 - val_loss: 1.0492 - val_accuracy: 0.6301\n",
            "Epoch 69/150\n",
            "3828/3828 [==============================] - 9s 2ms/step - loss: 0.4437 - accuracy: 0.8346 - val_loss: 1.0626 - val_accuracy: 0.6364\n",
            "Epoch 70/150\n",
            "3828/3828 [==============================] - 9s 2ms/step - loss: 0.4384 - accuracy: 0.8362 - val_loss: 1.1284 - val_accuracy: 0.6092\n",
            "Epoch 71/150\n",
            "3828/3828 [==============================] - 9s 2ms/step - loss: 0.4621 - accuracy: 0.8383 - val_loss: 1.0153 - val_accuracy: 0.6405\n",
            "Epoch 72/150\n",
            "3828/3828 [==============================] - 9s 2ms/step - loss: 0.4429 - accuracy: 0.8443 - val_loss: 1.0137 - val_accuracy: 0.6437\n",
            "Epoch 73/150\n",
            "3828/3828 [==============================] - 9s 2ms/step - loss: 0.4434 - accuracy: 0.8396 - val_loss: 1.1591 - val_accuracy: 0.6061\n",
            "Epoch 74/150\n",
            "3828/3828 [==============================] - 9s 2ms/step - loss: 0.4431 - accuracy: 0.8409 - val_loss: 1.0439 - val_accuracy: 0.6364\n",
            "Epoch 75/150\n",
            "3828/3828 [==============================] - 9s 2ms/step - loss: 0.4234 - accuracy: 0.8508 - val_loss: 1.0771 - val_accuracy: 0.6280\n",
            "Epoch 76/150\n",
            "3828/3828 [==============================] - 9s 2ms/step - loss: 0.4179 - accuracy: 0.8469 - val_loss: 1.1150 - val_accuracy: 0.6290\n",
            "Epoch 77/150\n",
            "3828/3828 [==============================] - 9s 2ms/step - loss: 0.4283 - accuracy: 0.8391 - val_loss: 1.0477 - val_accuracy: 0.6416\n",
            "Epoch 78/150\n",
            "3828/3828 [==============================] - 9s 2ms/step - loss: 0.4153 - accuracy: 0.8498 - val_loss: 1.0346 - val_accuracy: 0.6405\n",
            "Epoch 79/150\n",
            "3828/3828 [==============================] - 9s 2ms/step - loss: 0.4073 - accuracy: 0.8558 - val_loss: 1.0839 - val_accuracy: 0.6176\n",
            "Epoch 80/150\n",
            "3828/3828 [==============================] - 9s 2ms/step - loss: 0.3915 - accuracy: 0.8582 - val_loss: 1.0721 - val_accuracy: 0.6249\n",
            "Epoch 81/150\n",
            "3828/3828 [==============================] - 9s 2ms/step - loss: 0.3944 - accuracy: 0.8587 - val_loss: 1.0567 - val_accuracy: 0.6437\n",
            "Epoch 82/150\n",
            "3828/3828 [==============================] - 9s 2ms/step - loss: 0.3709 - accuracy: 0.8668 - val_loss: 1.0366 - val_accuracy: 0.6405\n",
            "Epoch 83/150\n",
            "3828/3828 [==============================] - 9s 2ms/step - loss: 0.3889 - accuracy: 0.8615 - val_loss: 1.0177 - val_accuracy: 0.6510\n",
            "Epoch 84/150\n",
            "3828/3828 [==============================] - 9s 2ms/step - loss: 0.3708 - accuracy: 0.8652 - val_loss: 1.0686 - val_accuracy: 0.6249\n",
            "Epoch 85/150\n",
            "3828/3828 [==============================] - 9s 2ms/step - loss: 0.3628 - accuracy: 0.8689 - val_loss: 1.1016 - val_accuracy: 0.6228\n",
            "Epoch 86/150\n",
            "3828/3828 [==============================] - 9s 2ms/step - loss: 0.3494 - accuracy: 0.8704 - val_loss: 1.0761 - val_accuracy: 0.6353\n",
            "Epoch 87/150\n",
            "3828/3828 [==============================] - 9s 2ms/step - loss: 0.3512 - accuracy: 0.8822 - val_loss: 1.0714 - val_accuracy: 0.6479\n",
            "Epoch 88/150\n",
            "3828/3828 [==============================] - 9s 2ms/step - loss: 0.3535 - accuracy: 0.8736 - val_loss: 1.2131 - val_accuracy: 0.5956\n",
            "Epoch 89/150\n",
            "3828/3828 [==============================] - 9s 2ms/step - loss: 0.3504 - accuracy: 0.8725 - val_loss: 1.0844 - val_accuracy: 0.6364\n",
            "Epoch 90/150\n",
            "3828/3828 [==============================] - 9s 2ms/step - loss: 0.3371 - accuracy: 0.8796 - val_loss: 1.0411 - val_accuracy: 0.6447\n",
            "Epoch 91/150\n",
            "3828/3828 [==============================] - 9s 2ms/step - loss: 0.3438 - accuracy: 0.8798 - val_loss: 1.1673 - val_accuracy: 0.6134\n",
            "Epoch 92/150\n",
            "3828/3828 [==============================] - 9s 2ms/step - loss: 0.3351 - accuracy: 0.8843 - val_loss: 1.0870 - val_accuracy: 0.6458\n",
            "Epoch 93/150\n",
            "3828/3828 [==============================] - 9s 2ms/step - loss: 0.3292 - accuracy: 0.8838 - val_loss: 1.1297 - val_accuracy: 0.6228\n",
            "Epoch 94/150\n",
            "3828/3828 [==============================] - 9s 2ms/step - loss: 0.3327 - accuracy: 0.8811 - val_loss: 1.0811 - val_accuracy: 0.6385\n",
            "Epoch 95/150\n",
            "3828/3828 [==============================] - 9s 2ms/step - loss: 0.3152 - accuracy: 0.8845 - val_loss: 1.0668 - val_accuracy: 0.6270\n",
            "Epoch 96/150\n",
            "3828/3828 [==============================] - 9s 2ms/step - loss: 0.3254 - accuracy: 0.8885 - val_loss: 1.0760 - val_accuracy: 0.6332\n",
            "Epoch 97/150\n",
            "3828/3828 [==============================] - 9s 2ms/step - loss: 0.3195 - accuracy: 0.8822 - val_loss: 1.1368 - val_accuracy: 0.6343\n",
            "Epoch 98/150\n",
            "3828/3828 [==============================] - 9s 2ms/step - loss: 0.3135 - accuracy: 0.8838 - val_loss: 1.1371 - val_accuracy: 0.6238\n",
            "Epoch 99/150\n",
            "3828/3828 [==============================] - 9s 2ms/step - loss: 0.3072 - accuracy: 0.8882 - val_loss: 1.1053 - val_accuracy: 0.6311\n",
            "Epoch 100/150\n",
            "3828/3828 [==============================] - 9s 2ms/step - loss: 0.3114 - accuracy: 0.8921 - val_loss: 1.0902 - val_accuracy: 0.6301\n",
            "Epoch 101/150\n",
            "3828/3828 [==============================] - 9s 2ms/step - loss: 0.3151 - accuracy: 0.8843 - val_loss: 1.0978 - val_accuracy: 0.6395\n",
            "Epoch 102/150\n",
            "3828/3828 [==============================] - 9s 2ms/step - loss: 0.3028 - accuracy: 0.8903 - val_loss: 1.1226 - val_accuracy: 0.6290\n",
            "Epoch 103/150\n",
            "3828/3828 [==============================] - 9s 2ms/step - loss: 0.3139 - accuracy: 0.8913 - val_loss: 1.0756 - val_accuracy: 0.6437\n",
            "Epoch 104/150\n",
            "3828/3828 [==============================] - 9s 2ms/step - loss: 0.3070 - accuracy: 0.8874 - val_loss: 1.1142 - val_accuracy: 0.6426\n",
            "Epoch 105/150\n",
            "3828/3828 [==============================] - 9s 2ms/step - loss: 0.2880 - accuracy: 0.8921 - val_loss: 1.1193 - val_accuracy: 0.6437\n",
            "Epoch 106/150\n",
            "3828/3828 [==============================] - 9s 2ms/step - loss: 0.2968 - accuracy: 0.8926 - val_loss: 1.0965 - val_accuracy: 0.6332\n",
            "Epoch 107/150\n",
            "3828/3828 [==============================] - 9s 2ms/step - loss: 0.2928 - accuracy: 0.9010 - val_loss: 1.0824 - val_accuracy: 0.6447\n",
            "Epoch 108/150\n",
            "3828/3828 [==============================] - 9s 2ms/step - loss: 0.2668 - accuracy: 0.9070 - val_loss: 1.1124 - val_accuracy: 0.6301\n",
            "Epoch 109/150\n",
            "3828/3828 [==============================] - 9s 2ms/step - loss: 0.2859 - accuracy: 0.9020 - val_loss: 1.1227 - val_accuracy: 0.6228\n",
            "Epoch 110/150\n",
            "3828/3828 [==============================] - 9s 2ms/step - loss: 0.2733 - accuracy: 0.9018 - val_loss: 1.0594 - val_accuracy: 0.6479\n",
            "Epoch 111/150\n",
            "3828/3828 [==============================] - 9s 2ms/step - loss: 0.2723 - accuracy: 0.9049 - val_loss: 1.1149 - val_accuracy: 0.6270\n",
            "Epoch 112/150\n",
            "3828/3828 [==============================] - 9s 2ms/step - loss: 0.2635 - accuracy: 0.9091 - val_loss: 1.2030 - val_accuracy: 0.6270\n",
            "Epoch 113/150\n",
            "3828/3828 [==============================] - 9s 2ms/step - loss: 0.2656 - accuracy: 0.9062 - val_loss: 1.1097 - val_accuracy: 0.6468\n",
            "Epoch 114/150\n",
            "3828/3828 [==============================] - 9s 2ms/step - loss: 0.2754 - accuracy: 0.9033 - val_loss: 1.0916 - val_accuracy: 0.6395\n",
            "Epoch 115/150\n",
            "3828/3828 [==============================] - 9s 2ms/step - loss: 0.2544 - accuracy: 0.9148 - val_loss: 1.1071 - val_accuracy: 0.6479\n",
            "Epoch 116/150\n",
            "3828/3828 [==============================] - 9s 2ms/step - loss: 0.2635 - accuracy: 0.9086 - val_loss: 1.0876 - val_accuracy: 0.6437\n",
            "Epoch 117/150\n",
            "3828/3828 [==============================] - 9s 2ms/step - loss: 0.2657 - accuracy: 0.9109 - val_loss: 1.2465 - val_accuracy: 0.6155\n",
            "Epoch 118/150\n",
            "3828/3828 [==============================] - 9s 2ms/step - loss: 0.2413 - accuracy: 0.9193 - val_loss: 1.1360 - val_accuracy: 0.6364\n",
            "Epoch 119/150\n",
            "3828/3828 [==============================] - 9s 2ms/step - loss: 0.2623 - accuracy: 0.9070 - val_loss: 1.1483 - val_accuracy: 0.6489\n",
            "Epoch 120/150\n",
            "3828/3828 [==============================] - 9s 2ms/step - loss: 0.2627 - accuracy: 0.9130 - val_loss: 1.1720 - val_accuracy: 0.6343\n",
            "Epoch 121/150\n",
            "3828/3828 [==============================] - 9s 2ms/step - loss: 0.2567 - accuracy: 0.9080 - val_loss: 1.1372 - val_accuracy: 0.6364\n",
            "Epoch 122/150\n",
            "3828/3828 [==============================] - 9s 2ms/step - loss: 0.2461 - accuracy: 0.9130 - val_loss: 1.1584 - val_accuracy: 0.6332\n",
            "Epoch 123/150\n",
            "3828/3828 [==============================] - 9s 2ms/step - loss: 0.2369 - accuracy: 0.9172 - val_loss: 1.1544 - val_accuracy: 0.6374\n",
            "Epoch 124/150\n",
            "3828/3828 [==============================] - 9s 2ms/step - loss: 0.2259 - accuracy: 0.9242 - val_loss: 1.2030 - val_accuracy: 0.6165\n",
            "Epoch 125/150\n",
            "3828/3828 [==============================] - 9s 2ms/step - loss: 0.2371 - accuracy: 0.9175 - val_loss: 1.1499 - val_accuracy: 0.6374\n",
            "Epoch 126/150\n",
            "3828/3828 [==============================] - 9s 2ms/step - loss: 0.2473 - accuracy: 0.9120 - val_loss: 1.1341 - val_accuracy: 0.6447\n",
            "Epoch 127/150\n",
            "3828/3828 [==============================] - 9s 2ms/step - loss: 0.2347 - accuracy: 0.9219 - val_loss: 1.1316 - val_accuracy: 0.6426\n",
            "Epoch 128/150\n",
            "3828/3828 [==============================] - 9s 2ms/step - loss: 0.2294 - accuracy: 0.9172 - val_loss: 1.1234 - val_accuracy: 0.6447\n",
            "Epoch 129/150\n",
            "3828/3828 [==============================] - 9s 2ms/step - loss: 0.2320 - accuracy: 0.9177 - val_loss: 1.2299 - val_accuracy: 0.6301\n",
            "Epoch 130/150\n",
            "3828/3828 [==============================] - 9s 2ms/step - loss: 0.2290 - accuracy: 0.9182 - val_loss: 1.1653 - val_accuracy: 0.6416\n",
            "Epoch 131/150\n",
            "3828/3828 [==============================] - 9s 2ms/step - loss: 0.2309 - accuracy: 0.9211 - val_loss: 1.1086 - val_accuracy: 0.6541\n",
            "Epoch 132/150\n",
            "3828/3828 [==============================] - 9s 2ms/step - loss: 0.2079 - accuracy: 0.9266 - val_loss: 1.1787 - val_accuracy: 0.6311\n",
            "Epoch 133/150\n",
            "3828/3828 [==============================] - 9s 2ms/step - loss: 0.2277 - accuracy: 0.9240 - val_loss: 1.2137 - val_accuracy: 0.6311\n",
            "Epoch 134/150\n",
            "3828/3828 [==============================] - 9s 2ms/step - loss: 0.2097 - accuracy: 0.9279 - val_loss: 1.1583 - val_accuracy: 0.6280\n",
            "Epoch 135/150\n",
            "3828/3828 [==============================] - 9s 2ms/step - loss: 0.2136 - accuracy: 0.9240 - val_loss: 1.1408 - val_accuracy: 0.6562\n",
            "Epoch 136/150\n",
            "3828/3828 [==============================] - 9s 2ms/step - loss: 0.2195 - accuracy: 0.9242 - val_loss: 1.2487 - val_accuracy: 0.6426\n",
            "Epoch 137/150\n",
            "3828/3828 [==============================] - 9s 2ms/step - loss: 0.2095 - accuracy: 0.9250 - val_loss: 1.1418 - val_accuracy: 0.6604\n",
            "Epoch 138/150\n",
            "3828/3828 [==============================] - 9s 2ms/step - loss: 0.2187 - accuracy: 0.9229 - val_loss: 1.1418 - val_accuracy: 0.6479\n",
            "Epoch 139/150\n",
            "3828/3828 [==============================] - 9s 2ms/step - loss: 0.2090 - accuracy: 0.9248 - val_loss: 1.1313 - val_accuracy: 0.6541\n",
            "Epoch 140/150\n",
            "3828/3828 [==============================] - 9s 2ms/step - loss: 0.2128 - accuracy: 0.9229 - val_loss: 1.1255 - val_accuracy: 0.6552\n",
            "Epoch 141/150\n",
            "3828/3828 [==============================] - 9s 2ms/step - loss: 0.2069 - accuracy: 0.9295 - val_loss: 1.2438 - val_accuracy: 0.6228\n",
            "Epoch 142/150\n",
            "3828/3828 [==============================] - 9s 2ms/step - loss: 0.2047 - accuracy: 0.9276 - val_loss: 1.1854 - val_accuracy: 0.6562\n",
            "Epoch 143/150\n",
            "3828/3828 [==============================] - 9s 2ms/step - loss: 0.2001 - accuracy: 0.9271 - val_loss: 1.1483 - val_accuracy: 0.6552\n",
            "Epoch 144/150\n",
            "3828/3828 [==============================] - 9s 2ms/step - loss: 0.2168 - accuracy: 0.9263 - val_loss: 1.2155 - val_accuracy: 0.6405\n",
            "Epoch 145/150\n",
            "3828/3828 [==============================] - 9s 2ms/step - loss: 0.1833 - accuracy: 0.9303 - val_loss: 1.1492 - val_accuracy: 0.6374\n",
            "Epoch 146/150\n",
            "3828/3828 [==============================] - 9s 2ms/step - loss: 0.2064 - accuracy: 0.9295 - val_loss: 1.2197 - val_accuracy: 0.6405\n",
            "Epoch 147/150\n",
            "3828/3828 [==============================] - 9s 2ms/step - loss: 0.1848 - accuracy: 0.9373 - val_loss: 1.1678 - val_accuracy: 0.6395\n",
            "Epoch 148/150\n",
            "3828/3828 [==============================] - 9s 2ms/step - loss: 0.2023 - accuracy: 0.9284 - val_loss: 1.2160 - val_accuracy: 0.6332\n",
            "Epoch 149/150\n",
            "3828/3828 [==============================] - 9s 2ms/step - loss: 0.1919 - accuracy: 0.9336 - val_loss: 1.2463 - val_accuracy: 0.6385\n",
            "Epoch 150/150\n",
            "3828/3828 [==============================] - 9s 2ms/step - loss: 0.1726 - accuracy: 0.9428 - val_loss: 1.1793 - val_accuracy: 0.6625\n"
          ],
          "name": "stdout"
        }
      ]
    },
    {
      "cell_type": "code",
      "metadata": {
        "colab_type": "code",
        "outputId": "4210ab66-c472-4f4e-e57e-25f370164655",
        "id": "Uw4fl5j9gc6f",
        "colab": {
          "base_uri": "https://localhost:8080/",
          "height": 81
        }
      },
      "source": [
        "ssc_lpc_accuracy = cnnhistory.history['val_accuracy']\n",
        "ssc_lpc_model = model\n",
        "print(ssc_lpc_accuracy)"
      ],
      "execution_count": 0,
      "outputs": [
        {
          "output_type": "stream",
          "text": [
            "[0.18286311626434326, 0.27168235182762146, 0.39498433470726013, 0.4106582999229431, 0.437826544046402, 0.47962382435798645, 0.46185997128486633, 0.4806687533855438, 0.49111807346343994, 0.5078369975090027, 0.5266457796096802, 0.5088819265365601, 0.5203761458396912, 0.5370950698852539, 0.5391849279403687, 0.5653082728385925, 0.5715778470039368, 0.5590386390686035, 0.5768024921417236, 0.5684430599212646, 0.5872518420219421, 0.5611284971237183, 0.5862069129943848, 0.5590386390686035, 0.5830721259117126, 0.5653082728385925, 0.5611284971237183, 0.5820271968841553, 0.5715778470039368, 0.5997909903526306, 0.6123301982879639, 0.5517241358757019, 0.600835919380188, 0.6217345595359802, 0.5715778470039368, 0.607105553150177, 0.6091954112052917, 0.6175548434257507, 0.6290491223335266, 0.6185997724533081, 0.6029258370399475, 0.6050156950950623, 0.592476487159729, 0.6311389803886414, 0.5966562032699585, 0.6269592642784119, 0.6248694062232971, 0.5569487810134888, 0.6415882706642151, 0.6144200563430786, 0.6227795481681824, 0.630094051361084, 0.5903866291046143, 0.6133751273155212, 0.6436781883239746, 0.6185997724533081, 0.6321839094161987, 0.6206896305084229, 0.6436781883239746, 0.6353186964988708, 0.6081504821777344, 0.6133751273155212, 0.6457680463790894, 0.6342737674713135, 0.6311389803886414, 0.6280041933059692, 0.6342737674713135, 0.630094051361084, 0.6363636255264282, 0.6091954112052917, 0.6405433416366577, 0.6436781883239746, 0.6060606241226196, 0.6363636255264282, 0.6280041933059692, 0.6290491223335266, 0.6415882706642151, 0.6405433416366577, 0.6175548434257507, 0.6248694062232971, 0.6436781883239746, 0.6405433416366577, 0.6509926915168762, 0.6248694062232971, 0.6227795481681824, 0.6353186964988708, 0.6478579044342041, 0.5956112742424011, 0.6363636255264282, 0.644723117351532, 0.6133751273155212, 0.6457680463790894, 0.6227795481681824, 0.638453483581543, 0.6269592642784119, 0.6332288384437561, 0.6342737674713135, 0.6238244771957397, 0.6311389803886414, 0.630094051361084, 0.6394984126091003, 0.6290491223335266, 0.6436781883239746, 0.6426331996917725, 0.6436781883239746, 0.6332288384437561, 0.644723117351532, 0.630094051361084, 0.6227795481681824, 0.6478579044342041, 0.6269592642784119, 0.6269592642784119, 0.6468129754066467, 0.6394984126091003, 0.6478579044342041, 0.6436781883239746, 0.615464985370636, 0.6363636255264282, 0.6489028334617615, 0.6342737674713135, 0.6363636255264282, 0.6332288384437561, 0.6374085545539856, 0.6165099143981934, 0.6374085545539856, 0.644723117351532, 0.6426331996917725, 0.644723117351532, 0.630094051361084, 0.6415882706642151, 0.6541274785995483, 0.6311389803886414, 0.6311389803886414, 0.6280041933059692, 0.6562173366546631, 0.6426331996917725, 0.6603970527648926, 0.6478579044342041, 0.6541274785995483, 0.6551724076271057, 0.6227795481681824, 0.6562173366546631, 0.6551724076271057, 0.6405433416366577, 0.6374085545539856, 0.6405433416366577, 0.6394984126091003, 0.6332288384437561, 0.638453483581543, 0.6624869108200073]\n"
          ],
          "name": "stdout"
        }
      ]
    },
    {
      "cell_type": "code",
      "metadata": {
        "colab_type": "code",
        "outputId": "74cfd9be-ec9b-4451-d62c-709b8198581a",
        "id": "qecBl68dgc6k",
        "colab": {
          "base_uri": "https://localhost:8080/",
          "height": 295
        }
      },
      "source": [
        "plt.plot(cnnhistory.history['accuracy'],'b', linestyle='--', label='train')\n",
        "plt.plot(cnnhistory.history['val_accuracy'],'g', linestyle='-', label='test')\n",
        "plt.title('CNN model accuracy(ssc+lpc)')\n",
        "plt.ylabel('accuracy')\n",
        "plt.xlabel('epoch')\n",
        "plt.legend()\n",
        "plt.show()"
      ],
      "execution_count": 0,
      "outputs": [
        {
          "output_type": "display_data",
          "data": {
            "image/png": "[encoded data removed]",
            "text/plain": [
              "<Figure size 432x288 with 1 Axes>"
            ]
          },
          "metadata": {
            "tags": [],
            "needs_background": "light"
          }
        }
      ]
    },
    {
      "cell_type": "code",
      "metadata": {
        "colab_type": "code",
        "outputId": "a82d4500-c432-4a5f-c13c-3fdc2ec6ef70",
        "id": "KQWSMcEmgc6n",
        "colab": {
          "base_uri": "https://localhost:8080/",
          "height": 52
        }
      },
      "source": [
        "ssc_lpc_model = load_model('/content/gdrive/My Drive/Minor_Sem6/CNN Models(of features)/SSC_LPC.h5')\n",
        "loss, acc = ssc_lpc_model.evaluate(x_testcnn, y_test_ssc_lpc)\n",
        "print(\"Restored model, accuracy: {:5.2f}%\".format(100*acc))\n",
        "sl = acc\n",
        "# print(sl)"
      ],
      "execution_count": 33,
      "outputs": [
        {
          "output_type": "stream",
          "text": [
            "957/957 [==============================] - 0s 426us/step\n",
            "Restored model, accuracy: 66.25%\n"
          ],
          "name": "stdout"
        }
      ]
    },
    {
      "cell_type": "markdown",
      "metadata": {
        "colab_type": "text",
        "id": "5UhUFYeDgbVu"
      },
      "source": [
        "# mfcc"
      ]
    },
    {
      "cell_type": "code",
      "metadata": {
        "colab_type": "code",
        "id": "vbBLypHdgbVx",
        "colab": {}
      },
      "source": [
        "# Considering only mfcc\n",
        "\n",
        "X_train_mfcc, X_test_mfcc, y_train_mfcc, y_test_mfcc = train_test_split(X_mfcc1, y1, test_size=0.2, random_state=0)\n",
        "x_traincnn =np.expand_dims(X_train_mfcc, axis=2)\n",
        "x_testcnn= np.expand_dims(X_test_mfcc, axis=2)\n"
      ],
      "execution_count": 0,
      "outputs": []
    },
    {
      "cell_type": "code",
      "metadata": {
        "colab_type": "code",
        "outputId": "a0ce2d3e-ef59-4c27-aeb3-d087758b88d3",
        "id": "xqBmx-eygbV6",
        "colab": {
          "base_uri": "https://localhost:8080/",
          "height": 34
        }
      },
      "source": [
        "print(X_train_mfcc.shape[1])"
      ],
      "execution_count": 0,
      "outputs": [
        {
          "output_type": "stream",
          "text": [
            "91\n"
          ],
          "name": "stdout"
        }
      ]
    },
    {
      "cell_type": "code",
      "metadata": {
        "colab_type": "code",
        "id": "9kyK2uPVgbWC",
        "colab": {}
      },
      "source": [
        "model = Sequential()\n",
        "\n",
        "model.add(Conv1D(128, 5,padding='same',input_shape=(91,1)))\n",
        "model.add(Activation('relu'))\n",
        "model.add(Dropout(0.1))\n",
        "model.add(MaxPooling1D(pool_size=(8)))\n",
        "\n",
        "model.add(Conv1D(128, 5,padding='same',))\n",
        "model.add(BatchNormalization())                  \n",
        "model.add(Activation('relu'))\n",
        "model.add(MaxPooling1D(pool_size=(8)))\n",
        "model.add(Dropout(0.1))\n",
        "\n",
        "model.add(Conv1D(128, 5,padding='same',))                  \n",
        "model.add(Activation('relu'))\n",
        "model.add(Dropout(0.1))\n",
        "\n",
        "model.add(Conv1D(128, 5,padding='same',)) \n",
        "model.add(BatchNormalization())                 \n",
        "model.add(Activation('relu'))\n",
        "model.add(Dropout(0.1))\n",
        "\n",
        "model.add(Flatten())\n",
        "model.add(Dense(8))                                                           \n",
        "model.add(Activation('softmax'))\n",
        "opt = keras.optimizers.rmsprop(lr=0.00005,epsilon=1e-08,rho=0.9,decay=0.0)"
      ],
      "execution_count": 0,
      "outputs": []
    },
    {
      "cell_type": "code",
      "metadata": {
        "colab_type": "code",
        "outputId": "9429d8f7-8468-4529-81a3-59f29e01d8be",
        "id": "K4asi6gCgbWK",
        "colab": {
          "base_uri": "https://localhost:8080/",
          "height": 1000
        }
      },
      "source": [
        "model.summary()"
      ],
      "execution_count": 0,
      "outputs": [
        {
          "output_type": "stream",
          "text": [
            "Model: \"sequential_21\"\n",
            "_________________________________________________________________\n",
            "Layer (type)                 Output Shape              Param #   \n",
            "=================================================================\n",
            "conv1d_73 (Conv1D)           (None, 91, 128)           768       \n",
            "_________________________________________________________________\n",
            "activation_89 (Activation)   (None, 91, 128)           0         \n",
            "_________________________________________________________________\n",
            "dropout_69 (Dropout)         (None, 91, 128)           0         \n",
            "_________________________________________________________________\n",
            "max_pooling1d_40 (MaxPooling (None, 11, 128)           0         \n",
            "_________________________________________________________________\n",
            "conv1d_74 (Conv1D)           (None, 11, 128)           82048     \n",
            "_________________________________________________________________\n",
            "batch_normalization_37 (Batc (None, 11, 128)           512       \n",
            "_________________________________________________________________\n",
            "activation_90 (Activation)   (None, 11, 128)           0         \n",
            "_________________________________________________________________\n",
            "max_pooling1d_41 (MaxPooling (None, 1, 128)            0         \n",
            "_________________________________________________________________\n",
            "dropout_70 (Dropout)         (None, 1, 128)            0         \n",
            "_________________________________________________________________\n",
            "conv1d_75 (Conv1D)           (None, 1, 128)            82048     \n",
            "_________________________________________________________________\n",
            "activation_91 (Activation)   (None, 1, 128)            0         \n",
            "_________________________________________________________________\n",
            "dropout_71 (Dropout)         (None, 1, 128)            0         \n",
            "_________________________________________________________________\n",
            "conv1d_76 (Conv1D)           (None, 1, 128)            82048     \n",
            "_________________________________________________________________\n",
            "batch_normalization_38 (Batc (None, 1, 128)            512       \n",
            "_________________________________________________________________\n",
            "activation_92 (Activation)   (None, 1, 128)            0         \n",
            "_________________________________________________________________\n",
            "dropout_72 (Dropout)         (None, 1, 128)            0         \n",
            "_________________________________________________________________\n",
            "flatten_17 (Flatten)         (None, 128)               0         \n",
            "_________________________________________________________________\n",
            "dense_17 (Dense)             (None, 8)                 1032      \n",
            "_________________________________________________________________\n",
            "activation_93 (Activation)   (None, 8)                 0         \n",
            "=================================================================\n",
            "Total params: 248,968\n",
            "Trainable params: 248,456\n",
            "Non-trainable params: 512\n",
            "_________________________________________________________________\n"
          ],
          "name": "stdout"
        }
      ]
    },
    {
      "cell_type": "code",
      "metadata": {
        "colab_type": "code",
        "outputId": "7fec6488-9c8b-45c4-b328-bb75b477f903",
        "id": "R7TnRU-igbWT",
        "colab": {
          "base_uri": "https://localhost:8080/",
          "height": 1000
        }
      },
      "source": [
        "model.compile(loss='sparse_categorical_crossentropy', optimizer=opt,metrics=['accuracy'])\n",
        "cnnhistory=model.fit(x_traincnn, y_train_mfcc, batch_size=20, epochs=150, validation_data=(x_testcnn, y_test_mfcc))\n",
        "model.save('/content/gdrive/My Drive/feature/MFCC.h5')"
      ],
      "execution_count": 0,
      "outputs": [
        {
          "output_type": "stream",
          "text": [
            "Train on 3828 samples, validate on 957 samples\n",
            "Epoch 1/150\n",
            "3828/3828 [==============================] - 3s 854us/step - loss: 2.3395 - accuracy: 0.1476 - val_loss: 2.0721 - val_accuracy: 0.2017\n",
            "Epoch 2/150\n",
            "3828/3828 [==============================] - 3s 730us/step - loss: 2.1305 - accuracy: 0.1933 - val_loss: 1.9951 - val_accuracy: 0.2435\n",
            "Epoch 3/150\n",
            "3828/3828 [==============================] - 3s 733us/step - loss: 2.0172 - accuracy: 0.2200 - val_loss: 1.8746 - val_accuracy: 0.2811\n",
            "Epoch 4/150\n",
            "3828/3828 [==============================] - 3s 740us/step - loss: 1.9658 - accuracy: 0.2432 - val_loss: 1.8048 - val_accuracy: 0.3197\n",
            "Epoch 5/150\n",
            "3828/3828 [==============================] - 3s 728us/step - loss: 1.9159 - accuracy: 0.2552 - val_loss: 1.7543 - val_accuracy: 0.3427\n",
            "Epoch 6/150\n",
            "3828/3828 [==============================] - 3s 733us/step - loss: 1.8614 - accuracy: 0.2759 - val_loss: 1.7175 - val_accuracy: 0.3668\n",
            "Epoch 7/150\n",
            "3828/3828 [==============================] - 3s 752us/step - loss: 1.8380 - accuracy: 0.2816 - val_loss: 1.6892 - val_accuracy: 0.3699\n",
            "Epoch 8/150\n",
            "3828/3828 [==============================] - 3s 741us/step - loss: 1.7974 - accuracy: 0.2996 - val_loss: 1.6623 - val_accuracy: 0.3887\n",
            "Epoch 9/150\n",
            "3828/3828 [==============================] - 3s 767us/step - loss: 1.7631 - accuracy: 0.3161 - val_loss: 1.6415 - val_accuracy: 0.3971\n",
            "Epoch 10/150\n",
            "3828/3828 [==============================] - 3s 760us/step - loss: 1.7437 - accuracy: 0.3242 - val_loss: 1.6182 - val_accuracy: 0.4054\n",
            "Epoch 11/150\n",
            "3828/3828 [==============================] - 3s 739us/step - loss: 1.7114 - accuracy: 0.3553 - val_loss: 1.5837 - val_accuracy: 0.4295\n",
            "Epoch 12/150\n",
            "3828/3828 [==============================] - 3s 734us/step - loss: 1.6714 - accuracy: 0.3673 - val_loss: 1.5777 - val_accuracy: 0.4451\n",
            "Epoch 13/150\n",
            "3828/3828 [==============================] - 3s 741us/step - loss: 1.6695 - accuracy: 0.3629 - val_loss: 1.5615 - val_accuracy: 0.4284\n",
            "Epoch 14/150\n",
            "3828/3828 [==============================] - 3s 741us/step - loss: 1.6441 - accuracy: 0.3691 - val_loss: 1.5336 - val_accuracy: 0.4347\n",
            "Epoch 15/150\n",
            "3828/3828 [==============================] - 3s 750us/step - loss: 1.6106 - accuracy: 0.3911 - val_loss: 1.5148 - val_accuracy: 0.4598\n",
            "Epoch 16/150\n",
            "3828/3828 [==============================] - 3s 752us/step - loss: 1.6001 - accuracy: 0.3979 - val_loss: 1.4997 - val_accuracy: 0.4441\n",
            "Epoch 17/150\n",
            "3828/3828 [==============================] - 3s 748us/step - loss: 1.5900 - accuracy: 0.4023 - val_loss: 1.4874 - val_accuracy: 0.4671\n",
            "Epoch 18/150\n",
            "3828/3828 [==============================] - 3s 752us/step - loss: 1.5566 - accuracy: 0.4078 - val_loss: 1.4521 - val_accuracy: 0.4744\n",
            "Epoch 19/150\n",
            "3828/3828 [==============================] - 3s 760us/step - loss: 1.5269 - accuracy: 0.4206 - val_loss: 1.4499 - val_accuracy: 0.4807\n",
            "Epoch 20/150\n",
            "3828/3828 [==============================] - 3s 764us/step - loss: 1.5175 - accuracy: 0.4336 - val_loss: 1.4539 - val_accuracy: 0.4796\n",
            "Epoch 21/150\n",
            "3828/3828 [==============================] - 3s 743us/step - loss: 1.5159 - accuracy: 0.4316 - val_loss: 1.4419 - val_accuracy: 0.4932\n",
            "Epoch 22/150\n",
            "3828/3828 [==============================] - 3s 748us/step - loss: 1.5135 - accuracy: 0.4300 - val_loss: 1.4331 - val_accuracy: 0.4660\n",
            "Epoch 23/150\n",
            "3828/3828 [==============================] - 3s 772us/step - loss: 1.4746 - accuracy: 0.4454 - val_loss: 1.4126 - val_accuracy: 0.5016\n",
            "Epoch 24/150\n",
            "3828/3828 [==============================] - 3s 762us/step - loss: 1.4692 - accuracy: 0.4566 - val_loss: 1.4132 - val_accuracy: 0.5037\n",
            "Epoch 25/150\n",
            "3828/3828 [==============================] - 3s 759us/step - loss: 1.4515 - accuracy: 0.4519 - val_loss: 1.3850 - val_accuracy: 0.5057\n",
            "Epoch 26/150\n",
            "3828/3828 [==============================] - 3s 754us/step - loss: 1.4526 - accuracy: 0.4509 - val_loss: 1.3914 - val_accuracy: 0.4984\n",
            "Epoch 27/150\n",
            "3828/3828 [==============================] - 3s 762us/step - loss: 1.4208 - accuracy: 0.4752 - val_loss: 1.3615 - val_accuracy: 0.5141\n",
            "Epoch 28/150\n",
            "3828/3828 [==============================] - 3s 731us/step - loss: 1.4254 - accuracy: 0.4684 - val_loss: 1.3766 - val_accuracy: 0.4817\n",
            "Epoch 29/150\n",
            "3828/3828 [==============================] - 3s 741us/step - loss: 1.3956 - accuracy: 0.4791 - val_loss: 1.3660 - val_accuracy: 0.5068\n",
            "Epoch 30/150\n",
            "3828/3828 [==============================] - 3s 733us/step - loss: 1.3880 - accuracy: 0.4815 - val_loss: 1.3435 - val_accuracy: 0.5172\n",
            "Epoch 31/150\n",
            "3828/3828 [==============================] - 3s 736us/step - loss: 1.3829 - accuracy: 0.4864 - val_loss: 1.3360 - val_accuracy: 0.5256\n",
            "Epoch 32/150\n",
            "3828/3828 [==============================] - 3s 726us/step - loss: 1.3765 - accuracy: 0.4990 - val_loss: 1.3474 - val_accuracy: 0.5037\n",
            "Epoch 33/150\n",
            "3828/3828 [==============================] - 3s 724us/step - loss: 1.3352 - accuracy: 0.5183 - val_loss: 1.3308 - val_accuracy: 0.5099\n",
            "Epoch 34/150\n",
            "3828/3828 [==============================] - 3s 754us/step - loss: 1.3667 - accuracy: 0.4859 - val_loss: 1.3224 - val_accuracy: 0.5235\n",
            "Epoch 35/150\n",
            "3828/3828 [==============================] - 3s 749us/step - loss: 1.3405 - accuracy: 0.5099 - val_loss: 1.3464 - val_accuracy: 0.5078\n",
            "Epoch 36/150\n",
            "3828/3828 [==============================] - 3s 730us/step - loss: 1.3300 - accuracy: 0.5055 - val_loss: 1.3245 - val_accuracy: 0.5120\n",
            "Epoch 37/150\n",
            "3828/3828 [==============================] - 3s 727us/step - loss: 1.3294 - accuracy: 0.5076 - val_loss: 1.3215 - val_accuracy: 0.5110\n",
            "Epoch 38/150\n",
            "3828/3828 [==============================] - 3s 729us/step - loss: 1.3122 - accuracy: 0.5110 - val_loss: 1.3004 - val_accuracy: 0.5256\n",
            "Epoch 39/150\n",
            "3828/3828 [==============================] - 3s 741us/step - loss: 1.2811 - accuracy: 0.5253 - val_loss: 1.3025 - val_accuracy: 0.5371\n",
            "Epoch 40/150\n",
            "3828/3828 [==============================] - 3s 734us/step - loss: 1.2885 - accuracy: 0.5293 - val_loss: 1.3191 - val_accuracy: 0.5152\n",
            "Epoch 41/150\n",
            "3828/3828 [==============================] - 3s 736us/step - loss: 1.2785 - accuracy: 0.5261 - val_loss: 1.3168 - val_accuracy: 0.5099\n",
            "Epoch 42/150\n",
            "3828/3828 [==============================] - 3s 755us/step - loss: 1.2704 - accuracy: 0.5253 - val_loss: 1.2688 - val_accuracy: 0.5455\n",
            "Epoch 43/150\n",
            "3828/3828 [==============================] - 3s 729us/step - loss: 1.2685 - accuracy: 0.5243 - val_loss: 1.2788 - val_accuracy: 0.5371\n",
            "Epoch 44/150\n",
            "3828/3828 [==============================] - 3s 727us/step - loss: 1.2476 - accuracy: 0.5441 - val_loss: 1.2735 - val_accuracy: 0.5507\n",
            "Epoch 45/150\n",
            "3828/3828 [==============================] - 3s 728us/step - loss: 1.2241 - accuracy: 0.5481 - val_loss: 1.2970 - val_accuracy: 0.5329\n",
            "Epoch 46/150\n",
            "3828/3828 [==============================] - 3s 734us/step - loss: 1.2450 - accuracy: 0.5374 - val_loss: 1.2734 - val_accuracy: 0.5496\n",
            "Epoch 47/150\n",
            "3828/3828 [==============================] - 3s 737us/step - loss: 1.2504 - accuracy: 0.5405 - val_loss: 1.2545 - val_accuracy: 0.5423\n",
            "Epoch 48/150\n",
            "3828/3828 [==============================] - 3s 751us/step - loss: 1.2134 - accuracy: 0.5478 - val_loss: 1.2705 - val_accuracy: 0.5319\n",
            "Epoch 49/150\n",
            "3828/3828 [==============================] - 3s 728us/step - loss: 1.1844 - accuracy: 0.5713 - val_loss: 1.2882 - val_accuracy: 0.5172\n",
            "Epoch 50/150\n",
            "3828/3828 [==============================] - 3s 737us/step - loss: 1.1756 - accuracy: 0.5650 - val_loss: 1.2495 - val_accuracy: 0.5538\n",
            "Epoch 51/150\n",
            "3828/3828 [==============================] - 3s 739us/step - loss: 1.2073 - accuracy: 0.5603 - val_loss: 1.2235 - val_accuracy: 0.5664\n",
            "Epoch 52/150\n",
            "3828/3828 [==============================] - 3s 736us/step - loss: 1.1855 - accuracy: 0.5656 - val_loss: 1.2455 - val_accuracy: 0.5538\n",
            "Epoch 53/150\n",
            "3828/3828 [==============================] - 3s 749us/step - loss: 1.1845 - accuracy: 0.5745 - val_loss: 1.2403 - val_accuracy: 0.5444\n",
            "Epoch 54/150\n",
            "3828/3828 [==============================] - 3s 758us/step - loss: 1.1641 - accuracy: 0.5718 - val_loss: 1.3030 - val_accuracy: 0.5204\n",
            "Epoch 55/150\n",
            "3828/3828 [==============================] - 3s 751us/step - loss: 1.1569 - accuracy: 0.5705 - val_loss: 1.2344 - val_accuracy: 0.5569\n",
            "Epoch 56/150\n",
            "3828/3828 [==============================] - 3s 739us/step - loss: 1.1352 - accuracy: 0.5831 - val_loss: 1.2619 - val_accuracy: 0.5434\n",
            "Epoch 57/150\n",
            "3828/3828 [==============================] - 3s 739us/step - loss: 1.1511 - accuracy: 0.5802 - val_loss: 1.2530 - val_accuracy: 0.5319\n",
            "Epoch 58/150\n",
            "3828/3828 [==============================] - 3s 765us/step - loss: 1.1345 - accuracy: 0.5839 - val_loss: 1.2096 - val_accuracy: 0.5622\n",
            "Epoch 59/150\n",
            "3828/3828 [==============================] - 3s 755us/step - loss: 1.1376 - accuracy: 0.5760 - val_loss: 1.2807 - val_accuracy: 0.5298\n",
            "Epoch 60/150\n",
            "3828/3828 [==============================] - 3s 746us/step - loss: 1.1199 - accuracy: 0.5899 - val_loss: 1.2031 - val_accuracy: 0.5695\n",
            "Epoch 61/150\n",
            "3828/3828 [==============================] - 3s 744us/step - loss: 1.1212 - accuracy: 0.5899 - val_loss: 1.2276 - val_accuracy: 0.5653\n",
            "Epoch 62/150\n",
            "3828/3828 [==============================] - 3s 746us/step - loss: 1.0944 - accuracy: 0.6006 - val_loss: 1.2004 - val_accuracy: 0.5705\n",
            "Epoch 63/150\n",
            "3828/3828 [==============================] - 3s 740us/step - loss: 1.0968 - accuracy: 0.6001 - val_loss: 1.2196 - val_accuracy: 0.5632\n",
            "Epoch 64/150\n",
            "3828/3828 [==============================] - 3s 755us/step - loss: 1.1031 - accuracy: 0.5867 - val_loss: 1.1741 - val_accuracy: 0.5873\n",
            "Epoch 65/150\n",
            "3828/3828 [==============================] - 3s 761us/step - loss: 1.0798 - accuracy: 0.6027 - val_loss: 1.2035 - val_accuracy: 0.5705\n",
            "Epoch 66/150\n",
            "3828/3828 [==============================] - 3s 759us/step - loss: 1.0869 - accuracy: 0.6079 - val_loss: 1.2406 - val_accuracy: 0.5590\n",
            "Epoch 67/150\n",
            "3828/3828 [==============================] - 3s 758us/step - loss: 1.0554 - accuracy: 0.6105 - val_loss: 1.2013 - val_accuracy: 0.5538\n",
            "Epoch 68/150\n",
            "3828/3828 [==============================] - 3s 769us/step - loss: 1.0742 - accuracy: 0.6050 - val_loss: 1.2166 - val_accuracy: 0.5569\n",
            "Epoch 69/150\n",
            "3828/3828 [==============================] - 3s 767us/step - loss: 1.0477 - accuracy: 0.6228 - val_loss: 1.1720 - val_accuracy: 0.5893\n",
            "Epoch 70/150\n",
            "3828/3828 [==============================] - 3s 747us/step - loss: 1.0625 - accuracy: 0.6061 - val_loss: 1.1973 - val_accuracy: 0.5747\n",
            "Epoch 71/150\n",
            "3828/3828 [==============================] - 3s 757us/step - loss: 1.0295 - accuracy: 0.6178 - val_loss: 1.2307 - val_accuracy: 0.5611\n",
            "Epoch 72/150\n",
            "3828/3828 [==============================] - 3s 771us/step - loss: 1.0320 - accuracy: 0.6243 - val_loss: 1.1693 - val_accuracy: 0.5967\n",
            "Epoch 73/150\n",
            "3828/3828 [==============================] - 3s 765us/step - loss: 1.0274 - accuracy: 0.6283 - val_loss: 1.1751 - val_accuracy: 0.6008\n",
            "Epoch 74/150\n",
            "3828/3828 [==============================] - 3s 756us/step - loss: 1.0123 - accuracy: 0.6283 - val_loss: 1.2105 - val_accuracy: 0.5674\n",
            "Epoch 75/150\n",
            "3828/3828 [==============================] - 3s 758us/step - loss: 1.0411 - accuracy: 0.6233 - val_loss: 1.1608 - val_accuracy: 0.5925\n",
            "Epoch 76/150\n",
            "3828/3828 [==============================] - 3s 785us/step - loss: 1.0037 - accuracy: 0.6298 - val_loss: 1.1578 - val_accuracy: 0.5841\n",
            "Epoch 77/150\n",
            "3828/3828 [==============================] - 3s 767us/step - loss: 1.0298 - accuracy: 0.6194 - val_loss: 1.2119 - val_accuracy: 0.5674\n",
            "Epoch 78/150\n",
            "3828/3828 [==============================] - 3s 753us/step - loss: 0.9983 - accuracy: 0.6288 - val_loss: 1.1803 - val_accuracy: 0.5778\n",
            "Epoch 79/150\n",
            "3828/3828 [==============================] - 3s 759us/step - loss: 1.0117 - accuracy: 0.6270 - val_loss: 1.1995 - val_accuracy: 0.5674\n",
            "Epoch 80/150\n",
            "3828/3828 [==============================] - 3s 764us/step - loss: 0.9884 - accuracy: 0.6374 - val_loss: 1.1679 - val_accuracy: 0.5904\n",
            "Epoch 81/150\n",
            "3828/3828 [==============================] - 3s 743us/step - loss: 0.9744 - accuracy: 0.6476 - val_loss: 1.1724 - val_accuracy: 0.5862\n",
            "Epoch 82/150\n",
            "3828/3828 [==============================] - 3s 733us/step - loss: 0.9605 - accuracy: 0.6484 - val_loss: 1.1561 - val_accuracy: 0.5935\n",
            "Epoch 83/150\n",
            "3828/3828 [==============================] - 3s 752us/step - loss: 0.9650 - accuracy: 0.6565 - val_loss: 1.1480 - val_accuracy: 0.5893\n",
            "Epoch 84/150\n",
            "3828/3828 [==============================] - 3s 730us/step - loss: 0.9610 - accuracy: 0.6505 - val_loss: 1.1520 - val_accuracy: 0.5852\n",
            "Epoch 85/150\n",
            "3828/3828 [==============================] - 3s 732us/step - loss: 0.9719 - accuracy: 0.6445 - val_loss: 1.1800 - val_accuracy: 0.5747\n",
            "Epoch 86/150\n",
            "3828/3828 [==============================] - 3s 732us/step - loss: 0.9647 - accuracy: 0.6531 - val_loss: 1.1881 - val_accuracy: 0.5664\n",
            "Epoch 87/150\n",
            "3828/3828 [==============================] - 3s 736us/step - loss: 0.9362 - accuracy: 0.6560 - val_loss: 1.1395 - val_accuracy: 0.6008\n",
            "Epoch 88/150\n",
            "3828/3828 [==============================] - 3s 738us/step - loss: 0.9543 - accuracy: 0.6497 - val_loss: 1.1618 - val_accuracy: 0.5977\n",
            "Epoch 89/150\n",
            "3828/3828 [==============================] - 3s 743us/step - loss: 0.9514 - accuracy: 0.6578 - val_loss: 1.1740 - val_accuracy: 0.5873\n",
            "Epoch 90/150\n",
            "3828/3828 [==============================] - 3s 749us/step - loss: 0.9319 - accuracy: 0.6661 - val_loss: 1.1709 - val_accuracy: 0.5778\n",
            "Epoch 91/150\n",
            "3828/3828 [==============================] - 3s 723us/step - loss: 0.9195 - accuracy: 0.6675 - val_loss: 1.1410 - val_accuracy: 0.5946\n",
            "Epoch 92/150\n",
            "3828/3828 [==============================] - 3s 739us/step - loss: 0.9324 - accuracy: 0.6669 - val_loss: 1.1814 - val_accuracy: 0.5726\n",
            "Epoch 93/150\n",
            "3828/3828 [==============================] - 3s 734us/step - loss: 0.9355 - accuracy: 0.6651 - val_loss: 1.1684 - val_accuracy: 0.5841\n",
            "Epoch 94/150\n",
            "3828/3828 [==============================] - 3s 754us/step - loss: 0.9069 - accuracy: 0.6740 - val_loss: 1.1303 - val_accuracy: 0.6029\n",
            "Epoch 95/150\n",
            "3828/3828 [==============================] - 3s 766us/step - loss: 0.9138 - accuracy: 0.6698 - val_loss: 1.2306 - val_accuracy: 0.5475\n",
            "Epoch 96/150\n",
            "3828/3828 [==============================] - 3s 736us/step - loss: 0.9115 - accuracy: 0.6771 - val_loss: 1.1753 - val_accuracy: 0.5716\n",
            "Epoch 97/150\n",
            "3828/3828 [==============================] - 3s 752us/step - loss: 0.9298 - accuracy: 0.6680 - val_loss: 1.1842 - val_accuracy: 0.5747\n",
            "Epoch 98/150\n",
            "3828/3828 [==============================] - 3s 765us/step - loss: 0.8891 - accuracy: 0.6894 - val_loss: 1.1865 - val_accuracy: 0.5852\n",
            "Epoch 99/150\n",
            "3828/3828 [==============================] - 3s 774us/step - loss: 0.8974 - accuracy: 0.6818 - val_loss: 1.1727 - val_accuracy: 0.5810\n",
            "Epoch 100/150\n",
            "3828/3828 [==============================] - 3s 770us/step - loss: 0.8831 - accuracy: 0.6792 - val_loss: 1.1619 - val_accuracy: 0.5998\n",
            "Epoch 101/150\n",
            "3828/3828 [==============================] - 3s 761us/step - loss: 0.8829 - accuracy: 0.6904 - val_loss: 1.1605 - val_accuracy: 0.5831\n",
            "Epoch 102/150\n",
            "3828/3828 [==============================] - 3s 734us/step - loss: 0.8653 - accuracy: 0.6836 - val_loss: 1.1419 - val_accuracy: 0.6040\n",
            "Epoch 103/150\n",
            "3828/3828 [==============================] - 3s 739us/step - loss: 0.8711 - accuracy: 0.6771 - val_loss: 1.1552 - val_accuracy: 0.5935\n",
            "Epoch 104/150\n",
            "3828/3828 [==============================] - 3s 729us/step - loss: 0.8792 - accuracy: 0.6860 - val_loss: 1.1761 - val_accuracy: 0.5768\n",
            "Epoch 105/150\n",
            "3828/3828 [==============================] - 3s 736us/step - loss: 0.8700 - accuracy: 0.6816 - val_loss: 1.1255 - val_accuracy: 0.5977\n",
            "Epoch 106/150\n",
            "3828/3828 [==============================] - 3s 731us/step - loss: 0.8564 - accuracy: 0.6847 - val_loss: 1.2025 - val_accuracy: 0.5841\n",
            "Epoch 107/150\n",
            "3828/3828 [==============================] - 3s 732us/step - loss: 0.8555 - accuracy: 0.6881 - val_loss: 1.1517 - val_accuracy: 0.5935\n",
            "Epoch 108/150\n",
            "3828/3828 [==============================] - 3s 749us/step - loss: 0.8571 - accuracy: 0.6970 - val_loss: 1.1434 - val_accuracy: 0.5998\n",
            "Epoch 109/150\n",
            "3828/3828 [==============================] - 3s 755us/step - loss: 0.8257 - accuracy: 0.7072 - val_loss: 1.1536 - val_accuracy: 0.5914\n",
            "Epoch 110/150\n",
            "3828/3828 [==============================] - 3s 751us/step - loss: 0.8208 - accuracy: 0.6941 - val_loss: 1.2662 - val_accuracy: 0.5528\n",
            "Epoch 111/150\n",
            "3828/3828 [==============================] - 3s 749us/step - loss: 0.8412 - accuracy: 0.6983 - val_loss: 1.1609 - val_accuracy: 0.5873\n",
            "Epoch 112/150\n",
            "3828/3828 [==============================] - 3s 731us/step - loss: 0.8392 - accuracy: 0.7001 - val_loss: 1.1527 - val_accuracy: 0.5925\n",
            "Epoch 113/150\n",
            "3828/3828 [==============================] - 3s 749us/step - loss: 0.8326 - accuracy: 0.7014 - val_loss: 1.1697 - val_accuracy: 0.5831\n",
            "Epoch 114/150\n",
            "3828/3828 [==============================] - 3s 762us/step - loss: 0.8173 - accuracy: 0.7116 - val_loss: 1.1329 - val_accuracy: 0.5925\n",
            "Epoch 115/150\n",
            "3828/3828 [==============================] - 3s 738us/step - loss: 0.8139 - accuracy: 0.7064 - val_loss: 1.1624 - val_accuracy: 0.5852\n",
            "Epoch 116/150\n",
            "3828/3828 [==============================] - 3s 747us/step - loss: 0.8273 - accuracy: 0.6998 - val_loss: 1.1019 - val_accuracy: 0.6019\n",
            "Epoch 117/150\n",
            "3828/3828 [==============================] - 3s 739us/step - loss: 0.8002 - accuracy: 0.7139 - val_loss: 1.1675 - val_accuracy: 0.5737\n",
            "Epoch 118/150\n",
            "3828/3828 [==============================] - 3s 746us/step - loss: 0.7911 - accuracy: 0.7087 - val_loss: 1.1277 - val_accuracy: 0.5925\n",
            "Epoch 119/150\n",
            "3828/3828 [==============================] - 3s 743us/step - loss: 0.7805 - accuracy: 0.7226 - val_loss: 1.1623 - val_accuracy: 0.5946\n",
            "Epoch 120/150\n",
            "3828/3828 [==============================] - 3s 753us/step - loss: 0.7911 - accuracy: 0.7069 - val_loss: 1.1188 - val_accuracy: 0.6050\n",
            "Epoch 121/150\n",
            "3828/3828 [==============================] - 3s 739us/step - loss: 0.7866 - accuracy: 0.7150 - val_loss: 1.1272 - val_accuracy: 0.5987\n",
            "Epoch 122/150\n",
            "3828/3828 [==============================] - 3s 741us/step - loss: 0.7764 - accuracy: 0.7113 - val_loss: 1.1271 - val_accuracy: 0.5967\n",
            "Epoch 123/150\n",
            "3828/3828 [==============================] - 3s 727us/step - loss: 0.7858 - accuracy: 0.7077 - val_loss: 1.1605 - val_accuracy: 0.5873\n",
            "Epoch 124/150\n",
            "3828/3828 [==============================] - 3s 740us/step - loss: 0.7849 - accuracy: 0.7095 - val_loss: 1.2207 - val_accuracy: 0.5716\n",
            "Epoch 125/150\n",
            "3828/3828 [==============================] - 3s 748us/step - loss: 0.7793 - accuracy: 0.7147 - val_loss: 1.1282 - val_accuracy: 0.6008\n",
            "Epoch 126/150\n",
            "3828/3828 [==============================] - 3s 771us/step - loss: 0.7624 - accuracy: 0.7257 - val_loss: 1.1637 - val_accuracy: 0.5789\n",
            "Epoch 127/150\n",
            "3828/3828 [==============================] - 3s 760us/step - loss: 0.7744 - accuracy: 0.7168 - val_loss: 1.2174 - val_accuracy: 0.5904\n",
            "Epoch 128/150\n",
            "3828/3828 [==============================] - 3s 779us/step - loss: 0.7571 - accuracy: 0.7301 - val_loss: 1.1465 - val_accuracy: 0.5967\n",
            "Epoch 129/150\n",
            "3828/3828 [==============================] - 3s 748us/step - loss: 0.7741 - accuracy: 0.7187 - val_loss: 1.1990 - val_accuracy: 0.5778\n",
            "Epoch 130/150\n",
            "3828/3828 [==============================] - 3s 733us/step - loss: 0.7379 - accuracy: 0.7356 - val_loss: 1.1857 - val_accuracy: 0.5852\n",
            "Epoch 131/150\n",
            "3828/3828 [==============================] - 3s 768us/step - loss: 0.7334 - accuracy: 0.7341 - val_loss: 1.3050 - val_accuracy: 0.5643\n",
            "Epoch 132/150\n",
            "3828/3828 [==============================] - 3s 755us/step - loss: 0.7504 - accuracy: 0.7351 - val_loss: 1.1868 - val_accuracy: 0.5883\n",
            "Epoch 133/150\n",
            "3828/3828 [==============================] - 3s 737us/step - loss: 0.7260 - accuracy: 0.7422 - val_loss: 1.2863 - val_accuracy: 0.5684\n",
            "Epoch 134/150\n",
            "3828/3828 [==============================] - 3s 738us/step - loss: 0.7526 - accuracy: 0.7270 - val_loss: 1.1631 - val_accuracy: 0.5873\n",
            "Epoch 135/150\n",
            "3828/3828 [==============================] - 3s 741us/step - loss: 0.7349 - accuracy: 0.7369 - val_loss: 1.1479 - val_accuracy: 0.5925\n",
            "Epoch 136/150\n",
            "3828/3828 [==============================] - 3s 735us/step - loss: 0.7235 - accuracy: 0.7409 - val_loss: 1.1688 - val_accuracy: 0.5956\n",
            "Epoch 137/150\n",
            "3828/3828 [==============================] - 3s 735us/step - loss: 0.7494 - accuracy: 0.7273 - val_loss: 1.1794 - val_accuracy: 0.5820\n",
            "Epoch 138/150\n",
            "3828/3828 [==============================] - 3s 743us/step - loss: 0.7438 - accuracy: 0.7346 - val_loss: 1.1595 - val_accuracy: 0.5987\n",
            "Epoch 139/150\n",
            "3828/3828 [==============================] - 3s 775us/step - loss: 0.7159 - accuracy: 0.7482 - val_loss: 1.1474 - val_accuracy: 0.5893\n",
            "Epoch 140/150\n",
            "3828/3828 [==============================] - 3s 758us/step - loss: 0.7320 - accuracy: 0.7346 - val_loss: 1.2455 - val_accuracy: 0.5873\n",
            "Epoch 141/150\n",
            "3828/3828 [==============================] - 3s 741us/step - loss: 0.6880 - accuracy: 0.7552 - val_loss: 1.1196 - val_accuracy: 0.5914\n",
            "Epoch 142/150\n",
            "3828/3828 [==============================] - 3s 738us/step - loss: 0.7105 - accuracy: 0.7513 - val_loss: 1.1748 - val_accuracy: 0.5914\n",
            "Epoch 143/150\n",
            "3828/3828 [==============================] - 3s 759us/step - loss: 0.7234 - accuracy: 0.7437 - val_loss: 1.1045 - val_accuracy: 0.6207\n",
            "Epoch 144/150\n",
            "3828/3828 [==============================] - 3s 760us/step - loss: 0.6894 - accuracy: 0.7557 - val_loss: 1.1887 - val_accuracy: 0.5904\n",
            "Epoch 145/150\n",
            "3828/3828 [==============================] - 3s 750us/step - loss: 0.6890 - accuracy: 0.7537 - val_loss: 1.1175 - val_accuracy: 0.6102\n",
            "Epoch 146/150\n",
            "3828/3828 [==============================] - 3s 767us/step - loss: 0.7137 - accuracy: 0.7445 - val_loss: 1.1587 - val_accuracy: 0.6082\n",
            "Epoch 147/150\n",
            "3828/3828 [==============================] - 3s 757us/step - loss: 0.6984 - accuracy: 0.7437 - val_loss: 1.2240 - val_accuracy: 0.5758\n",
            "Epoch 148/150\n",
            "3828/3828 [==============================] - 3s 754us/step - loss: 0.6868 - accuracy: 0.7581 - val_loss: 1.1635 - val_accuracy: 0.5914\n",
            "Epoch 149/150\n",
            "3828/3828 [==============================] - 3s 770us/step - loss: 0.6697 - accuracy: 0.7589 - val_loss: 1.1614 - val_accuracy: 0.6008\n",
            "Epoch 150/150\n",
            "3828/3828 [==============================] - 3s 774us/step - loss: 0.6697 - accuracy: 0.7667 - val_loss: 1.2609 - val_accuracy: 0.5768\n"
          ],
          "name": "stdout"
        }
      ]
    },
    {
      "cell_type": "code",
      "metadata": {
        "colab_type": "code",
        "outputId": "69fedb9d-cbfe-4bdb-d456-a25b237947f1",
        "id": "h8KTStpxgbWZ",
        "colab": {
          "base_uri": "https://localhost:8080/",
          "height": 81
        }
      },
      "source": [
        "mfcc_accuracy = cnnhistory.history['val_accuracy']\n",
        "mfcc_model = model\n",
        "print(mfcc_accuracy)"
      ],
      "execution_count": 0,
      "outputs": [
        {
          "output_type": "stream",
          "text": [
            "[0.20167189836502075, 0.24346917867660522, 0.2810867428779602, 0.31974920630455017, 0.34273773431777954, 0.3667711615562439, 0.369905948638916, 0.3887147307395935, 0.3970741927623749, 0.40543365478515625, 0.4294670820236206, 0.445141077041626, 0.42842215299606323, 0.43469175696372986, 0.4597701132297516, 0.4440961480140686, 0.4670846462249756, 0.4743991494178772, 0.4806687533855438, 0.47962382435798645, 0.4932079315185547, 0.4660397171974182, 0.5015674233436584, 0.5036572813987732, 0.5057471394538879, 0.49843260645866394, 0.5141065716743469, 0.4817136824131012, 0.5067920684814453, 0.517241358757019, 0.5256008505821228, 0.5036572813987732, 0.5099268555641174, 0.5235109925270081, 0.5078369975090027, 0.5120167136192322, 0.5109717845916748, 0.5256008505821228, 0.5370950698852539, 0.5151515007019043, 0.5099268555641174, 0.5454545617103577, 0.5370950698852539, 0.5506792068481445, 0.5329153537750244, 0.5496342778205872, 0.5423197746276855, 0.531870424747467, 0.517241358757019, 0.5538139939308167, 0.5663532018661499, 0.5538139939308167, 0.5444096326828003, 0.5203761458396912, 0.5569487810134888, 0.5433647036552429, 0.531870424747467, 0.5621734857559204, 0.5297805666923523, 0.569487988948822, 0.5653082728385925, 0.5705329179763794, 0.5632184147834778, 0.5872518420219421, 0.5705329179763794, 0.5590386390686035, 0.5538139939308167, 0.5569487810134888, 0.5893417000770569, 0.5747126340866089, 0.5611284971237183, 0.5966562032699585, 0.600835919380188, 0.5673981308937073, 0.592476487159729, 0.58411705493927, 0.5673981308937073, 0.577847421169281, 0.5673981308937073, 0.5903866291046143, 0.5862069129943848, 0.5935214161872864, 0.5893417000770569, 0.5851619839668274, 0.5747126340866089, 0.5663532018661499, 0.600835919380188, 0.5977011322975159, 0.5872518420219421, 0.577847421169281, 0.5945663452148438, 0.5726227760314941, 0.58411705493927, 0.6029258370399475, 0.5475444197654724, 0.5715778470039368, 0.5747126340866089, 0.5851619839668274, 0.5809822082519531, 0.5997909903526306, 0.5830721259117126, 0.6039707660675049, 0.5935214161872864, 0.5768024921417236, 0.5977011322975159, 0.58411705493927, 0.5935214161872864, 0.5997909903526306, 0.5914315581321716, 0.5527690649032593, 0.5872518420219421, 0.592476487159729, 0.5830721259117126, 0.592476487159729, 0.5851619839668274, 0.6018808484077454, 0.5736677050590515, 0.592476487159729, 0.5945663452148438, 0.6050156950950623, 0.5987460613250732, 0.5966562032699585, 0.5872518420219421, 0.5715778470039368, 0.600835919380188, 0.5788923501968384, 0.5903866291046143, 0.5966562032699585, 0.577847421169281, 0.5851619839668274, 0.5642633438110352, 0.5882967710494995, 0.5684430599212646, 0.5872518420219421, 0.592476487159729, 0.5956112742424011, 0.5820271968841553, 0.5987460613250732, 0.5893417000770569, 0.5872518420219421, 0.5914315581321716, 0.5914315581321716, 0.6206896305084229, 0.5903866291046143, 0.6102403402328491, 0.6081504821777344, 0.5757575631141663, 0.5914315581321716, 0.600835919380188, 0.5768024921417236]\n"
          ],
          "name": "stdout"
        }
      ]
    },
    {
      "cell_type": "code",
      "metadata": {
        "colab_type": "code",
        "outputId": "8c1a086c-d598-4317-d2b2-ab122ee40f65",
        "id": "wxulN0UBgbWd",
        "colab": {
          "base_uri": "https://localhost:8080/",
          "height": 295
        }
      },
      "source": [
        "plt.plot(cnnhistory.history['accuracy'],'b', linestyle='--', label='train')\n",
        "plt.plot(cnnhistory.history['val_accuracy'],'g', linestyle='-', label='test')\n",
        "plt.title('CNN model accuracy(mfcc)')\n",
        "plt.ylabel('accuracy')\n",
        "plt.xlabel('epoch')\n",
        "plt.legend()\n",
        "plt.show()"
      ],
      "execution_count": 0,
      "outputs": [
        {
          "output_type": "display_data",
          "data": {
            "image/png": "[encoded data removed]",
            "text/plain": [
              "<Figure size 432x288 with 1 Axes>"
            ]
          },
          "metadata": {
            "tags": [],
            "needs_background": "light"
          }
        }
      ]
    },
    {
      "cell_type": "code",
      "metadata": {
        "colab_type": "code",
        "outputId": "2e22a5be-b143-4eb8-8979-2c1d5ea78a7a",
        "id": "qoCTl_K0gbWg",
        "colab": {
          "base_uri": "https://localhost:8080/",
          "height": 52
        }
      },
      "source": [
        "mfcc_model = load_model('/content/gdrive/My Drive/Minor_Sem6/CNN Models(of features)/MFCC.h5')\n",
        "loss, acc = mfcc_model.evaluate(x_testcnn, y_test_mfcc)\n",
        "print(\"Restored model, accuracy: {:5.2f}%\".format(100*acc))\n",
        "m=acc\n",
        "# print(m)"
      ],
      "execution_count": 35,
      "outputs": [
        {
          "output_type": "stream",
          "text": [
            "957/957 [==============================] - 0s 215us/step\n",
            "Restored model, accuracy: 57.68%\n"
          ],
          "name": "stdout"
        }
      ]
    },
    {
      "cell_type": "markdown",
      "metadata": {
        "colab_type": "text",
        "id": "6rUV2AstgY45"
      },
      "source": [
        "# ssc"
      ]
    },
    {
      "cell_type": "code",
      "metadata": {
        "colab_type": "code",
        "id": "ZFbdIsxBgY48",
        "colab": {}
      },
      "source": [
        "# Considering only ssc\n",
        "\n",
        "X_train_ssc, X_test_ssc, y_train_ssc, y_test_ssc = train_test_split(X_ssc1, y1, test_size=0.2, random_state=0)\n",
        "x_traincnn =np.expand_dims(X_train_ssc, axis=2)\n",
        "x_testcnn= np.expand_dims(X_test_ssc, axis=2)\n"
      ],
      "execution_count": 0,
      "outputs": []
    },
    {
      "cell_type": "code",
      "metadata": {
        "colab_type": "code",
        "outputId": "0ea4ebd7-5378-4547-c820-af989f236971",
        "id": "Xpy5A4e-gY5H",
        "colab": {
          "base_uri": "https://localhost:8080/",
          "height": 34
        }
      },
      "source": [
        "print(X_train_ssc.shape[1])"
      ],
      "execution_count": 0,
      "outputs": [
        {
          "output_type": "stream",
          "text": [
            "182\n"
          ],
          "name": "stdout"
        }
      ]
    },
    {
      "cell_type": "code",
      "metadata": {
        "colab_type": "code",
        "id": "0REyhSS6gY5S",
        "colab": {}
      },
      "source": [
        "model = Sequential()\n",
        "\n",
        "model.add(Conv1D(256, 5,padding='same',input_shape=(182,1)))\n",
        "model.add(Activation('relu'))\n",
        "model.add(Dropout(0.1))\n",
        "model.add(MaxPooling1D(pool_size=(8)))\n",
        "\n",
        "model.add(Conv1D(128, 5,padding='same',))\n",
        "model.add(BatchNormalization())                  \n",
        "model.add(Activation('relu'))\n",
        "model.add(MaxPooling1D(pool_size=(8)))\n",
        "model.add(Dropout(0.1))\n",
        "\n",
        "model.add(Conv1D(128, 5,padding='same',))                  \n",
        "model.add(Activation('relu'))\n",
        "model.add(Dropout(0.1))\n",
        "\n",
        "model.add(Conv1D(128, 5,padding='same',)) \n",
        "model.add(BatchNormalization())                 \n",
        "model.add(Activation('relu'))\n",
        "model.add(Dropout(0.1))\n",
        "\n",
        "model.add(Flatten())\n",
        "model.add(Dense(8))                                                           \n",
        "model.add(Activation('softmax'))\n",
        "opt = keras.optimizers.rmsprop(lr=0.00005,epsilon=1e-08,rho=0.9,decay=0.0)"
      ],
      "execution_count": 0,
      "outputs": []
    },
    {
      "cell_type": "code",
      "metadata": {
        "colab_type": "code",
        "outputId": "24fd850e-c238-4318-dccb-ca5dabbf2a27",
        "id": "s4PT-RzWgY5d",
        "colab": {
          "base_uri": "https://localhost:8080/",
          "height": 1000
        }
      },
      "source": [
        "model.summary()"
      ],
      "execution_count": 0,
      "outputs": [
        {
          "output_type": "stream",
          "text": [
            "Model: \"sequential_22\"\n",
            "_________________________________________________________________\n",
            "Layer (type)                 Output Shape              Param #   \n",
            "=================================================================\n",
            "conv1d_77 (Conv1D)           (None, 182, 256)          1536      \n",
            "_________________________________________________________________\n",
            "activation_94 (Activation)   (None, 182, 256)          0         \n",
            "_________________________________________________________________\n",
            "dropout_73 (Dropout)         (None, 182, 256)          0         \n",
            "_________________________________________________________________\n",
            "max_pooling1d_42 (MaxPooling (None, 22, 256)           0         \n",
            "_________________________________________________________________\n",
            "conv1d_78 (Conv1D)           (None, 22, 128)           163968    \n",
            "_________________________________________________________________\n",
            "batch_normalization_39 (Batc (None, 22, 128)           512       \n",
            "_________________________________________________________________\n",
            "activation_95 (Activation)   (None, 22, 128)           0         \n",
            "_________________________________________________________________\n",
            "max_pooling1d_43 (MaxPooling (None, 2, 128)            0         \n",
            "_________________________________________________________________\n",
            "dropout_74 (Dropout)         (None, 2, 128)            0         \n",
            "_________________________________________________________________\n",
            "conv1d_79 (Conv1D)           (None, 2, 128)            82048     \n",
            "_________________________________________________________________\n",
            "activation_96 (Activation)   (None, 2, 128)            0         \n",
            "_________________________________________________________________\n",
            "dropout_75 (Dropout)         (None, 2, 128)            0         \n",
            "_________________________________________________________________\n",
            "conv1d_80 (Conv1D)           (None, 2, 128)            82048     \n",
            "_________________________________________________________________\n",
            "batch_normalization_40 (Batc (None, 2, 128)            512       \n",
            "_________________________________________________________________\n",
            "activation_97 (Activation)   (None, 2, 128)            0         \n",
            "_________________________________________________________________\n",
            "dropout_76 (Dropout)         (None, 2, 128)            0         \n",
            "_________________________________________________________________\n",
            "flatten_18 (Flatten)         (None, 256)               0         \n",
            "_________________________________________________________________\n",
            "dense_18 (Dense)             (None, 8)                 2056      \n",
            "_________________________________________________________________\n",
            "activation_98 (Activation)   (None, 8)                 0         \n",
            "=================================================================\n",
            "Total params: 332,680\n",
            "Trainable params: 332,168\n",
            "Non-trainable params: 512\n",
            "_________________________________________________________________\n"
          ],
          "name": "stdout"
        }
      ]
    },
    {
      "cell_type": "code",
      "metadata": {
        "colab_type": "code",
        "outputId": "d508c926-bc8b-49cb-dcc3-c7afaa6b11cf",
        "id": "xyCcBZ9rgY5i",
        "colab": {
          "base_uri": "https://localhost:8080/",
          "height": 1000
        }
      },
      "source": [
        "model.compile(loss='sparse_categorical_crossentropy', optimizer=opt,metrics=['accuracy'])\n",
        "cnnhistory=model.fit(x_traincnn, y_train_ssc, batch_size=20, epochs=150, validation_data=(x_testcnn, y_test_ssc))\n",
        "model.save('/content/gdrive/My Drive/feature/SSC.h5')"
      ],
      "execution_count": 0,
      "outputs": [
        {
          "output_type": "stream",
          "text": [
            "Train on 3828 samples, validate on 957 samples\n",
            "Epoch 1/150\n",
            "3828/3828 [==============================] - 9s 2ms/step - loss: 2.0430 - accuracy: 0.2098 - val_loss: 2.0685 - val_accuracy: 0.1985\n",
            "Epoch 2/150\n",
            "3828/3828 [==============================] - 8s 2ms/step - loss: 1.8362 - accuracy: 0.2871 - val_loss: 1.8922 - val_accuracy: 0.2727\n",
            "Epoch 3/150\n",
            "3828/3828 [==============================] - 8s 2ms/step - loss: 1.7302 - accuracy: 0.3315 - val_loss: 1.7101 - val_accuracy: 0.3271\n",
            "Epoch 4/150\n",
            "3828/3828 [==============================] - 12s 3ms/step - loss: 1.6793 - accuracy: 0.3566 - val_loss: 1.6824 - val_accuracy: 0.3427\n",
            "Epoch 5/150\n",
            "3828/3828 [==============================] - 9s 2ms/step - loss: 1.6251 - accuracy: 0.3874 - val_loss: 1.6270 - val_accuracy: 0.3992\n",
            "Epoch 6/150\n",
            "3828/3828 [==============================] - 8s 2ms/step - loss: 1.5587 - accuracy: 0.4211 - val_loss: 1.5781 - val_accuracy: 0.3981\n",
            "Epoch 7/150\n",
            "3828/3828 [==============================] - 8s 2ms/step - loss: 1.5205 - accuracy: 0.4386 - val_loss: 1.5510 - val_accuracy: 0.3981\n",
            "Epoch 8/150\n",
            "3828/3828 [==============================] - 9s 2ms/step - loss: 1.4826 - accuracy: 0.4462 - val_loss: 1.4887 - val_accuracy: 0.4451\n",
            "Epoch 9/150\n",
            "3828/3828 [==============================] - 8s 2ms/step - loss: 1.4518 - accuracy: 0.4621 - val_loss: 1.4750 - val_accuracy: 0.4431\n",
            "Epoch 10/150\n",
            "3828/3828 [==============================] - 8s 2ms/step - loss: 1.4446 - accuracy: 0.4559 - val_loss: 1.4394 - val_accuracy: 0.4723\n",
            "Epoch 11/150\n",
            "3828/3828 [==============================] - 8s 2ms/step - loss: 1.3944 - accuracy: 0.4812 - val_loss: 1.4097 - val_accuracy: 0.4807\n",
            "Epoch 12/150\n",
            "3828/3828 [==============================] - 8s 2ms/step - loss: 1.3673 - accuracy: 0.4948 - val_loss: 1.4172 - val_accuracy: 0.4660\n",
            "Epoch 13/150\n",
            "3828/3828 [==============================] - 8s 2ms/step - loss: 1.3574 - accuracy: 0.5010 - val_loss: 1.4338 - val_accuracy: 0.4692\n",
            "Epoch 14/150\n",
            "3828/3828 [==============================] - 8s 2ms/step - loss: 1.3152 - accuracy: 0.5094 - val_loss: 1.3931 - val_accuracy: 0.4932\n",
            "Epoch 15/150\n",
            "3828/3828 [==============================] - 9s 2ms/step - loss: 1.3004 - accuracy: 0.5144 - val_loss: 1.3695 - val_accuracy: 0.5037\n",
            "Epoch 16/150\n",
            "3828/3828 [==============================] - 8s 2ms/step - loss: 1.2586 - accuracy: 0.5389 - val_loss: 1.3627 - val_accuracy: 0.4817\n",
            "Epoch 17/150\n",
            "3828/3828 [==============================] - 8s 2ms/step - loss: 1.2410 - accuracy: 0.5379 - val_loss: 1.3391 - val_accuracy: 0.5131\n",
            "Epoch 18/150\n",
            "3828/3828 [==============================] - 8s 2ms/step - loss: 1.2168 - accuracy: 0.5543 - val_loss: 1.3535 - val_accuracy: 0.4922\n",
            "Epoch 19/150\n",
            "3828/3828 [==============================] - 8s 2ms/step - loss: 1.2220 - accuracy: 0.5588 - val_loss: 1.3527 - val_accuracy: 0.4984\n",
            "Epoch 20/150\n",
            "3828/3828 [==============================] - 9s 2ms/step - loss: 1.1744 - accuracy: 0.5781 - val_loss: 1.3637 - val_accuracy: 0.5037\n",
            "Epoch 21/150\n",
            "3828/3828 [==============================] - 8s 2ms/step - loss: 1.1744 - accuracy: 0.5580 - val_loss: 1.3128 - val_accuracy: 0.5277\n",
            "Epoch 22/150\n",
            "3828/3828 [==============================] - 8s 2ms/step - loss: 1.1522 - accuracy: 0.5760 - val_loss: 1.3267 - val_accuracy: 0.5131\n",
            "Epoch 23/150\n",
            "3828/3828 [==============================] - 8s 2ms/step - loss: 1.1480 - accuracy: 0.5810 - val_loss: 1.3830 - val_accuracy: 0.5026\n",
            "Epoch 24/150\n",
            "3828/3828 [==============================] - 8s 2ms/step - loss: 1.1125 - accuracy: 0.5904 - val_loss: 1.3575 - val_accuracy: 0.4995\n",
            "Epoch 25/150\n",
            "3828/3828 [==============================] - 8s 2ms/step - loss: 1.0851 - accuracy: 0.6032 - val_loss: 1.3454 - val_accuracy: 0.4963\n",
            "Epoch 26/150\n",
            "3828/3828 [==============================] - 8s 2ms/step - loss: 1.1134 - accuracy: 0.5982 - val_loss: 1.3568 - val_accuracy: 0.5037\n",
            "Epoch 27/150\n",
            "3828/3828 [==============================] - 8s 2ms/step - loss: 1.0655 - accuracy: 0.6149 - val_loss: 1.3206 - val_accuracy: 0.5037\n",
            "Epoch 28/150\n",
            "3828/3828 [==============================] - 8s 2ms/step - loss: 1.0498 - accuracy: 0.6176 - val_loss: 1.2776 - val_accuracy: 0.5246\n",
            "Epoch 29/150\n",
            "3828/3828 [==============================] - 8s 2ms/step - loss: 1.0465 - accuracy: 0.6272 - val_loss: 1.4044 - val_accuracy: 0.5037\n",
            "Epoch 30/150\n",
            "3828/3828 [==============================] - 8s 2ms/step - loss: 1.0390 - accuracy: 0.6191 - val_loss: 1.3285 - val_accuracy: 0.5078\n",
            "Epoch 31/150\n",
            "3828/3828 [==============================] - 8s 2ms/step - loss: 1.0126 - accuracy: 0.6283 - val_loss: 1.2765 - val_accuracy: 0.5350\n",
            "Epoch 32/150\n",
            "3828/3828 [==============================] - 8s 2ms/step - loss: 0.9782 - accuracy: 0.6445 - val_loss: 1.2516 - val_accuracy: 0.5423\n",
            "Epoch 33/150\n",
            "3828/3828 [==============================] - 8s 2ms/step - loss: 0.9897 - accuracy: 0.6382 - val_loss: 1.2579 - val_accuracy: 0.5444\n",
            "Epoch 34/150\n",
            "3828/3828 [==============================] - 9s 2ms/step - loss: 0.9750 - accuracy: 0.6400 - val_loss: 1.2563 - val_accuracy: 0.5538\n",
            "Epoch 35/150\n",
            "3828/3828 [==============================] - 9s 2ms/step - loss: 0.9601 - accuracy: 0.6481 - val_loss: 1.2564 - val_accuracy: 0.5350\n",
            "Epoch 36/150\n",
            "3828/3828 [==============================] - 8s 2ms/step - loss: 0.9486 - accuracy: 0.6609 - val_loss: 1.2290 - val_accuracy: 0.5413\n",
            "Epoch 37/150\n",
            "3828/3828 [==============================] - 9s 2ms/step - loss: 0.9089 - accuracy: 0.6708 - val_loss: 1.2679 - val_accuracy: 0.5423\n",
            "Epoch 38/150\n",
            "3828/3828 [==============================] - 9s 2ms/step - loss: 0.9239 - accuracy: 0.6667 - val_loss: 1.2346 - val_accuracy: 0.5549\n",
            "Epoch 39/150\n",
            "3828/3828 [==============================] - 8s 2ms/step - loss: 0.9103 - accuracy: 0.6659 - val_loss: 1.3710 - val_accuracy: 0.5068\n",
            "Epoch 40/150\n",
            "3828/3828 [==============================] - 8s 2ms/step - loss: 0.8579 - accuracy: 0.6941 - val_loss: 1.2515 - val_accuracy: 0.5538\n",
            "Epoch 41/150\n",
            "3828/3828 [==============================] - 8s 2ms/step - loss: 0.8639 - accuracy: 0.6860 - val_loss: 1.2360 - val_accuracy: 0.5475\n",
            "Epoch 42/150\n",
            "3828/3828 [==============================] - 9s 2ms/step - loss: 0.8530 - accuracy: 0.6933 - val_loss: 1.2961 - val_accuracy: 0.5183\n",
            "Epoch 43/150\n",
            "3828/3828 [==============================] - 8s 2ms/step - loss: 0.8288 - accuracy: 0.7004 - val_loss: 1.2491 - val_accuracy: 0.5517\n",
            "Epoch 44/150\n",
            "3828/3828 [==============================] - 8s 2ms/step - loss: 0.8206 - accuracy: 0.7069 - val_loss: 1.2893 - val_accuracy: 0.5256\n",
            "Epoch 45/150\n",
            "3828/3828 [==============================] - 8s 2ms/step - loss: 0.8386 - accuracy: 0.6957 - val_loss: 1.2639 - val_accuracy: 0.5392\n",
            "Epoch 46/150\n",
            "3828/3828 [==============================] - 8s 2ms/step - loss: 0.8170 - accuracy: 0.7092 - val_loss: 1.2479 - val_accuracy: 0.5590\n",
            "Epoch 47/150\n",
            "3828/3828 [==============================] - 8s 2ms/step - loss: 0.8347 - accuracy: 0.6944 - val_loss: 1.2286 - val_accuracy: 0.5517\n",
            "Epoch 48/150\n",
            "3828/3828 [==============================] - 9s 2ms/step - loss: 0.7837 - accuracy: 0.7218 - val_loss: 1.2652 - val_accuracy: 0.5423\n",
            "Epoch 49/150\n",
            "3828/3828 [==============================] - 8s 2ms/step - loss: 0.7823 - accuracy: 0.7134 - val_loss: 1.2334 - val_accuracy: 0.5590\n",
            "Epoch 50/150\n",
            "3828/3828 [==============================] - 9s 2ms/step - loss: 0.7396 - accuracy: 0.7315 - val_loss: 1.3576 - val_accuracy: 0.5089\n",
            "Epoch 51/150\n",
            "3828/3828 [==============================] - 9s 2ms/step - loss: 0.7648 - accuracy: 0.7228 - val_loss: 1.3828 - val_accuracy: 0.5266\n",
            "Epoch 52/150\n",
            "3828/3828 [==============================] - 9s 2ms/step - loss: 0.7533 - accuracy: 0.7218 - val_loss: 1.2606 - val_accuracy: 0.5496\n",
            "Epoch 53/150\n",
            "3828/3828 [==============================] - 9s 2ms/step - loss: 0.7590 - accuracy: 0.7270 - val_loss: 1.2976 - val_accuracy: 0.5340\n",
            "Epoch 54/150\n",
            "3828/3828 [==============================] - 9s 2ms/step - loss: 0.7288 - accuracy: 0.7458 - val_loss: 1.3129 - val_accuracy: 0.5413\n",
            "Epoch 55/150\n",
            "3828/3828 [==============================] - 9s 2ms/step - loss: 0.7433 - accuracy: 0.7322 - val_loss: 1.2700 - val_accuracy: 0.5392\n",
            "Epoch 56/150\n",
            "3828/3828 [==============================] - 9s 2ms/step - loss: 0.7287 - accuracy: 0.7388 - val_loss: 1.2324 - val_accuracy: 0.5611\n",
            "Epoch 57/150\n",
            "3828/3828 [==============================] - 9s 2ms/step - loss: 0.7146 - accuracy: 0.7382 - val_loss: 1.3861 - val_accuracy: 0.5329\n",
            "Epoch 58/150\n",
            "3828/3828 [==============================] - 9s 2ms/step - loss: 0.7069 - accuracy: 0.7445 - val_loss: 1.2635 - val_accuracy: 0.5517\n",
            "Epoch 59/150\n",
            "3828/3828 [==============================] - 8s 2ms/step - loss: 0.6929 - accuracy: 0.7610 - val_loss: 1.2738 - val_accuracy: 0.5580\n",
            "Epoch 60/150\n",
            "3828/3828 [==============================] - 8s 2ms/step - loss: 0.6913 - accuracy: 0.7435 - val_loss: 1.2342 - val_accuracy: 0.5768\n",
            "Epoch 61/150\n",
            "3828/3828 [==============================] - 8s 2ms/step - loss: 0.6794 - accuracy: 0.7578 - val_loss: 1.2802 - val_accuracy: 0.5486\n",
            "Epoch 62/150\n",
            "3828/3828 [==============================] - 9s 2ms/step - loss: 0.6632 - accuracy: 0.7641 - val_loss: 1.2609 - val_accuracy: 0.5528\n",
            "Epoch 63/150\n",
            "3828/3828 [==============================] - 8s 2ms/step - loss: 0.6175 - accuracy: 0.7722 - val_loss: 1.2508 - val_accuracy: 0.5611\n",
            "Epoch 64/150\n",
            "3828/3828 [==============================] - 8s 2ms/step - loss: 0.6536 - accuracy: 0.7683 - val_loss: 1.2696 - val_accuracy: 0.5590\n",
            "Epoch 65/150\n",
            "3828/3828 [==============================] - 9s 2ms/step - loss: 0.6352 - accuracy: 0.7725 - val_loss: 1.2200 - val_accuracy: 0.5778\n",
            "Epoch 66/150\n",
            "3828/3828 [==============================] - 8s 2ms/step - loss: 0.6317 - accuracy: 0.7748 - val_loss: 1.2401 - val_accuracy: 0.5810\n",
            "Epoch 67/150\n",
            "3828/3828 [==============================] - 8s 2ms/step - loss: 0.6363 - accuracy: 0.7701 - val_loss: 1.2303 - val_accuracy: 0.5768\n",
            "Epoch 68/150\n",
            "3828/3828 [==============================] - 8s 2ms/step - loss: 0.6202 - accuracy: 0.7795 - val_loss: 1.2481 - val_accuracy: 0.5674\n",
            "Epoch 69/150\n",
            "3828/3828 [==============================] - 8s 2ms/step - loss: 0.5867 - accuracy: 0.7983 - val_loss: 1.1892 - val_accuracy: 0.5789\n",
            "Epoch 70/150\n",
            "3828/3828 [==============================] - 8s 2ms/step - loss: 0.5746 - accuracy: 0.7944 - val_loss: 1.2818 - val_accuracy: 0.5517\n",
            "Epoch 71/150\n",
            "3828/3828 [==============================] - 8s 2ms/step - loss: 0.6092 - accuracy: 0.7793 - val_loss: 1.2656 - val_accuracy: 0.5653\n",
            "Epoch 72/150\n",
            "3828/3828 [==============================] - 8s 2ms/step - loss: 0.5944 - accuracy: 0.7858 - val_loss: 1.2981 - val_accuracy: 0.5486\n",
            "Epoch 73/150\n",
            "3828/3828 [==============================] - 8s 2ms/step - loss: 0.5900 - accuracy: 0.7931 - val_loss: 1.2740 - val_accuracy: 0.5653\n",
            "Epoch 74/150\n",
            "3828/3828 [==============================] - 8s 2ms/step - loss: 0.5648 - accuracy: 0.7986 - val_loss: 1.3413 - val_accuracy: 0.5569\n",
            "Epoch 75/150\n",
            "3828/3828 [==============================] - 9s 2ms/step - loss: 0.5619 - accuracy: 0.7983 - val_loss: 1.2894 - val_accuracy: 0.5517\n",
            "Epoch 76/150\n",
            "3828/3828 [==============================] - 13s 3ms/step - loss: 0.5899 - accuracy: 0.7853 - val_loss: 1.2780 - val_accuracy: 0.5684\n",
            "Epoch 77/150\n",
            "3828/3828 [==============================] - 8s 2ms/step - loss: 0.5677 - accuracy: 0.7928 - val_loss: 1.3549 - val_accuracy: 0.5381\n",
            "Epoch 78/150\n",
            "3828/3828 [==============================] - 8s 2ms/step - loss: 0.5419 - accuracy: 0.8085 - val_loss: 1.2509 - val_accuracy: 0.5820\n",
            "Epoch 79/150\n",
            "3828/3828 [==============================] - 8s 2ms/step - loss: 0.5576 - accuracy: 0.8025 - val_loss: 1.4005 - val_accuracy: 0.5371\n",
            "Epoch 80/150\n",
            "3828/3828 [==============================] - 8s 2ms/step - loss: 0.5327 - accuracy: 0.8041 - val_loss: 1.2913 - val_accuracy: 0.5569\n",
            "Epoch 81/150\n",
            "3828/3828 [==============================] - 8s 2ms/step - loss: 0.5247 - accuracy: 0.8137 - val_loss: 1.2790 - val_accuracy: 0.5590\n",
            "Epoch 82/150\n",
            "3828/3828 [==============================] - 8s 2ms/step - loss: 0.5164 - accuracy: 0.8132 - val_loss: 1.2924 - val_accuracy: 0.5559\n",
            "Epoch 83/150\n",
            "3828/3828 [==============================] - 8s 2ms/step - loss: 0.5236 - accuracy: 0.8111 - val_loss: 1.2577 - val_accuracy: 0.5799\n",
            "Epoch 84/150\n",
            "3828/3828 [==============================] - 9s 2ms/step - loss: 0.5278 - accuracy: 0.8156 - val_loss: 1.3326 - val_accuracy: 0.5622\n",
            "Epoch 85/150\n",
            "3828/3828 [==============================] - 8s 2ms/step - loss: 0.5114 - accuracy: 0.8169 - val_loss: 1.3003 - val_accuracy: 0.5590\n",
            "Epoch 86/150\n",
            "3828/3828 [==============================] - 9s 2ms/step - loss: 0.5072 - accuracy: 0.8137 - val_loss: 1.2591 - val_accuracy: 0.5611\n",
            "Epoch 87/150\n",
            "3828/3828 [==============================] - 8s 2ms/step - loss: 0.5091 - accuracy: 0.8171 - val_loss: 1.3200 - val_accuracy: 0.5622\n",
            "Epoch 88/150\n",
            "3828/3828 [==============================] - 8s 2ms/step - loss: 0.4932 - accuracy: 0.8226 - val_loss: 1.5891 - val_accuracy: 0.5225\n",
            "Epoch 89/150\n",
            "3828/3828 [==============================] - 8s 2ms/step - loss: 0.4877 - accuracy: 0.8263 - val_loss: 1.4205 - val_accuracy: 0.5381\n",
            "Epoch 90/150\n",
            "3828/3828 [==============================] - 8s 2ms/step - loss: 0.4899 - accuracy: 0.8205 - val_loss: 1.3177 - val_accuracy: 0.5768\n",
            "Epoch 91/150\n",
            "3828/3828 [==============================] - 9s 2ms/step - loss: 0.4749 - accuracy: 0.8294 - val_loss: 1.2719 - val_accuracy: 0.5820\n",
            "Epoch 92/150\n",
            "3828/3828 [==============================] - 8s 2ms/step - loss: 0.4553 - accuracy: 0.8359 - val_loss: 1.3329 - val_accuracy: 0.5716\n",
            "Epoch 93/150\n",
            "3828/3828 [==============================] - 9s 2ms/step - loss: 0.4498 - accuracy: 0.8438 - val_loss: 1.3109 - val_accuracy: 0.5758\n",
            "Epoch 94/150\n",
            "3828/3828 [==============================] - 8s 2ms/step - loss: 0.4670 - accuracy: 0.8276 - val_loss: 1.2909 - val_accuracy: 0.5852\n",
            "Epoch 95/150\n",
            "3828/3828 [==============================] - 8s 2ms/step - loss: 0.4653 - accuracy: 0.8336 - val_loss: 1.3441 - val_accuracy: 0.5643\n",
            "Epoch 96/150\n",
            "3828/3828 [==============================] - 8s 2ms/step - loss: 0.4569 - accuracy: 0.8396 - val_loss: 1.2794 - val_accuracy: 0.5810\n",
            "Epoch 97/150\n",
            "3828/3828 [==============================] - 8s 2ms/step - loss: 0.4615 - accuracy: 0.8420 - val_loss: 1.3911 - val_accuracy: 0.5643\n",
            "Epoch 98/150\n",
            "3828/3828 [==============================] - 8s 2ms/step - loss: 0.4498 - accuracy: 0.8406 - val_loss: 1.3626 - val_accuracy: 0.5664\n",
            "Epoch 99/150\n",
            "3828/3828 [==============================] - 9s 2ms/step - loss: 0.4323 - accuracy: 0.8495 - val_loss: 1.3990 - val_accuracy: 0.5538\n",
            "Epoch 100/150\n",
            "3828/3828 [==============================] - 9s 2ms/step - loss: 0.4485 - accuracy: 0.8380 - val_loss: 1.3029 - val_accuracy: 0.5653\n",
            "Epoch 101/150\n",
            "3828/3828 [==============================] - 8s 2ms/step - loss: 0.4282 - accuracy: 0.8456 - val_loss: 1.4398 - val_accuracy: 0.5664\n",
            "Epoch 102/150\n",
            "3828/3828 [==============================] - 9s 2ms/step - loss: 0.4219 - accuracy: 0.8532 - val_loss: 1.3042 - val_accuracy: 0.5778\n",
            "Epoch 103/150\n",
            "3828/3828 [==============================] - 9s 2ms/step - loss: 0.4142 - accuracy: 0.8540 - val_loss: 1.3149 - val_accuracy: 0.5799\n",
            "Epoch 104/150\n",
            "3828/3828 [==============================] - 9s 2ms/step - loss: 0.4011 - accuracy: 0.8623 - val_loss: 1.3084 - val_accuracy: 0.5841\n",
            "Epoch 105/150\n",
            "3828/3828 [==============================] - 9s 2ms/step - loss: 0.4068 - accuracy: 0.8545 - val_loss: 1.3479 - val_accuracy: 0.5632\n",
            "Epoch 106/150\n",
            "3828/3828 [==============================] - 8s 2ms/step - loss: 0.4172 - accuracy: 0.8511 - val_loss: 1.3297 - val_accuracy: 0.5664\n",
            "Epoch 107/150\n",
            "3828/3828 [==============================] - 8s 2ms/step - loss: 0.4070 - accuracy: 0.8592 - val_loss: 1.2930 - val_accuracy: 0.5873\n",
            "Epoch 108/150\n",
            "3828/3828 [==============================] - 8s 2ms/step - loss: 0.3877 - accuracy: 0.8636 - val_loss: 1.3122 - val_accuracy: 0.5831\n",
            "Epoch 109/150\n",
            "3828/3828 [==============================] - 8s 2ms/step - loss: 0.3794 - accuracy: 0.8720 - val_loss: 1.3696 - val_accuracy: 0.5726\n",
            "Epoch 110/150\n",
            "3828/3828 [==============================] - 8s 2ms/step - loss: 0.3834 - accuracy: 0.8597 - val_loss: 1.3455 - val_accuracy: 0.5758\n",
            "Epoch 111/150\n",
            "3828/3828 [==============================] - 8s 2ms/step - loss: 0.3647 - accuracy: 0.8715 - val_loss: 1.3509 - val_accuracy: 0.5726\n",
            "Epoch 112/150\n",
            "3828/3828 [==============================] - 8s 2ms/step - loss: 0.3895 - accuracy: 0.8660 - val_loss: 1.2674 - val_accuracy: 0.5758\n",
            "Epoch 113/150\n",
            "3828/3828 [==============================] - 8s 2ms/step - loss: 0.3720 - accuracy: 0.8736 - val_loss: 1.3973 - val_accuracy: 0.5590\n",
            "Epoch 114/150\n",
            "3828/3828 [==============================] - 8s 2ms/step - loss: 0.3626 - accuracy: 0.8712 - val_loss: 1.4436 - val_accuracy: 0.5434\n",
            "Epoch 115/150\n",
            "3828/3828 [==============================] - 8s 2ms/step - loss: 0.3837 - accuracy: 0.8686 - val_loss: 1.5824 - val_accuracy: 0.5381\n",
            "Epoch 116/150\n",
            "3828/3828 [==============================] - 8s 2ms/step - loss: 0.3745 - accuracy: 0.8644 - val_loss: 1.4626 - val_accuracy: 0.5726\n",
            "Epoch 117/150\n",
            "3828/3828 [==============================] - 8s 2ms/step - loss: 0.3532 - accuracy: 0.8770 - val_loss: 1.3904 - val_accuracy: 0.5789\n",
            "Epoch 118/150\n",
            "3828/3828 [==============================] - 8s 2ms/step - loss: 0.3649 - accuracy: 0.8665 - val_loss: 1.3652 - val_accuracy: 0.5768\n",
            "Epoch 119/150\n",
            "3828/3828 [==============================] - 8s 2ms/step - loss: 0.3598 - accuracy: 0.8749 - val_loss: 1.3151 - val_accuracy: 0.5778\n",
            "Epoch 120/150\n",
            "3828/3828 [==============================] - 8s 2ms/step - loss: 0.3476 - accuracy: 0.8751 - val_loss: 1.3588 - val_accuracy: 0.5925\n",
            "Epoch 121/150\n",
            "3828/3828 [==============================] - 8s 2ms/step - loss: 0.3435 - accuracy: 0.8770 - val_loss: 1.4025 - val_accuracy: 0.5653\n",
            "Epoch 122/150\n",
            "3828/3828 [==============================] - 8s 2ms/step - loss: 0.3453 - accuracy: 0.8757 - val_loss: 1.2977 - val_accuracy: 0.6102\n",
            "Epoch 123/150\n",
            "3828/3828 [==============================] - 8s 2ms/step - loss: 0.3423 - accuracy: 0.8864 - val_loss: 1.3613 - val_accuracy: 0.5747\n",
            "Epoch 124/150\n",
            "3828/3828 [==============================] - 8s 2ms/step - loss: 0.3363 - accuracy: 0.8796 - val_loss: 1.4857 - val_accuracy: 0.5632\n",
            "Epoch 125/150\n",
            "3828/3828 [==============================] - 8s 2ms/step - loss: 0.3419 - accuracy: 0.8822 - val_loss: 1.5008 - val_accuracy: 0.5507\n",
            "Epoch 126/150\n",
            "3828/3828 [==============================] - 8s 2ms/step - loss: 0.3403 - accuracy: 0.8751 - val_loss: 1.4998 - val_accuracy: 0.5559\n",
            "Epoch 127/150\n",
            "3828/3828 [==============================] - 9s 2ms/step - loss: 0.3246 - accuracy: 0.8848 - val_loss: 1.3761 - val_accuracy: 0.5925\n",
            "Epoch 128/150\n",
            "3828/3828 [==============================] - 8s 2ms/step - loss: 0.3507 - accuracy: 0.8793 - val_loss: 1.3442 - val_accuracy: 0.5799\n",
            "Epoch 129/150\n",
            "3828/3828 [==============================] - 8s 2ms/step - loss: 0.3151 - accuracy: 0.8895 - val_loss: 1.4555 - val_accuracy: 0.5684\n",
            "Epoch 130/150\n",
            "3828/3828 [==============================] - 9s 2ms/step - loss: 0.3304 - accuracy: 0.8827 - val_loss: 1.5142 - val_accuracy: 0.5716\n",
            "Epoch 131/150\n",
            "3828/3828 [==============================] - 8s 2ms/step - loss: 0.3056 - accuracy: 0.8921 - val_loss: 1.4639 - val_accuracy: 0.5758\n",
            "Epoch 132/150\n",
            "3828/3828 [==============================] - 8s 2ms/step - loss: 0.3124 - accuracy: 0.8932 - val_loss: 1.4094 - val_accuracy: 0.5726\n",
            "Epoch 133/150\n",
            "3828/3828 [==============================] - 8s 2ms/step - loss: 0.3027 - accuracy: 0.8890 - val_loss: 1.5276 - val_accuracy: 0.5716\n",
            "Epoch 134/150\n",
            "3828/3828 [==============================] - 8s 2ms/step - loss: 0.3135 - accuracy: 0.8885 - val_loss: 1.5231 - val_accuracy: 0.5705\n",
            "Epoch 135/150\n",
            "3828/3828 [==============================] - 8s 2ms/step - loss: 0.2809 - accuracy: 0.9031 - val_loss: 1.3908 - val_accuracy: 0.5914\n",
            "Epoch 136/150\n",
            "3828/3828 [==============================] - 8s 2ms/step - loss: 0.3086 - accuracy: 0.8942 - val_loss: 1.6487 - val_accuracy: 0.5340\n",
            "Epoch 137/150\n",
            "3828/3828 [==============================] - 8s 2ms/step - loss: 0.3003 - accuracy: 0.8979 - val_loss: 1.4949 - val_accuracy: 0.5716\n",
            "Epoch 138/150\n",
            "3828/3828 [==============================] - 8s 2ms/step - loss: 0.3107 - accuracy: 0.8895 - val_loss: 1.5599 - val_accuracy: 0.5381\n",
            "Epoch 139/150\n",
            "3828/3828 [==============================] - 8s 2ms/step - loss: 0.2984 - accuracy: 0.8955 - val_loss: 1.4482 - val_accuracy: 0.5820\n",
            "Epoch 140/150\n",
            "3828/3828 [==============================] - 8s 2ms/step - loss: 0.2935 - accuracy: 0.8921 - val_loss: 1.5202 - val_accuracy: 0.5705\n",
            "Epoch 141/150\n",
            "3828/3828 [==============================] - 8s 2ms/step - loss: 0.2846 - accuracy: 0.8994 - val_loss: 1.4457 - val_accuracy: 0.5758\n",
            "Epoch 142/150\n",
            "3828/3828 [==============================] - 8s 2ms/step - loss: 0.2681 - accuracy: 0.9039 - val_loss: 1.4123 - val_accuracy: 0.5653\n",
            "Epoch 143/150\n",
            "3828/3828 [==============================] - 8s 2ms/step - loss: 0.2914 - accuracy: 0.8984 - val_loss: 1.5268 - val_accuracy: 0.5705\n",
            "Epoch 144/150\n",
            "3828/3828 [==============================] - 8s 2ms/step - loss: 0.2693 - accuracy: 0.9033 - val_loss: 1.6024 - val_accuracy: 0.5569\n",
            "Epoch 145/150\n",
            "3828/3828 [==============================] - 8s 2ms/step - loss: 0.2753 - accuracy: 0.9033 - val_loss: 1.5715 - val_accuracy: 0.5643\n",
            "Epoch 146/150\n",
            "3828/3828 [==============================] - 8s 2ms/step - loss: 0.2930 - accuracy: 0.8960 - val_loss: 1.4180 - val_accuracy: 0.5799\n",
            "Epoch 147/150\n",
            "3828/3828 [==============================] - 8s 2ms/step - loss: 0.2652 - accuracy: 0.9078 - val_loss: 1.4136 - val_accuracy: 0.5831\n",
            "Epoch 148/150\n",
            "3828/3828 [==============================] - 8s 2ms/step - loss: 0.2635 - accuracy: 0.9073 - val_loss: 1.4223 - val_accuracy: 0.5873\n",
            "Epoch 149/150\n",
            "3828/3828 [==============================] - 8s 2ms/step - loss: 0.2735 - accuracy: 0.9015 - val_loss: 1.5374 - val_accuracy: 0.5810\n",
            "Epoch 150/150\n",
            "3828/3828 [==============================] - 8s 2ms/step - loss: 0.2784 - accuracy: 0.8971 - val_loss: 1.5439 - val_accuracy: 0.5622\n"
          ],
          "name": "stdout"
        }
      ]
    },
    {
      "cell_type": "code",
      "metadata": {
        "colab_type": "code",
        "outputId": "d71ecbbc-b9c0-4cce-d5c3-3db73cd01007",
        "id": "YDk_olJngY5p",
        "colab": {
          "base_uri": "https://localhost:8080/",
          "height": 81
        }
      },
      "source": [
        "ssc_accuracy = cnnhistory.history['val_accuracy']\n",
        "ssc_model = model\n",
        "print(ssc_accuracy)"
      ],
      "execution_count": 0,
      "outputs": [
        {
          "output_type": "stream",
          "text": [
            "[0.19853709638118744, 0.27272728085517883, 0.32706373929977417, 0.34273773431777954, 0.3991640508174896, 0.39811912178993225, 0.39811912178993225, 0.445141077041626, 0.44305118918418884, 0.47230929136276245, 0.4806687533855438, 0.4660397171974182, 0.46917450428009033, 0.4932079315185547, 0.5036572813987732, 0.4817136824131012, 0.5130616426467896, 0.4921630024909973, 0.49843260645866394, 0.5036572813987732, 0.5276907086372375, 0.5130616426467896, 0.5026123523712158, 0.4994775354862213, 0.4963427484035492, 0.5036572813987732, 0.5036572813987732, 0.5245559215545654, 0.5036572813987732, 0.5078369975090027, 0.5350052118301392, 0.5423197746276855, 0.5444096326828003, 0.5538139939308167, 0.5350052118301392, 0.5412748456001282, 0.5423197746276855, 0.554858922958374, 0.5067920684814453, 0.5538139939308167, 0.5475444197654724, 0.5182862877845764, 0.5517241358757019, 0.5256008505821228, 0.5391849279403687, 0.5590386390686035, 0.5517241358757019, 0.5423197746276855, 0.5590386390686035, 0.5088819265365601, 0.5266457796096802, 0.5496342778205872, 0.5339602828025818, 0.5412748456001282, 0.5391849279403687, 0.5611284971237183, 0.5329153537750244, 0.5517241358757019, 0.5579937100410461, 0.5768024921417236, 0.5485893487930298, 0.5527690649032593, 0.5611284971237183, 0.5590386390686035, 0.577847421169281, 0.5809822082519531, 0.5768024921417236, 0.5673981308937073, 0.5788923501968384, 0.5517241358757019, 0.5653082728385925, 0.5485893487930298, 0.5653082728385925, 0.5569487810134888, 0.5517241358757019, 0.5684430599212646, 0.5381399989128113, 0.5820271968841553, 0.5370950698852539, 0.5569487810134888, 0.5590386390686035, 0.5559038519859314, 0.5799372792243958, 0.5621734857559204, 0.5590386390686035, 0.5611284971237183, 0.5621734857559204, 0.5224660634994507, 0.5381399989128113, 0.5768024921417236, 0.5820271968841553, 0.5715778470039368, 0.5757575631141663, 0.5851619839668274, 0.5642633438110352, 0.5809822082519531, 0.5642633438110352, 0.5663532018661499, 0.5538139939308167, 0.5653082728385925, 0.5663532018661499, 0.577847421169281, 0.5799372792243958, 0.58411705493927, 0.5632184147834778, 0.5663532018661499, 0.5872518420219421, 0.5830721259117126, 0.5726227760314941, 0.5757575631141663, 0.5726227760314941, 0.5757575631141663, 0.5590386390686035, 0.5433647036552429, 0.5381399989128113, 0.5726227760314941, 0.5788923501968384, 0.5768024921417236, 0.577847421169281, 0.592476487159729, 0.5653082728385925, 0.6102403402328491, 0.5747126340866089, 0.5632184147834778, 0.5506792068481445, 0.5559038519859314, 0.592476487159729, 0.5799372792243958, 0.5684430599212646, 0.5715778470039368, 0.5757575631141663, 0.5726227760314941, 0.5715778470039368, 0.5705329179763794, 0.5914315581321716, 0.5339602828025818, 0.5715778470039368, 0.5381399989128113, 0.5820271968841553, 0.5705329179763794, 0.5757575631141663, 0.5653082728385925, 0.5705329179763794, 0.5569487810134888, 0.5642633438110352, 0.5799372792243958, 0.5830721259117126, 0.5872518420219421, 0.5809822082519531, 0.5621734857559204]\n"
          ],
          "name": "stdout"
        }
      ]
    },
    {
      "cell_type": "code",
      "metadata": {
        "colab_type": "code",
        "outputId": "2765f92a-4300-466b-e86d-c3770e941c75",
        "id": "LRj_0OU0gY5t",
        "colab": {
          "base_uri": "https://localhost:8080/",
          "height": 295
        }
      },
      "source": [
        "plt.plot(cnnhistory.history['accuracy'],'b', linestyle='--', label='train')\n",
        "plt.plot(cnnhistory.history['val_accuracy'],'g', linestyle='-', label='test')\n",
        "plt.title('CNN model accuracy(ssc)')\n",
        "plt.ylabel('accuracy')\n",
        "plt.xlabel('epoch')\n",
        "plt.legend()\n",
        "plt.show()"
      ],
      "execution_count": 0,
      "outputs": [
        {
          "output_type": "display_data",
          "data": {
            "image/png": "[encoded data removed]",
            "text/plain": [
              "<Figure size 432x288 with 1 Axes>"
            ]
          },
          "metadata": {
            "tags": [],
            "needs_background": "light"
          }
        }
      ]
    },
    {
      "cell_type": "code",
      "metadata": {
        "colab_type": "code",
        "outputId": "6067673d-0f63-4801-90ea-2a9a23eaa47a",
        "id": "6VkkzSRzgY5x",
        "colab": {
          "base_uri": "https://localhost:8080/",
          "height": 52
        }
      },
      "source": [
        "ssc_model = load_model('/content/gdrive/My Drive/Minor_Sem6/CNN Models(of features)/SSC.h5')\n",
        "loss, acc = ssc_model.evaluate(x_testcnn, y_test_ssc)\n",
        "print(\"Restored model, accuracy: {:5.2f}%\".format(100*acc))\n",
        "s=acc\n",
        "# print(s)"
      ],
      "execution_count": 37,
      "outputs": [
        {
          "output_type": "stream",
          "text": [
            "957/957 [==============================] - 0s 382us/step\n",
            "Restored model, accuracy: 56.22%\n"
          ],
          "name": "stdout"
        }
      ]
    },
    {
      "cell_type": "markdown",
      "metadata": {
        "id": "eZQzaARmndKX",
        "colab_type": "text"
      },
      "source": [
        "# lpc"
      ]
    },
    {
      "cell_type": "code",
      "metadata": {
        "id": "xffpOooLYSMf",
        "colab_type": "code",
        "colab": {}
      },
      "source": [
        "# Considering only lpc\n",
        "X_train_lpc, X_test_lpc, y_train_lpc, y_test_lpc = train_test_split(X_lpc1, y1, test_size=0.2, random_state=0)\n",
        "x_traincnn =np.expand_dims(X_train_lpc, axis=2)\n",
        "x_testcnn= np.expand_dims(X_test_lpc, axis=2)"
      ],
      "execution_count": 0,
      "outputs": []
    },
    {
      "cell_type": "code",
      "metadata": {
        "id": "Tyy_GEkfSHwX",
        "colab_type": "code",
        "outputId": "4bf0cd86-ae26-4d73-e4fa-d30737b2d840",
        "colab": {
          "base_uri": "https://localhost:8080/",
          "height": 34
        }
      },
      "source": [
        "print(X_train_lpc.shape[1])"
      ],
      "execution_count": 0,
      "outputs": [
        {
          "output_type": "stream",
          "text": [
            "13\n"
          ],
          "name": "stdout"
        }
      ]
    },
    {
      "cell_type": "code",
      "metadata": {
        "id": "--1e-l7xYRr6",
        "colab_type": "code",
        "colab": {}
      },
      "source": [
        "model = Sequential()\n",
        "\n",
        "model.add(Conv1D(32, 5,padding='same',input_shape=(13,1)))\n",
        "model.add(Activation('relu'))\n",
        "model.add(Dropout(0.1))\n",
        "model.add(MaxPooling1D(pool_size=(8)))\n",
        "\n",
        "model.add(Conv1D(32, 5,padding='same',))\n",
        "model.add(BatchNormalization())                  \n",
        "model.add(Activation('relu'))\n",
        "model.add(MaxPooling1D(pool_size=(8),padding='same'))\n",
        "model.add(Dropout(0.1))\n",
        "\n",
        "model.add(Conv1D(32, 5,padding='same',))                  \n",
        "model.add(Activation('relu'))\n",
        "model.add(Dropout(0.1))\n",
        "\n",
        "model.add(Conv1D(32, 5,padding='same',)) \n",
        "model.add(BatchNormalization())                 \n",
        "model.add(Activation('relu'))\n",
        "model.add(Dropout(0.1))\n",
        "\n",
        "model.add(Flatten())\n",
        "model.add(Dense(8))                                                           \n",
        "model.add(Activation('softmax'))\n",
        "opt = keras.optimizers.rmsprop(lr=0.00005,epsilon=1e-08,rho=0.9,decay=0.0)"
      ],
      "execution_count": 0,
      "outputs": []
    },
    {
      "cell_type": "code",
      "metadata": {
        "id": "VuyQi21vUrEU",
        "colab_type": "code",
        "outputId": "55441b89-c2fd-4d21-a0e8-b326a3978c24",
        "colab": {
          "base_uri": "https://localhost:8080/",
          "height": 1000
        }
      },
      "source": [
        "model.summary()"
      ],
      "execution_count": 0,
      "outputs": [
        {
          "output_type": "stream",
          "text": [
            "Model: \"sequential_24\"\n",
            "_________________________________________________________________\n",
            "Layer (type)                 Output Shape              Param #   \n",
            "=================================================================\n",
            "conv1d_85 (Conv1D)           (None, 13, 32)            192       \n",
            "_________________________________________________________________\n",
            "activation_104 (Activation)  (None, 13, 32)            0         \n",
            "_________________________________________________________________\n",
            "dropout_81 (Dropout)         (None, 13, 32)            0         \n",
            "_________________________________________________________________\n",
            "max_pooling1d_46 (MaxPooling (None, 1, 32)             0         \n",
            "_________________________________________________________________\n",
            "conv1d_86 (Conv1D)           (None, 1, 32)             5152      \n",
            "_________________________________________________________________\n",
            "batch_normalization_43 (Batc (None, 1, 32)             128       \n",
            "_________________________________________________________________\n",
            "activation_105 (Activation)  (None, 1, 32)             0         \n",
            "_________________________________________________________________\n",
            "max_pooling1d_47 (MaxPooling (None, 1, 32)             0         \n",
            "_________________________________________________________________\n",
            "dropout_82 (Dropout)         (None, 1, 32)             0         \n",
            "_________________________________________________________________\n",
            "conv1d_87 (Conv1D)           (None, 1, 32)             5152      \n",
            "_________________________________________________________________\n",
            "activation_106 (Activation)  (None, 1, 32)             0         \n",
            "_________________________________________________________________\n",
            "dropout_83 (Dropout)         (None, 1, 32)             0         \n",
            "_________________________________________________________________\n",
            "conv1d_88 (Conv1D)           (None, 1, 32)             5152      \n",
            "_________________________________________________________________\n",
            "batch_normalization_44 (Batc (None, 1, 32)             128       \n",
            "_________________________________________________________________\n",
            "activation_107 (Activation)  (None, 1, 32)             0         \n",
            "_________________________________________________________________\n",
            "dropout_84 (Dropout)         (None, 1, 32)             0         \n",
            "_________________________________________________________________\n",
            "flatten_20 (Flatten)         (None, 32)                0         \n",
            "_________________________________________________________________\n",
            "dense_20 (Dense)             (None, 8)                 264       \n",
            "_________________________________________________________________\n",
            "activation_108 (Activation)  (None, 8)                 0         \n",
            "=================================================================\n",
            "Total params: 16,168\n",
            "Trainable params: 16,040\n",
            "Non-trainable params: 128\n",
            "_________________________________________________________________\n"
          ],
          "name": "stdout"
        }
      ]
    },
    {
      "cell_type": "code",
      "metadata": {
        "id": "D6jr6wwKVCdW",
        "colab_type": "code",
        "outputId": "de1fdd33-6a4f-4600-932e-1f44bd145b68",
        "colab": {
          "base_uri": "https://localhost:8080/",
          "height": 1000
        }
      },
      "source": [
        "model.compile(loss='sparse_categorical_crossentropy', optimizer=opt,metrics=['accuracy'])\n",
        "cnnhistory=model.fit(x_traincnn, y_train_lpc, batch_size=20, epochs=150, validation_data=(x_testcnn, y_test_lpc))\n",
        "model.save('/content/gdrive/My Drive/feature/LPC.h5')"
      ],
      "execution_count": 0,
      "outputs": [
        {
          "output_type": "stream",
          "text": [
            "Train on 3828 samples, validate on 957 samples\n",
            "Epoch 1/150\n",
            "3828/3828 [==============================] - 1s 271us/step - loss: 2.2567 - accuracy: 0.1296 - val_loss: 2.0808 - val_accuracy: 0.1233\n",
            "Epoch 2/150\n",
            "3828/3828 [==============================] - 1s 143us/step - loss: 2.1803 - accuracy: 0.1450 - val_loss: 2.0716 - val_accuracy: 0.1296\n",
            "Epoch 3/150\n",
            "3828/3828 [==============================] - 1s 140us/step - loss: 2.1555 - accuracy: 0.1507 - val_loss: 2.0424 - val_accuracy: 0.1672\n",
            "Epoch 4/150\n",
            "3828/3828 [==============================] - 1s 146us/step - loss: 2.1222 - accuracy: 0.1664 - val_loss: 2.0336 - val_accuracy: 0.1944\n",
            "Epoch 5/150\n",
            "3828/3828 [==============================] - 1s 163us/step - loss: 2.1177 - accuracy: 0.1761 - val_loss: 2.0283 - val_accuracy: 0.2069\n",
            "Epoch 6/150\n",
            "3828/3828 [==============================] - 1s 138us/step - loss: 2.1028 - accuracy: 0.1719 - val_loss: 2.0204 - val_accuracy: 0.2059\n",
            "Epoch 7/150\n",
            "3828/3828 [==============================] - 1s 141us/step - loss: 2.0945 - accuracy: 0.1641 - val_loss: 2.0145 - val_accuracy: 0.1975\n",
            "Epoch 8/150\n",
            "3828/3828 [==============================] - 1s 143us/step - loss: 2.0842 - accuracy: 0.1782 - val_loss: 2.0055 - val_accuracy: 0.2100\n",
            "Epoch 9/150\n",
            "3828/3828 [==============================] - 1s 143us/step - loss: 2.0809 - accuracy: 0.1669 - val_loss: 1.9996 - val_accuracy: 0.2079\n",
            "Epoch 10/150\n",
            "3828/3828 [==============================] - 1s 136us/step - loss: 2.0796 - accuracy: 0.1784 - val_loss: 1.9955 - val_accuracy: 0.2163\n",
            "Epoch 11/150\n",
            "3828/3828 [==============================] - 1s 141us/step - loss: 2.0644 - accuracy: 0.1829 - val_loss: 1.9880 - val_accuracy: 0.2153\n",
            "Epoch 12/150\n",
            "3828/3828 [==============================] - 1s 157us/step - loss: 2.0533 - accuracy: 0.1808 - val_loss: 1.9842 - val_accuracy: 0.2163\n",
            "Epoch 13/150\n",
            "3828/3828 [==============================] - 1s 147us/step - loss: 2.0439 - accuracy: 0.2019 - val_loss: 1.9757 - val_accuracy: 0.2173\n",
            "Epoch 14/150\n",
            "3828/3828 [==============================] - 1s 142us/step - loss: 2.0418 - accuracy: 0.1904 - val_loss: 1.9766 - val_accuracy: 0.2205\n",
            "Epoch 15/150\n",
            "3828/3828 [==============================] - 1s 139us/step - loss: 2.0372 - accuracy: 0.1904 - val_loss: 1.9719 - val_accuracy: 0.2268\n",
            "Epoch 16/150\n",
            "3828/3828 [==============================] - 1s 137us/step - loss: 2.0305 - accuracy: 0.1941 - val_loss: 1.9760 - val_accuracy: 0.2194\n",
            "Epoch 17/150\n",
            "3828/3828 [==============================] - 1s 141us/step - loss: 2.0204 - accuracy: 0.2025 - val_loss: 1.9686 - val_accuracy: 0.2153\n",
            "Epoch 18/150\n",
            "3828/3828 [==============================] - 1s 138us/step - loss: 2.0294 - accuracy: 0.1991 - val_loss: 1.9681 - val_accuracy: 0.2153\n",
            "Epoch 19/150\n",
            "3828/3828 [==============================] - 1s 138us/step - loss: 2.0219 - accuracy: 0.2001 - val_loss: 1.9611 - val_accuracy: 0.2257\n",
            "Epoch 20/150\n",
            "3828/3828 [==============================] - 1s 138us/step - loss: 2.0140 - accuracy: 0.2038 - val_loss: 1.9603 - val_accuracy: 0.2268\n",
            "Epoch 21/150\n",
            "3828/3828 [==============================] - 1s 138us/step - loss: 2.0052 - accuracy: 0.1967 - val_loss: 1.9562 - val_accuracy: 0.2226\n",
            "Epoch 22/150\n",
            "3828/3828 [==============================] - 1s 140us/step - loss: 2.0022 - accuracy: 0.1988 - val_loss: 1.9538 - val_accuracy: 0.2257\n",
            "Epoch 23/150\n",
            "3828/3828 [==============================] - 1s 137us/step - loss: 2.0109 - accuracy: 0.2038 - val_loss: 1.9502 - val_accuracy: 0.2288\n",
            "Epoch 24/150\n",
            "3828/3828 [==============================] - 1s 143us/step - loss: 2.0043 - accuracy: 0.2085 - val_loss: 1.9511 - val_accuracy: 0.2309\n",
            "Epoch 25/150\n",
            "3828/3828 [==============================] - 1s 139us/step - loss: 2.0062 - accuracy: 0.2025 - val_loss: 1.9507 - val_accuracy: 0.2268\n",
            "Epoch 26/150\n",
            "3828/3828 [==============================] - 1s 140us/step - loss: 2.0013 - accuracy: 0.2030 - val_loss: 1.9425 - val_accuracy: 0.2205\n",
            "Epoch 27/150\n",
            "3828/3828 [==============================] - 1s 142us/step - loss: 1.9939 - accuracy: 0.2090 - val_loss: 1.9358 - val_accuracy: 0.2330\n",
            "Epoch 28/150\n",
            "3828/3828 [==============================] - 1s 145us/step - loss: 1.9942 - accuracy: 0.2119 - val_loss: 1.9348 - val_accuracy: 0.2351\n",
            "Epoch 29/150\n",
            "3828/3828 [==============================] - 1s 141us/step - loss: 1.9753 - accuracy: 0.2166 - val_loss: 1.9341 - val_accuracy: 0.2382\n",
            "Epoch 30/150\n",
            "3828/3828 [==============================] - 1s 152us/step - loss: 1.9915 - accuracy: 0.2061 - val_loss: 1.9325 - val_accuracy: 0.2341\n",
            "Epoch 31/150\n",
            "3828/3828 [==============================] - 1s 153us/step - loss: 1.9888 - accuracy: 0.2179 - val_loss: 1.9253 - val_accuracy: 0.2351\n",
            "Epoch 32/150\n",
            "3828/3828 [==============================] - 1s 145us/step - loss: 1.9823 - accuracy: 0.2079 - val_loss: 1.9239 - val_accuracy: 0.2435\n",
            "Epoch 33/150\n",
            "3828/3828 [==============================] - 1s 150us/step - loss: 1.9625 - accuracy: 0.2288 - val_loss: 1.9200 - val_accuracy: 0.2320\n",
            "Epoch 34/150\n",
            "3828/3828 [==============================] - 1s 141us/step - loss: 1.9724 - accuracy: 0.2176 - val_loss: 1.9163 - val_accuracy: 0.2382\n",
            "Epoch 35/150\n",
            "3828/3828 [==============================] - 1s 150us/step - loss: 1.9779 - accuracy: 0.2126 - val_loss: 1.9147 - val_accuracy: 0.2518\n",
            "Epoch 36/150\n",
            "3828/3828 [==============================] - 1s 168us/step - loss: 1.9659 - accuracy: 0.2218 - val_loss: 1.9132 - val_accuracy: 0.2330\n",
            "Epoch 37/150\n",
            "3828/3828 [==============================] - 1s 142us/step - loss: 1.9635 - accuracy: 0.2273 - val_loss: 1.9096 - val_accuracy: 0.2487\n",
            "Epoch 38/150\n",
            "3828/3828 [==============================] - 1s 139us/step - loss: 1.9625 - accuracy: 0.2153 - val_loss: 1.9057 - val_accuracy: 0.2529\n",
            "Epoch 39/150\n",
            "3828/3828 [==============================] - 1s 154us/step - loss: 1.9585 - accuracy: 0.2299 - val_loss: 1.9036 - val_accuracy: 0.2487\n",
            "Epoch 40/150\n",
            "3828/3828 [==============================] - 1s 152us/step - loss: 1.9624 - accuracy: 0.2139 - val_loss: 1.9018 - val_accuracy: 0.2476\n",
            "Epoch 41/150\n",
            "3828/3828 [==============================] - 1s 137us/step - loss: 1.9701 - accuracy: 0.2132 - val_loss: 1.8995 - val_accuracy: 0.2497\n",
            "Epoch 42/150\n",
            "3828/3828 [==============================] - 1s 139us/step - loss: 1.9548 - accuracy: 0.2369 - val_loss: 1.8948 - val_accuracy: 0.2456\n",
            "Epoch 43/150\n",
            "3828/3828 [==============================] - 1s 138us/step - loss: 1.9448 - accuracy: 0.2403 - val_loss: 1.8913 - val_accuracy: 0.2571\n",
            "Epoch 44/150\n",
            "3828/3828 [==============================] - 1s 140us/step - loss: 1.9507 - accuracy: 0.2145 - val_loss: 1.8953 - val_accuracy: 0.2518\n",
            "Epoch 45/150\n",
            "3828/3828 [==============================] - 1s 142us/step - loss: 1.9537 - accuracy: 0.2283 - val_loss: 1.8925 - val_accuracy: 0.2445\n",
            "Epoch 46/150\n",
            "3828/3828 [==============================] - 1s 143us/step - loss: 1.9439 - accuracy: 0.2325 - val_loss: 1.8891 - val_accuracy: 0.2571\n",
            "Epoch 47/150\n",
            "3828/3828 [==============================] - 1s 157us/step - loss: 1.9355 - accuracy: 0.2257 - val_loss: 1.8924 - val_accuracy: 0.2581\n",
            "Epoch 48/150\n",
            "3828/3828 [==============================] - 1s 141us/step - loss: 1.9406 - accuracy: 0.2307 - val_loss: 1.8893 - val_accuracy: 0.2612\n",
            "Epoch 49/150\n",
            "3828/3828 [==============================] - 1s 140us/step - loss: 1.9335 - accuracy: 0.2393 - val_loss: 1.8883 - val_accuracy: 0.2571\n",
            "Epoch 50/150\n",
            "3828/3828 [==============================] - 1s 140us/step - loss: 1.9323 - accuracy: 0.2356 - val_loss: 1.8865 - val_accuracy: 0.2550\n",
            "Epoch 51/150\n",
            "3828/3828 [==============================] - 1s 142us/step - loss: 1.9502 - accuracy: 0.2210 - val_loss: 1.8879 - val_accuracy: 0.2539\n",
            "Epoch 52/150\n",
            "3828/3828 [==============================] - 1s 138us/step - loss: 1.9380 - accuracy: 0.2315 - val_loss: 1.8867 - val_accuracy: 0.2560\n",
            "Epoch 53/150\n",
            "3828/3828 [==============================] - 1s 143us/step - loss: 1.9275 - accuracy: 0.2427 - val_loss: 1.8843 - val_accuracy: 0.2581\n",
            "Epoch 54/150\n",
            "3828/3828 [==============================] - 1s 138us/step - loss: 1.9300 - accuracy: 0.2317 - val_loss: 1.8818 - val_accuracy: 0.2633\n",
            "Epoch 55/150\n",
            "3828/3828 [==============================] - 1s 138us/step - loss: 1.9304 - accuracy: 0.2328 - val_loss: 1.8814 - val_accuracy: 0.2508\n",
            "Epoch 56/150\n",
            "3828/3828 [==============================] - 1s 139us/step - loss: 1.9278 - accuracy: 0.2341 - val_loss: 1.8776 - val_accuracy: 0.2550\n",
            "Epoch 57/150\n",
            "3828/3828 [==============================] - 1s 140us/step - loss: 1.9326 - accuracy: 0.2354 - val_loss: 1.8782 - val_accuracy: 0.2696\n",
            "Epoch 58/150\n",
            "3828/3828 [==============================] - 1s 136us/step - loss: 1.9447 - accuracy: 0.2317 - val_loss: 1.8814 - val_accuracy: 0.2633\n",
            "Epoch 59/150\n",
            "3828/3828 [==============================] - 1s 138us/step - loss: 1.9321 - accuracy: 0.2249 - val_loss: 1.8819 - val_accuracy: 0.2539\n",
            "Epoch 60/150\n",
            "3828/3828 [==============================] - 1s 139us/step - loss: 1.9275 - accuracy: 0.2372 - val_loss: 1.8741 - val_accuracy: 0.2612\n",
            "Epoch 61/150\n",
            "3828/3828 [==============================] - 1s 138us/step - loss: 1.9315 - accuracy: 0.2351 - val_loss: 1.8713 - val_accuracy: 0.2581\n",
            "Epoch 62/150\n",
            "3828/3828 [==============================] - 1s 142us/step - loss: 1.9263 - accuracy: 0.2437 - val_loss: 1.8698 - val_accuracy: 0.2623\n",
            "Epoch 63/150\n",
            "3828/3828 [==============================] - 1s 139us/step - loss: 1.9062 - accuracy: 0.2495 - val_loss: 1.8690 - val_accuracy: 0.2623\n",
            "Epoch 64/150\n",
            "3828/3828 [==============================] - 1s 143us/step - loss: 1.9183 - accuracy: 0.2372 - val_loss: 1.8649 - val_accuracy: 0.2706\n",
            "Epoch 65/150\n",
            "3828/3828 [==============================] - 1s 138us/step - loss: 1.9122 - accuracy: 0.2409 - val_loss: 1.8658 - val_accuracy: 0.2685\n",
            "Epoch 66/150\n",
            "3828/3828 [==============================] - 1s 138us/step - loss: 1.9101 - accuracy: 0.2406 - val_loss: 1.8658 - val_accuracy: 0.2675\n",
            "Epoch 67/150\n",
            "3828/3828 [==============================] - 1s 140us/step - loss: 1.9148 - accuracy: 0.2388 - val_loss: 1.8633 - val_accuracy: 0.2581\n",
            "Epoch 68/150\n",
            "3828/3828 [==============================] - 1s 142us/step - loss: 1.9109 - accuracy: 0.2432 - val_loss: 1.8649 - val_accuracy: 0.2654\n",
            "Epoch 69/150\n",
            "3828/3828 [==============================] - 1s 141us/step - loss: 1.9052 - accuracy: 0.2375 - val_loss: 1.8639 - val_accuracy: 0.2602\n",
            "Epoch 70/150\n",
            "3828/3828 [==============================] - 1s 142us/step - loss: 1.9091 - accuracy: 0.2521 - val_loss: 1.8656 - val_accuracy: 0.2685\n",
            "Epoch 71/150\n",
            "3828/3828 [==============================] - 1s 142us/step - loss: 1.9004 - accuracy: 0.2419 - val_loss: 1.8626 - val_accuracy: 0.2706\n",
            "Epoch 72/150\n",
            "3828/3828 [==============================] - 1s 139us/step - loss: 1.9112 - accuracy: 0.2448 - val_loss: 1.8578 - val_accuracy: 0.2696\n",
            "Epoch 73/150\n",
            "3828/3828 [==============================] - 1s 144us/step - loss: 1.9119 - accuracy: 0.2422 - val_loss: 1.8581 - val_accuracy: 0.2727\n",
            "Epoch 74/150\n",
            "3828/3828 [==============================] - 1s 142us/step - loss: 1.9083 - accuracy: 0.2325 - val_loss: 1.8571 - val_accuracy: 0.2685\n",
            "Epoch 75/150\n",
            "3828/3828 [==============================] - 1s 147us/step - loss: 1.9080 - accuracy: 0.2458 - val_loss: 1.8534 - val_accuracy: 0.2685\n",
            "Epoch 76/150\n",
            "3828/3828 [==============================] - 1s 144us/step - loss: 1.9037 - accuracy: 0.2432 - val_loss: 1.8557 - val_accuracy: 0.2665\n",
            "Epoch 77/150\n",
            "3828/3828 [==============================] - 1s 141us/step - loss: 1.9037 - accuracy: 0.2484 - val_loss: 1.8576 - val_accuracy: 0.2769\n",
            "Epoch 78/150\n",
            "3828/3828 [==============================] - 1s 147us/step - loss: 1.9062 - accuracy: 0.2476 - val_loss: 1.8552 - val_accuracy: 0.2821\n",
            "Epoch 79/150\n",
            "3828/3828 [==============================] - 1s 143us/step - loss: 1.8919 - accuracy: 0.2518 - val_loss: 1.8531 - val_accuracy: 0.2780\n",
            "Epoch 80/150\n",
            "3828/3828 [==============================] - 1s 158us/step - loss: 1.8876 - accuracy: 0.2456 - val_loss: 1.8521 - val_accuracy: 0.2738\n",
            "Epoch 81/150\n",
            "3828/3828 [==============================] - 1s 145us/step - loss: 1.8952 - accuracy: 0.2409 - val_loss: 1.8451 - val_accuracy: 0.2759\n",
            "Epoch 82/150\n",
            "3828/3828 [==============================] - 1s 146us/step - loss: 1.9043 - accuracy: 0.2424 - val_loss: 1.8473 - val_accuracy: 0.2738\n",
            "Epoch 83/150\n",
            "3828/3828 [==============================] - 1s 144us/step - loss: 1.9006 - accuracy: 0.2435 - val_loss: 1.8462 - val_accuracy: 0.2842\n",
            "Epoch 84/150\n",
            "3828/3828 [==============================] - 1s 147us/step - loss: 1.9028 - accuracy: 0.2474 - val_loss: 1.8417 - val_accuracy: 0.2811\n",
            "Epoch 85/150\n",
            "3828/3828 [==============================] - 1s 170us/step - loss: 1.9087 - accuracy: 0.2450 - val_loss: 1.8418 - val_accuracy: 0.2696\n",
            "Epoch 86/150\n",
            "3828/3828 [==============================] - 1s 151us/step - loss: 1.8863 - accuracy: 0.2437 - val_loss: 1.8429 - val_accuracy: 0.2696\n",
            "Epoch 87/150\n",
            "3828/3828 [==============================] - 1s 152us/step - loss: 1.8944 - accuracy: 0.2432 - val_loss: 1.8437 - val_accuracy: 0.2665\n",
            "Epoch 88/150\n",
            "3828/3828 [==============================] - 1s 150us/step - loss: 1.8753 - accuracy: 0.2466 - val_loss: 1.8444 - val_accuracy: 0.2717\n",
            "Epoch 89/150\n",
            "3828/3828 [==============================] - 1s 144us/step - loss: 1.8697 - accuracy: 0.2573 - val_loss: 1.8427 - val_accuracy: 0.2685\n",
            "Epoch 90/150\n",
            "3828/3828 [==============================] - 1s 143us/step - loss: 1.8823 - accuracy: 0.2435 - val_loss: 1.8457 - val_accuracy: 0.2727\n",
            "Epoch 91/150\n",
            "3828/3828 [==============================] - 1s 146us/step - loss: 1.8778 - accuracy: 0.2591 - val_loss: 1.8356 - val_accuracy: 0.2602\n",
            "Epoch 92/150\n",
            "3828/3828 [==============================] - 1s 161us/step - loss: 1.8878 - accuracy: 0.2505 - val_loss: 1.8345 - val_accuracy: 0.2654\n",
            "Epoch 93/150\n",
            "3828/3828 [==============================] - 1s 142us/step - loss: 1.8917 - accuracy: 0.2589 - val_loss: 1.8364 - val_accuracy: 0.2738\n",
            "Epoch 94/150\n",
            "3828/3828 [==============================] - 1s 140us/step - loss: 1.8895 - accuracy: 0.2401 - val_loss: 1.8338 - val_accuracy: 0.2800\n",
            "Epoch 95/150\n",
            "3828/3828 [==============================] - 1s 137us/step - loss: 1.8736 - accuracy: 0.2584 - val_loss: 1.8345 - val_accuracy: 0.2685\n",
            "Epoch 96/150\n",
            "3828/3828 [==============================] - 1s 138us/step - loss: 1.8823 - accuracy: 0.2516 - val_loss: 1.8335 - val_accuracy: 0.2759\n",
            "Epoch 97/150\n",
            "3828/3828 [==============================] - 1s 136us/step - loss: 1.8772 - accuracy: 0.2544 - val_loss: 1.8301 - val_accuracy: 0.2759\n",
            "Epoch 98/150\n",
            "3828/3828 [==============================] - 1s 139us/step - loss: 1.8741 - accuracy: 0.2505 - val_loss: 1.8273 - val_accuracy: 0.2780\n",
            "Epoch 99/150\n",
            "3828/3828 [==============================] - 1s 138us/step - loss: 1.8581 - accuracy: 0.2591 - val_loss: 1.8291 - val_accuracy: 0.2748\n",
            "Epoch 100/150\n",
            "3828/3828 [==============================] - 1s 144us/step - loss: 1.8768 - accuracy: 0.2476 - val_loss: 1.8323 - val_accuracy: 0.2644\n",
            "Epoch 101/150\n",
            "3828/3828 [==============================] - 1s 142us/step - loss: 1.8738 - accuracy: 0.2435 - val_loss: 1.8247 - val_accuracy: 0.2706\n",
            "Epoch 102/150\n",
            "3828/3828 [==============================] - 1s 140us/step - loss: 1.8651 - accuracy: 0.2557 - val_loss: 1.8264 - val_accuracy: 0.2696\n",
            "Epoch 103/150\n",
            "3828/3828 [==============================] - 1s 138us/step - loss: 1.8711 - accuracy: 0.2542 - val_loss: 1.8176 - val_accuracy: 0.2748\n",
            "Epoch 104/150\n",
            "3828/3828 [==============================] - 1s 138us/step - loss: 1.8624 - accuracy: 0.2615 - val_loss: 1.8167 - val_accuracy: 0.2842\n",
            "Epoch 105/150\n",
            "3828/3828 [==============================] - 1s 140us/step - loss: 1.8739 - accuracy: 0.2594 - val_loss: 1.8153 - val_accuracy: 0.2780\n",
            "Epoch 106/150\n",
            "3828/3828 [==============================] - 1s 138us/step - loss: 1.8651 - accuracy: 0.2594 - val_loss: 1.8136 - val_accuracy: 0.2905\n",
            "Epoch 107/150\n",
            "3828/3828 [==============================] - 1s 137us/step - loss: 1.8637 - accuracy: 0.2604 - val_loss: 1.8184 - val_accuracy: 0.2748\n",
            "Epoch 108/150\n",
            "3828/3828 [==============================] - 1s 136us/step - loss: 1.8674 - accuracy: 0.2524 - val_loss: 1.8140 - val_accuracy: 0.2748\n",
            "Epoch 109/150\n",
            "3828/3828 [==============================] - 1s 139us/step - loss: 1.8629 - accuracy: 0.2628 - val_loss: 1.8105 - val_accuracy: 0.2853\n",
            "Epoch 110/150\n",
            "3828/3828 [==============================] - 1s 139us/step - loss: 1.8481 - accuracy: 0.2602 - val_loss: 1.8130 - val_accuracy: 0.2769\n",
            "Epoch 111/150\n",
            "3828/3828 [==============================] - 1s 143us/step - loss: 1.8720 - accuracy: 0.2531 - val_loss: 1.8083 - val_accuracy: 0.2874\n",
            "Epoch 112/150\n",
            "3828/3828 [==============================] - 1s 141us/step - loss: 1.8498 - accuracy: 0.2644 - val_loss: 1.8122 - val_accuracy: 0.2863\n",
            "Epoch 113/150\n",
            "3828/3828 [==============================] - 1s 146us/step - loss: 1.8494 - accuracy: 0.2602 - val_loss: 1.8073 - val_accuracy: 0.2842\n",
            "Epoch 114/150\n",
            "3828/3828 [==============================] - 1s 158us/step - loss: 1.8499 - accuracy: 0.2680 - val_loss: 1.8051 - val_accuracy: 0.2874\n",
            "Epoch 115/150\n",
            "3828/3828 [==============================] - 1s 163us/step - loss: 1.8525 - accuracy: 0.2547 - val_loss: 1.8046 - val_accuracy: 0.2874\n",
            "Epoch 116/150\n",
            "3828/3828 [==============================] - 1s 163us/step - loss: 1.8449 - accuracy: 0.2615 - val_loss: 1.8084 - val_accuracy: 0.2811\n",
            "Epoch 117/150\n",
            "3828/3828 [==============================] - 1s 144us/step - loss: 1.8509 - accuracy: 0.2683 - val_loss: 1.8001 - val_accuracy: 0.2790\n",
            "Epoch 118/150\n",
            "3828/3828 [==============================] - 1s 138us/step - loss: 1.8471 - accuracy: 0.2599 - val_loss: 1.8001 - val_accuracy: 0.2800\n",
            "Epoch 119/150\n",
            "3828/3828 [==============================] - 1s 141us/step - loss: 1.8419 - accuracy: 0.2756 - val_loss: 1.8028 - val_accuracy: 0.2863\n",
            "Epoch 120/150\n",
            "3828/3828 [==============================] - 1s 141us/step - loss: 1.8533 - accuracy: 0.2618 - val_loss: 1.7987 - val_accuracy: 0.2874\n",
            "Epoch 121/150\n",
            "3828/3828 [==============================] - 1s 139us/step - loss: 1.8523 - accuracy: 0.2654 - val_loss: 1.8047 - val_accuracy: 0.2748\n",
            "Epoch 122/150\n",
            "3828/3828 [==============================] - 1s 140us/step - loss: 1.8511 - accuracy: 0.2589 - val_loss: 1.8009 - val_accuracy: 0.2821\n",
            "Epoch 123/150\n",
            "3828/3828 [==============================] - 1s 137us/step - loss: 1.8405 - accuracy: 0.2696 - val_loss: 1.7974 - val_accuracy: 0.2790\n",
            "Epoch 124/150\n",
            "3828/3828 [==============================] - 1s 144us/step - loss: 1.8508 - accuracy: 0.2678 - val_loss: 1.7974 - val_accuracy: 0.2853\n",
            "Epoch 125/150\n",
            "3828/3828 [==============================] - 1s 136us/step - loss: 1.8541 - accuracy: 0.2652 - val_loss: 1.8073 - val_accuracy: 0.2800\n",
            "Epoch 126/150\n",
            "3828/3828 [==============================] - 1s 140us/step - loss: 1.8478 - accuracy: 0.2631 - val_loss: 1.7975 - val_accuracy: 0.2780\n",
            "Epoch 127/150\n",
            "3828/3828 [==============================] - 1s 135us/step - loss: 1.8419 - accuracy: 0.2641 - val_loss: 1.7979 - val_accuracy: 0.2821\n",
            "Epoch 128/150\n",
            "3828/3828 [==============================] - 1s 139us/step - loss: 1.8436 - accuracy: 0.2667 - val_loss: 1.7949 - val_accuracy: 0.2915\n",
            "Epoch 129/150\n",
            "3828/3828 [==============================] - 1s 135us/step - loss: 1.8257 - accuracy: 0.2746 - val_loss: 1.7923 - val_accuracy: 0.2769\n",
            "Epoch 130/150\n",
            "3828/3828 [==============================] - 1s 144us/step - loss: 1.8448 - accuracy: 0.2646 - val_loss: 1.7917 - val_accuracy: 0.2821\n",
            "Epoch 131/150\n",
            "3828/3828 [==============================] - 1s 141us/step - loss: 1.8410 - accuracy: 0.2662 - val_loss: 1.7934 - val_accuracy: 0.2853\n",
            "Epoch 132/150\n",
            "3828/3828 [==============================] - 1s 137us/step - loss: 1.8463 - accuracy: 0.2628 - val_loss: 1.7896 - val_accuracy: 0.2832\n",
            "Epoch 133/150\n",
            "3828/3828 [==============================] - 1s 141us/step - loss: 1.8421 - accuracy: 0.2612 - val_loss: 1.7937 - val_accuracy: 0.2759\n",
            "Epoch 134/150\n",
            "3828/3828 [==============================] - 1s 138us/step - loss: 1.8366 - accuracy: 0.2732 - val_loss: 1.7850 - val_accuracy: 0.2811\n",
            "Epoch 135/150\n",
            "3828/3828 [==============================] - 1s 138us/step - loss: 1.8334 - accuracy: 0.2766 - val_loss: 1.7895 - val_accuracy: 0.2874\n",
            "Epoch 136/150\n",
            "3828/3828 [==============================] - 1s 140us/step - loss: 1.8386 - accuracy: 0.2691 - val_loss: 1.7898 - val_accuracy: 0.2863\n",
            "Epoch 137/150\n",
            "3828/3828 [==============================] - 1s 151us/step - loss: 1.8350 - accuracy: 0.2589 - val_loss: 1.7913 - val_accuracy: 0.2863\n",
            "Epoch 138/150\n",
            "3828/3828 [==============================] - 1s 136us/step - loss: 1.8290 - accuracy: 0.2706 - val_loss: 1.7963 - val_accuracy: 0.2748\n",
            "Epoch 139/150\n",
            "3828/3828 [==============================] - 1s 142us/step - loss: 1.8253 - accuracy: 0.2759 - val_loss: 1.7848 - val_accuracy: 0.2853\n",
            "Epoch 140/150\n",
            "3828/3828 [==============================] - 1s 137us/step - loss: 1.8357 - accuracy: 0.2675 - val_loss: 1.7945 - val_accuracy: 0.2811\n",
            "Epoch 141/150\n",
            "3828/3828 [==============================] - 1s 138us/step - loss: 1.8309 - accuracy: 0.2719 - val_loss: 1.7876 - val_accuracy: 0.2874\n",
            "Epoch 142/150\n",
            "3828/3828 [==============================] - 1s 137us/step - loss: 1.8397 - accuracy: 0.2620 - val_loss: 1.7859 - val_accuracy: 0.2874\n",
            "Epoch 143/150\n",
            "3828/3828 [==============================] - 1s 141us/step - loss: 1.8363 - accuracy: 0.2743 - val_loss: 1.7844 - val_accuracy: 0.2905\n",
            "Epoch 144/150\n",
            "3828/3828 [==============================] - 1s 137us/step - loss: 1.8303 - accuracy: 0.2764 - val_loss: 1.7869 - val_accuracy: 0.2811\n",
            "Epoch 145/150\n",
            "3828/3828 [==============================] - 1s 138us/step - loss: 1.8274 - accuracy: 0.2759 - val_loss: 1.7903 - val_accuracy: 0.2821\n",
            "Epoch 146/150\n",
            "3828/3828 [==============================] - 1s 136us/step - loss: 1.8254 - accuracy: 0.2785 - val_loss: 1.7816 - val_accuracy: 0.2894\n",
            "Epoch 147/150\n",
            "3828/3828 [==============================] - 1s 149us/step - loss: 1.8225 - accuracy: 0.2691 - val_loss: 1.7809 - val_accuracy: 0.2874\n",
            "Epoch 148/150\n",
            "3828/3828 [==============================] - 1s 160us/step - loss: 1.8342 - accuracy: 0.2625 - val_loss: 1.7749 - val_accuracy: 0.2832\n",
            "Epoch 149/150\n",
            "3828/3828 [==============================] - 1s 159us/step - loss: 1.8322 - accuracy: 0.2746 - val_loss: 1.7808 - val_accuracy: 0.2821\n",
            "Epoch 150/150\n",
            "3828/3828 [==============================] - 1s 151us/step - loss: 1.8341 - accuracy: 0.2725 - val_loss: 1.7787 - val_accuracy: 0.2853\n"
          ],
          "name": "stdout"
        }
      ]
    },
    {
      "cell_type": "code",
      "metadata": {
        "id": "S4aJ39kNftqe",
        "colab_type": "code",
        "colab": {}
      },
      "source": [
        "from keras.models import load_model"
      ],
      "execution_count": 0,
      "outputs": []
    },
    {
      "cell_type": "code",
      "metadata": {
        "id": "xCYDi0vHeBs8",
        "colab_type": "code",
        "outputId": "0b9da69b-9c46-4ca0-8d79-73f08e23dcad",
        "colab": {
          "base_uri": "https://localhost:8080/",
          "height": 54
        }
      },
      "source": [
        "lpc_accuracy = cnnhistory.history['val_accuracy']\n",
        "lpc_model = model\n",
        "print(lpc_accuracy)"
      ],
      "execution_count": 0,
      "outputs": [
        {
          "output_type": "stream",
          "text": [
            "[0.12330198287963867, 0.1295715719461441, 0.16718913614749908, 0.19435736536979675, 0.2068965584039688, 0.20585161447525024, 0.19749216735363007, 0.21003134548664093, 0.20794148743152618, 0.21630093455314636, 0.215256005525589, 0.21630093455314636, 0.21734587848186493, 0.22048066556453705, 0.22675025463104248, 0.21943573653697968, 0.215256005525589, 0.215256005525589, 0.2257053256034851, 0.22675025463104248, 0.222570538520813, 0.2257053256034851, 0.22884012758731842, 0.23092998564243317, 0.22675025463104248, 0.22048066556453705, 0.2330198585987091, 0.23510971665382385, 0.23824451863765717, 0.23406478762626648, 0.23510971665382385, 0.24346917867660522, 0.23197491466999054, 0.23824451863765717, 0.2518286406993866, 0.2330198585987091, 0.24869383871555328, 0.25287356972694397, 0.24869383871555328, 0.2476489096879959, 0.24973876774311066, 0.24555903673171997, 0.25705328583717346, 0.2518286406993866, 0.2445141077041626, 0.25705328583717346, 0.25809821486473083, 0.26123303174972534, 0.25705328583717346, 0.2549634277820587, 0.25391849875450134, 0.2560083568096161, 0.25809821486473083, 0.2633228898048401, 0.2507837116718292, 0.2549634277820587, 0.2695924639701843, 0.2633228898048401, 0.25391849875450134, 0.26123303174972534, 0.25809821486473083, 0.2622779607772827, 0.2622779607772827, 0.2706374228000641, 0.26854753494262695, 0.2675026059150696, 0.25809821486473083, 0.26541274785995483, 0.2601880729198456, 0.26854753494262695, 0.2706374228000641, 0.2695924639701843, 0.27272728085517883, 0.26854753494262695, 0.26854753494262695, 0.2664576768875122, 0.2769069969654083, 0.2821316719055176, 0.2779519259929657, 0.2737722098827362, 0.27586206793785095, 0.2737722098827362, 0.2842215299606323, 0.2810867428779602, 0.2695924639701843, 0.2695924639701843, 0.2664576768875122, 0.27168235182762146, 0.26854753494262695, 0.27272728085517883, 0.2601880729198456, 0.26541274785995483, 0.2737722098827362, 0.28004178404808044, 0.26854753494262695, 0.27586206793785095, 0.27586206793785095, 0.2779519259929657, 0.2748171389102936, 0.26436781883239746, 0.2706374228000641, 0.2695924639701843, 0.2748171389102936, 0.2842215299606323, 0.2779519259929657, 0.29049110412597656, 0.2748171389102936, 0.2748171389102936, 0.2852664589881897, 0.2769069969654083, 0.28735631704330444, 0.28631138801574707, 0.2842215299606323, 0.28735631704330444, 0.28735631704330444, 0.2810867428779602, 0.27899685502052307, 0.28004178404808044, 0.28631138801574707, 0.28735631704330444, 0.2748171389102936, 0.2821316719055176, 0.27899685502052307, 0.2852664589881897, 0.28004178404808044, 0.2779519259929657, 0.2821316719055176, 0.2915360629558563, 0.2769069969654083, 0.2821316719055176, 0.2852664589881897, 0.28317660093307495, 0.27586206793785095, 0.2810867428779602, 0.28735631704330444, 0.28631138801574707, 0.28631138801574707, 0.2748171389102936, 0.2852664589881897, 0.2810867428779602, 0.28735631704330444, 0.28735631704330444, 0.29049110412597656, 0.2810867428779602, 0.2821316719055176, 0.2894461750984192, 0.28735631704330444, 0.28317660093307495, 0.2821316719055176, 0.2852664589881897]\n"
          ],
          "name": "stdout"
        }
      ]
    },
    {
      "cell_type": "code",
      "metadata": {
        "id": "Zf0YxFgkiC5A",
        "colab_type": "code",
        "outputId": "93fee605-7db2-461e-aab4-d2b65bc60d6e",
        "colab": {
          "base_uri": "https://localhost:8080/",
          "height": 295
        }
      },
      "source": [
        "plt.plot(cnnhistory.history['accuracy'],'b', linestyle='-', label='train')\n",
        "plt.plot(cnnhistory.history['val_accuracy'],'g', linestyle='-', label='test')\n",
        "plt.title('CNN model accuracy(lpc)')\n",
        "plt.ylabel('accuracy')\n",
        "plt.xlabel('epoch')\n",
        "plt.legend()\n",
        "plt.show()"
      ],
      "execution_count": 0,
      "outputs": [
        {
          "output_type": "display_data",
          "data": {
            "image/png": "[encoded data removed]",
            "text/plain": [
              "<Figure size 432x288 with 1 Axes>"
            ]
          },
          "metadata": {
            "tags": [],
            "needs_background": "light"
          }
        }
      ]
    },
    {
      "cell_type": "code",
      "metadata": {
        "id": "tSAVjmPtivnr",
        "colab_type": "code",
        "outputId": "aed3c7a2-1c47-400a-fb97-a9358602f24e",
        "colab": {
          "base_uri": "https://localhost:8080/",
          "height": 52
        }
      },
      "source": [
        "lpc_model = load_model('/content/gdrive/My Drive/Minor_Sem6/CNN Models(of features)/LPC.h5')\n",
        "loss, acc = lpc_model.evaluate(x_testcnn, y_test_lpc)\n",
        "print(\"Restored model, accuracy: {:5.2f}%\".format(100*acc))\n",
        "l=acc\n"
      ],
      "execution_count": 39,
      "outputs": [
        {
          "output_type": "stream",
          "text": [
            "957/957 [==============================] - 0s 126us/step\n",
            "Restored model, accuracy: 28.53%\n"
          ],
          "name": "stdout"
        }
      ]
    },
    {
      "cell_type": "markdown",
      "metadata": {
        "id": "mmdsCj-lgICr",
        "colab_type": "text"
      },
      "source": [
        "# Final result"
      ]
    },
    {
      "cell_type": "code",
      "metadata": {
        "id": "QrtUmhBmh88t",
        "colab_type": "code",
        "colab": {}
      },
      "source": [
        "# printing all CNN Classifiers accuracy\n",
        "print(mfcc_ssc_lpc_accuracy)\n",
        "print(mfcc_ssc_accuracy)\n",
        "print(mfcc_lpc_accuracy)\n",
        "print(ssc_lpc_accuracy)\n",
        "print(mfcc_accuracy)\n",
        "print(ssc_accuracy)\n",
        "print(lpc_accuracy)"
      ],
      "execution_count": 0,
      "outputs": []
    },
    {
      "cell_type": "code",
      "metadata": {
        "id": "i9IWi3Hgh-Lo",
        "colab_type": "code",
        "outputId": "3a203bfb-bf96-45b9-f621-0da0b8c4bc9e",
        "colab": {
          "base_uri": "https://localhost:8080/",
          "height": 295
        }
      },
      "source": [
        "# Plotting CNN result\n",
        "\n",
        "\n",
        "plt.plot( mfcc_ssc_lpc_accuracy, 'r', linestyle='-', label='MFCC+SSC+LPC')\n",
        "plt.plot( mfcc_ssc_accuracy, 'b', linestyle='--', label='MFCC+SSC')\n",
        "plt.plot( mfcc_lpc_accuracy, 'g', linestyle='--', label='MFCC+LPC')\n",
        "plt.plot( ssc_lpc_accuracy, 'y', linestyle='--', label='SSC+LPC')\n",
        "plt.plot( mfcc_accuracy, 'c', linestyle=':', label='MFCC')\n",
        "plt.plot( ssc_accuracy, 'm', linestyle=':', label='SSC')\n",
        "plt.plot( lpc_accuracy, 'k', linestyle=':', label='LPC')\n",
        "plt.title('CNN')\n",
        "plt.xlabel('epoch')\n",
        "plt.ylabel('Accuracy')\n",
        "plt.legend()\n",
        "plt.show()"
      ],
      "execution_count": 0,
      "outputs": [
        {
          "output_type": "display_data",
          "data": {
            "image/png": "[encoded data removed]",
            "text/plain": [
              "<Figure size 432x288 with 1 Axes>"
            ]
          },
          "metadata": {
            "tags": [],
            "needs_background": "light"
          }
        }
      ]
    },
    {
      "cell_type": "code",
      "metadata": {
        "id": "f6rZUjquo1zt",
        "colab_type": "code",
        "colab": {}
      },
      "source": [
        "label = ['MFCC+SSC+LPC','MFCC+SSC','MFCC+LPC','SSC+LPC','MFCC','SSC','LPC']\n",
        "val=[msl,ms,ml,sl,m,s,l]\n",
        "index = np.arange(len(label))\n",
        "plt.bar(index, val)\n",
        "# plt.text(index,val,str(index))\n",
        "plt.xlabel('Features', fontsize=9)\n",
        "plt.ylabel('Accuracy', fontsize=9)\n",
        "plt.xticks(index, label, fontsize=10, rotation=45)\n",
        "plt.title('CNN')\n",
        "plt.show()"
      ],
      "execution_count": 0,
      "outputs": []
    },
    {
      "cell_type": "code",
      "metadata": {
        "id": "CRnTODFyAJb8",
        "colab_type": "code",
        "colab": {
          "base_uri": "https://localhost:8080/",
          "height": 351
        },
        "outputId": "ff003bc1-8dcb-4dc7-a7ce-e2af3de7926e"
      },
      "source": [
        "import matplotlib.pyplot as plt\n",
        "x = ['MFCC+SSC+LPC','MFCC+SSC','MFCC+LPC','SSC+LPC','MFCC','SSC','LPC']\n",
        "popularity = [msl,ms,ml,sl,m,s,l]\n",
        "x_pos = [i for i, _ in enumerate(x)]\n",
        "\n",
        "fig, ax = plt.subplots()\n",
        "rects1 = ax.bar(x_pos, popularity, color='#36abf1')\n",
        "plt.xlabel('Features')\n",
        "plt.ylabel('Accuracy')\n",
        "plt.title('CNN')\n",
        "plt.xticks(x_pos, x ,fontsize=10, rotation=45)\n",
        "\n",
        "plt.minorticks_on()\n",
        "plt.grid(which='major', linestyle='-', linewidth='0.5', color='blue')\n",
        "plt.grid(which='minor', linestyle=':', linewidth='0.5', color='black')\n",
        "def autolabel(rects):\n",
        "    \n",
        "    for rect in rects:\n",
        "        height = rect.get_height()\n",
        "        ax.text(rect.get_x() + rect.get_width()/2., 0.92*height,'%.2f' % float(height),ha='center', va='bottom')\n",
        "autolabel(rects1)\n",
        "\n",
        "plt.show()\n"
      ],
      "execution_count": 59,
      "outputs": [
        {
          "output_type": "display_data",
          "data": {
            "image/png": "[encoded data removed]",
            "text/plain": [
              "<Figure size 432x288 with 1 Axes>"
            ]
          },
          "metadata": {
            "tags": [],
            "needs_background": "light"
          }
        }
      ]
    }
  ]
}